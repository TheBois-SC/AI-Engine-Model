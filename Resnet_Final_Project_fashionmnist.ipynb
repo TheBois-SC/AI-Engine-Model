{
  "cells": [
    {
      "cell_type": "code",
      "execution_count": 1,
      "id": "loaded-university",
      "metadata": {
        "execution": {
          "iopub.execute_input": "2021-04-18T13:55:41.420491Z",
          "iopub.status.busy": "2021-04-18T13:55:41.419706Z",
          "iopub.status.idle": "2021-04-18T13:55:43.895455Z",
          "shell.execute_reply": "2021-04-18T13:55:43.894632Z"
        },
        "papermill": {
          "duration": 2.512976,
          "end_time": "2021-04-18T13:55:43.895644",
          "exception": false,
          "start_time": "2021-04-18T13:55:41.382668",
          "status": "completed"
        },
        "tags": [],
        "id": "loaded-university"
      },
      "outputs": [],
      "source": [
        "import pandas as pd\n",
        "import numpy as np\n",
        "\n",
        "from sklearn.model_selection import train_test_split\n",
        "\n",
        "import torch\n",
        "import torch.nn as nn\n",
        "import torchvision\n",
        "from torchvision.transforms import transforms\n",
        "from torch.utils.data import Dataset, DataLoader, ConcatDataset\n",
        "\n",
        "from PIL import Image\n",
        "from typing import cast, Any, Union, Dict, List\n",
        "import time\n",
        "import random\n",
        "import copy \n",
        " \n",
        "import matplotlib.pyplot as plt\n",
        "\n",
        "import os\n",
        "import shutil\n",
        "from collections import OrderedDict\n",
        "\n",
        "\n",
        "\n",
        "device = torch.device('cuda:0' if torch.cuda.is_available() else 'cpu')"
      ]
    },
    {
      "cell_type": "code",
      "source": [
        "import numpy as np\n",
        "from google.colab import files\n",
        "import matplotlib.image as mpimg\n",
        "import matplotlib.pyplot as plt\n",
        "import matplotlib.image as mpimg\n",
        "import cv2 as cv"
      ],
      "metadata": {
        "id": "L_IUk229ou5C"
      },
      "id": "L_IUk229ou5C",
      "execution_count": 2,
      "outputs": []
    },
    {
      "cell_type": "markdown",
      "id": "reduced-combining",
      "metadata": {
        "papermill": {
          "duration": 0.026544,
          "end_time": "2021-04-18T13:55:43.950006",
          "exception": false,
          "start_time": "2021-04-18T13:55:43.923462",
          "status": "completed"
        },
        "tags": [],
        "id": "reduced-combining"
      },
      "source": [
        "# Loading data"
      ]
    },
    {
      "cell_type": "markdown",
      "id": "confident-springfield",
      "metadata": {
        "papermill": {
          "duration": 0.026683,
          "end_time": "2021-04-18T13:55:44.007154",
          "exception": false,
          "start_time": "2021-04-18T13:55:43.980471",
          "status": "completed"
        },
        "tags": [],
        "id": "confident-springfield"
      },
      "source": [
        "**Let's see what the data in the pandas table looks like**"
      ]
    },
    {
      "cell_type": "code",
      "execution_count": 3,
      "id": "resident-selling",
      "metadata": {
        "execution": {
          "iopub.execute_input": "2021-04-18T13:55:44.067013Z",
          "iopub.status.busy": "2021-04-18T13:55:44.066290Z",
          "iopub.status.idle": "2021-04-18T13:55:51.159739Z",
          "shell.execute_reply": "2021-04-18T13:55:51.159185Z"
        },
        "papermill": {
          "duration": 7.125533,
          "end_time": "2021-04-18T13:55:51.159932",
          "exception": false,
          "start_time": "2021-04-18T13:55:44.034399",
          "status": "completed"
        },
        "tags": [],
        "id": "resident-selling",
        "outputId": "5d08b7b6-df5d-4327-b621-881e80e47457",
        "colab": {
          "base_uri": "https://localhost:8080/",
          "height": 423,
          "referenced_widgets": [
            "99a86657a0964e61be010a0607dc31ef",
            "40abecb428474b389910eec777d6bad1",
            "ba4aec444af04dd08218ae6ac6388c61",
            "6f7e6113f0bd475a80a6a13423c8d1b2",
            "356a64c176994b4db39cc0fd9313d5ba",
            "3d0dd5c3c8b148eb8cc26d156bdd35d1",
            "0047659cf0e24038894eee1a104df9dc",
            "6be4f37227fa430b83c775e82c066342",
            "cd6860498de144a1afd7e30c814a8731",
            "5069b10fe717411eb22fb545f9c7e35c",
            "17b6be4a1ba44416a8861755f6d8934f",
            "375f8b97bf834a899d863bd11963407d",
            "31180871681849259d5102daf4b1f5c4",
            "3b7e2b99553e4205a9aa4519c8415934",
            "d7011992e1d44a57a4f1ebf303480c0e",
            "6d1abcc9caed420abd3b7bede580c1dd",
            "d98c4fa1c66a497f8f1f9e8583271520",
            "f2a8da4cfe4e409b8599ae966b13609f",
            "2583591160184f93bb6dba608c6a327d",
            "046c0b92d81e46dbb37ebbc675da5f24",
            "c1dd4db5f4b7442abad7e91a8c54c6cd",
            "a2251c5e79474e8dad2b5d80b72f9927",
            "8fe928ccfbb141e8813ad5ec94ceb615",
            "087282481d4d48778dffa09f0ae2ea35",
            "47a17e2322674c02bcf5fb751aaafeed",
            "642742562daa4821a49a8cccc55c8106",
            "3926bd41f4e843d1ae1137a23a3fc50e",
            "ce471bdae09e4eb6ad481bb4de649ca7",
            "67f1b869135c48deba2f00a1ad73f3d4",
            "1b781f64ffce48bc9c91f45eea3db30c",
            "0d6529dcbac54d10aba6e8be8b2daf9f",
            "439b223ce7204a3e8ee07b366eef5c28",
            "f7103bd0f6ac447e9353f535fa915345",
            "584a26ec325f4e5aae89de4c9bbe9f42",
            "bdea1f24121d4ff7ab999dc21e2ce925",
            "4358263f257b43e7957c81968dc7796a",
            "cca84065174e4a24b2e6e743affbe6cd",
            "838f090a9ffa4ad990ee0f45f86e1308",
            "03154ce3cdf4480998ff5a2dba713e04",
            "f19679c1ddfe41ecbbc9893f1d7d9eb0",
            "71b00b9fb27a422e980ae9c799930162",
            "eac5c57385ff4ef4aaad96a3202e0ba1",
            "9b822c3e6d794f9fa5e610ff9c6eaabd",
            "3276c967c6cf4e86bc486862c2c68ab5"
          ]
        }
      },
      "outputs": [
        {
          "output_type": "stream",
          "name": "stdout",
          "text": [
            "Downloading http://fashion-mnist.s3-website.eu-central-1.amazonaws.com/train-images-idx3-ubyte.gz\n",
            "Downloading http://fashion-mnist.s3-website.eu-central-1.amazonaws.com/train-images-idx3-ubyte.gz to ./FashionMNIST/raw/train-images-idx3-ubyte.gz\n"
          ]
        },
        {
          "output_type": "display_data",
          "data": {
            "text/plain": [
              "  0%|          | 0/26421880 [00:00<?, ?it/s]"
            ],
            "application/vnd.jupyter.widget-view+json": {
              "version_major": 2,
              "version_minor": 0,
              "model_id": "99a86657a0964e61be010a0607dc31ef"
            }
          },
          "metadata": {}
        },
        {
          "output_type": "stream",
          "name": "stdout",
          "text": [
            "Extracting ./FashionMNIST/raw/train-images-idx3-ubyte.gz to ./FashionMNIST/raw\n",
            "\n",
            "Downloading http://fashion-mnist.s3-website.eu-central-1.amazonaws.com/train-labels-idx1-ubyte.gz\n",
            "Downloading http://fashion-mnist.s3-website.eu-central-1.amazonaws.com/train-labels-idx1-ubyte.gz to ./FashionMNIST/raw/train-labels-idx1-ubyte.gz\n"
          ]
        },
        {
          "output_type": "display_data",
          "data": {
            "text/plain": [
              "  0%|          | 0/29515 [00:00<?, ?it/s]"
            ],
            "application/vnd.jupyter.widget-view+json": {
              "version_major": 2,
              "version_minor": 0,
              "model_id": "375f8b97bf834a899d863bd11963407d"
            }
          },
          "metadata": {}
        },
        {
          "output_type": "stream",
          "name": "stdout",
          "text": [
            "Extracting ./FashionMNIST/raw/train-labels-idx1-ubyte.gz to ./FashionMNIST/raw\n",
            "\n",
            "Downloading http://fashion-mnist.s3-website.eu-central-1.amazonaws.com/t10k-images-idx3-ubyte.gz\n",
            "Downloading http://fashion-mnist.s3-website.eu-central-1.amazonaws.com/t10k-images-idx3-ubyte.gz to ./FashionMNIST/raw/t10k-images-idx3-ubyte.gz\n"
          ]
        },
        {
          "output_type": "display_data",
          "data": {
            "text/plain": [
              "  0%|          | 0/4422102 [00:00<?, ?it/s]"
            ],
            "application/vnd.jupyter.widget-view+json": {
              "version_major": 2,
              "version_minor": 0,
              "model_id": "8fe928ccfbb141e8813ad5ec94ceb615"
            }
          },
          "metadata": {}
        },
        {
          "output_type": "stream",
          "name": "stdout",
          "text": [
            "Extracting ./FashionMNIST/raw/t10k-images-idx3-ubyte.gz to ./FashionMNIST/raw\n",
            "\n",
            "Downloading http://fashion-mnist.s3-website.eu-central-1.amazonaws.com/t10k-labels-idx1-ubyte.gz\n",
            "Downloading http://fashion-mnist.s3-website.eu-central-1.amazonaws.com/t10k-labels-idx1-ubyte.gz to ./FashionMNIST/raw/t10k-labels-idx1-ubyte.gz\n"
          ]
        },
        {
          "output_type": "display_data",
          "data": {
            "text/plain": [
              "  0%|          | 0/5148 [00:00<?, ?it/s]"
            ],
            "application/vnd.jupyter.widget-view+json": {
              "version_major": 2,
              "version_minor": 0,
              "model_id": "584a26ec325f4e5aae89de4c9bbe9f42"
            }
          },
          "metadata": {}
        },
        {
          "output_type": "stream",
          "name": "stdout",
          "text": [
            "Extracting ./FashionMNIST/raw/t10k-labels-idx1-ubyte.gz to ./FashionMNIST/raw\n",
            "\n"
          ]
        }
      ],
      "source": [
        "train_transform = transforms.Compose([\n",
        "    transforms.Resize((224,224)),\n",
        "    transforms.RandomHorizontalFlip(),\n",
        "    transforms.RandomVerticalFlip(),\n",
        "    # transforms.RandomRotation(15),\n",
        "    transforms.RandomAdjustSharpness(2, p=1),\n",
        "    transforms.ToTensor()\n",
        "    ])\n",
        "\n",
        "test_transform = transforms.Compose([\n",
        "    transforms.Resize((224,224)),\n",
        "    transforms.RandomAdjustSharpness(2, p=1),\n",
        "    transforms.ToTensor()\n",
        "    ])\n",
        "\n",
        "# import data\n",
        "train_set = torchvision.datasets.FashionMNIST(root=\"./\", download=True,\n",
        "                                              train=True,\n",
        "                                              transform=train_transform)\n",
        "\n",
        "test_set = torchvision.datasets.FashionMNIST(root=\"./\", download=True,\n",
        "                                              train=False,\n",
        "                                              transform=test_transform)\n",
        "\n",
        "train_set, val_set = torch.utils.data.random_split(train_set, [int(len(train_set) * 0.8), int(len(train_set) * 0.2)])\n",
        "\n",
        "train_dataloader = torch.utils.data.DataLoader(train_set,\n",
        "                                        batch_size = 100,\n",
        "                                        shuffle = True)\n",
        "\n",
        "val_dataloader = torch.utils.data.DataLoader(val_set,\n",
        "                                        batch_size = 100)\n",
        "\n",
        "loaders = {\n",
        "    'train': train_dataloader,\n",
        "    'val': val_dataloader\n",
        "}"
      ]
    },
    {
      "cell_type": "code",
      "source": [
        "#for metrics\n",
        "dataset_sizes = { 'train': len(train_set), 'val': len(val_set)}\n",
        "\n",
        "#for normalization\n",
        "dataset_sizes_for_norm = {'train': len(train_set), 'val': len(val_set)}\n",
        "loaders_for_norm = {\n",
        "    'train': DataLoader(train_set, batch_size=100, shuffle = True, num_workers=4),\n",
        "    'val': DataLoader(val_set, batch_size=100, shuffle = True, num_workers=4)\n",
        "}\n",
        "\n",
        "#show\n",
        "dataset_sizes, dataset_sizes_for_norm"
      ],
      "metadata": {
        "id": "uzsCUsBgHtpY",
        "colab": {
          "base_uri": "https://localhost:8080/"
        },
        "outputId": "18b7606d-f567-4b96-fb87-e61aa8f5742a"
      },
      "id": "uzsCUsBgHtpY",
      "execution_count": 4,
      "outputs": [
        {
          "output_type": "stream",
          "name": "stderr",
          "text": [
            "/usr/local/lib/python3.7/dist-packages/torch/utils/data/dataloader.py:566: UserWarning: This DataLoader will create 4 worker processes in total. Our suggested max number of worker in current system is 2, which is smaller than what this DataLoader is going to create. Please be aware that excessive worker creation might get DataLoader running slow or even freeze, lower the worker number to avoid potential slowness/freeze if necessary.\n",
            "  cpuset_checked))\n"
          ]
        },
        {
          "output_type": "execute_result",
          "data": {
            "text/plain": [
              "({'train': 48000, 'val': 12000}, {'train': 48000, 'val': 12000})"
            ]
          },
          "metadata": {},
          "execution_count": 4
        }
      ]
    },
    {
      "cell_type": "code",
      "source": [
        "# for x in ['train', 'val']:\n",
        "   \n",
        "#   #number of pixels in the dataset = number of all pixels in one object * number of all objects in the dataset\n",
        "#   num_pxl = dataset_sizes_for_norm[x]*28*28\n",
        "    \n",
        "#   #we go through the butches and sum up the pixels of the objects, \n",
        "#   #which then divide the sum by the number of all pixels to calculate the average\n",
        "#   total_sum = 0\n",
        "#   for batch in loaders_for_norm[x]: total_sum += batch[0].sum()\n",
        "#   mean = total_sum / num_pxl\n",
        "\n",
        "#     #we calculate the standard deviation using the formula that I indicated above\n",
        "#   sum_sqrt = 0\n",
        "#   for batch in loaders_for_norm[x]: sum_sqrt += ((batch[0] - mean).pow(2)).sum()\n",
        "#   std = torch.sqrt(sum_sqrt / num_pxl)\n",
        "\n",
        "#   # print(f'{x} - mean: {mean}, std: {std}')"
      ],
      "metadata": {
        "id": "rGGEQ7ftWjvy"
      },
      "id": "rGGEQ7ftWjvy",
      "execution_count": 5,
      "outputs": []
    },
    {
      "cell_type": "markdown",
      "id": "adapted-joining",
      "metadata": {
        "papermill": {
          "duration": 0.028665,
          "end_time": "2021-04-18T13:56:11.096725",
          "exception": false,
          "start_time": "2021-04-18T13:56:11.068060",
          "status": "completed"
        },
        "tags": [],
        "id": "adapted-joining"
      },
      "source": [
        "**Let's see what the images look like**"
      ]
    },
    {
      "cell_type": "code",
      "execution_count": 7,
      "id": "lined-insider",
      "metadata": {
        "execution": {
          "iopub.execute_input": "2021-04-18T13:56:11.163569Z",
          "iopub.status.busy": "2021-04-18T13:56:11.162236Z",
          "iopub.status.idle": "2021-04-18T13:56:11.635237Z",
          "shell.execute_reply": "2021-04-18T13:56:11.634512Z"
        },
        "papermill": {
          "duration": 0.509314,
          "end_time": "2021-04-18T13:56:11.635399",
          "exception": false,
          "start_time": "2021-04-18T13:56:11.126085",
          "status": "completed"
        },
        "tags": [],
        "id": "lined-insider",
        "outputId": "6207d846-a5aa-4f0f-cf64-f728e966777b",
        "colab": {
          "base_uri": "https://localhost:8080/",
          "height": 286
        }
      },
      "outputs": [
        {
          "output_type": "execute_result",
          "data": {
            "text/plain": [
              "<matplotlib.image.AxesImage at 0x7fc5e66ec950>"
            ]
          },
          "metadata": {},
          "execution_count": 7
        },
        {
          "output_type": "display_data",
          "data": {
            "text/plain": [
              "<Figure size 432x288 with 1 Axes>"
            ],
            "image/png": "[encoded data removed]"
          },
          "metadata": {
            "needs_background": "light"
          }
        }
      ],
      "source": [
        "i = np.random.randint(50)\n",
        "x, y = next(iter(train_dataloader))\n",
        "plt.imshow(x[i].view(224,224))"
      ]
    },
    {
      "cell_type": "markdown",
      "id": "tired-supply",
      "metadata": {
        "papermill": {
          "duration": 0.03045,
          "end_time": "2021-04-18T13:56:11.696207",
          "exception": false,
          "start_time": "2021-04-18T13:56:11.665757",
          "status": "completed"
        },
        "tags": [],
        "id": "tired-supply"
      },
      "source": [
        "# Model"
      ]
    },
    {
      "cell_type": "code",
      "source": [
        "class ResidualBlock(nn.Module):\n",
        "    def __init__(self, in_channels, out_channels, stride = 1, downsample = None):\n",
        "        super(ResidualBlock, self).__init__()\n",
        "        self.conv1 = nn.Sequential(\n",
        "                        nn.Conv2d(in_channels, out_channels, kernel_size = 3, stride = stride, padding = 1),\n",
        "                        nn.BatchNorm2d(out_channels),\n",
        "                        nn.ReLU())\n",
        "        self.conv2 = nn.Sequential(\n",
        "                        nn.Conv2d(out_channels, out_channels, kernel_size = 3, stride = 1, padding = 1),\n",
        "                        nn.BatchNorm2d(out_channels))\n",
        "        self.downsample = downsample\n",
        "        self.relu = nn.ReLU()\n",
        "        self.out_channels = out_channels\n",
        "        \n",
        "    def forward(self, x):\n",
        "        residual = x\n",
        "        out = self.conv1(x)\n",
        "        out = self.conv2(out)\n",
        "        if self.downsample:\n",
        "            residual = self.downsample(x)\n",
        "        out += residual\n",
        "        out = self.relu(out)\n",
        "        return out"
      ],
      "metadata": {
        "id": "jur7qYTpO4nc"
      },
      "id": "jur7qYTpO4nc",
      "execution_count": 8,
      "outputs": []
    },
    {
      "cell_type": "markdown",
      "id": "median-interference",
      "metadata": {
        "papermill": {
          "duration": 0.030569,
          "end_time": "2021-04-18T13:56:11.757359",
          "exception": false,
          "start_time": "2021-04-18T13:56:11.726790",
          "status": "completed"
        },
        "tags": [],
        "id": "median-interference"
      },
      "source": []
    },
    {
      "cell_type": "code",
      "execution_count": 9,
      "id": "tutorial-pencil",
      "metadata": {
        "execution": {
          "iopub.execute_input": "2021-04-18T13:56:11.842480Z",
          "iopub.status.busy": "2021-04-18T13:56:11.841737Z",
          "iopub.status.idle": "2021-04-18T13:56:11.891519Z",
          "shell.execute_reply": "2021-04-18T13:56:11.890817Z"
        },
        "papermill": {
          "duration": 0.103583,
          "end_time": "2021-04-18T13:56:11.891691",
          "exception": false,
          "start_time": "2021-04-18T13:56:11.788108",
          "status": "completed"
        },
        "tags": [],
        "id": "tutorial-pencil"
      },
      "outputs": [],
      "source": [
        "class ResNet(nn.Module):\n",
        "    def __init__(self, block, layers, num_classes = 10):\n",
        "        super(ResNet, self).__init__()\n",
        "        self.inplanes = 64\n",
        "        self.conv1 = nn.Sequential(\n",
        "                        nn.Conv2d(1, 64, kernel_size = 7, stride = 2, padding = 3),\n",
        "                        nn.BatchNorm2d(64),\n",
        "                        nn.ReLU())\n",
        "        self.maxpool = nn.MaxPool2d(kernel_size = 3, stride = 2, padding = 1)\n",
        "        self.layer0 = self._make_layer(block, 64, layers[0], stride = 1)\n",
        "        self.layer1 = self._make_layer(block, 128, layers[1], stride = 2)\n",
        "        self.layer2 = self._make_layer(block, 256, layers[2], stride = 2)\n",
        "        self.layer3 = self._make_layer(block, 512, layers[3], stride = 2)\n",
        "        self.avgpool = nn.AvgPool2d(7, stride=1)\n",
        "        self.fc = nn.Linear(512, num_classes)\n",
        "        \n",
        "    def _make_layer(self, block, planes, blocks, stride=1):\n",
        "        downsample = None\n",
        "        if stride != 1 or self.inplanes != planes:\n",
        "            \n",
        "            downsample = nn.Sequential(\n",
        "                nn.Conv2d(self.inplanes, planes, kernel_size=1, stride=stride),\n",
        "                nn.BatchNorm2d(planes),\n",
        "            )\n",
        "        layers = []\n",
        "        layers.append(block(self.inplanes, planes, stride, downsample))\n",
        "        self.inplanes = planes\n",
        "        for i in range(1, blocks):\n",
        "            layers.append(block(self.inplanes, planes))\n",
        "\n",
        "        return nn.Sequential(*layers)\n",
        "    \n",
        "    \n",
        "    def forward(self, x):\n",
        "        x = self.conv1(x)\n",
        "        x = self.maxpool(x)\n",
        "        x = self.layer0(x)\n",
        "        x = self.layer1(x)\n",
        "        x = self.layer2(x)\n",
        "        x = self.layer3(x)\n",
        "\n",
        "        x = self.avgpool(x)\n",
        "        x = x.view(x.size(0), -1)\n",
        "        x = self.fc(x)\n",
        "\n",
        "        return x\n",
        "\n",
        "model = ResNet(ResidualBlock, [3, 4, 6, 3]).to(device)"
      ]
    },
    {
      "cell_type": "code",
      "source": [
        "model"
      ],
      "metadata": {
        "colab": {
          "base_uri": "https://localhost:8080/"
        },
        "id": "zLTuuCzl9LfY",
        "outputId": "05a33123-fbf0-49a6-9152-25affef60475"
      },
      "id": "zLTuuCzl9LfY",
      "execution_count": 10,
      "outputs": [
        {
          "output_type": "execute_result",
          "data": {
            "text/plain": [
              "ResNet(\n",
              "  (conv1): Sequential(\n",
              "    (0): Conv2d(1, 64, kernel_size=(7, 7), stride=(2, 2), padding=(3, 3))\n",
              "    (1): BatchNorm2d(64, eps=1e-05, momentum=0.1, affine=True, track_running_stats=True)\n",
              "    (2): ReLU()\n",
              "  )\n",
              "  (maxpool): MaxPool2d(kernel_size=3, stride=2, padding=1, dilation=1, ceil_mode=False)\n",
              "  (layer0): Sequential(\n",
              "    (0): ResidualBlock(\n",
              "      (conv1): Sequential(\n",
              "        (0): Conv2d(64, 64, kernel_size=(3, 3), stride=(1, 1), padding=(1, 1))\n",
              "        (1): BatchNorm2d(64, eps=1e-05, momentum=0.1, affine=True, track_running_stats=True)\n",
              "        (2): ReLU()\n",
              "      )\n",
              "      (conv2): Sequential(\n",
              "        (0): Conv2d(64, 64, kernel_size=(3, 3), stride=(1, 1), padding=(1, 1))\n",
              "        (1): BatchNorm2d(64, eps=1e-05, momentum=0.1, affine=True, track_running_stats=True)\n",
              "      )\n",
              "      (relu): ReLU()\n",
              "    )\n",
              "    (1): ResidualBlock(\n",
              "      (conv1): Sequential(\n",
              "        (0): Conv2d(64, 64, kernel_size=(3, 3), stride=(1, 1), padding=(1, 1))\n",
              "        (1): BatchNorm2d(64, eps=1e-05, momentum=0.1, affine=True, track_running_stats=True)\n",
              "        (2): ReLU()\n",
              "      )\n",
              "      (conv2): Sequential(\n",
              "        (0): Conv2d(64, 64, kernel_size=(3, 3), stride=(1, 1), padding=(1, 1))\n",
              "        (1): BatchNorm2d(64, eps=1e-05, momentum=0.1, affine=True, track_running_stats=True)\n",
              "      )\n",
              "      (relu): ReLU()\n",
              "    )\n",
              "    (2): ResidualBlock(\n",
              "      (conv1): Sequential(\n",
              "        (0): Conv2d(64, 64, kernel_size=(3, 3), stride=(1, 1), padding=(1, 1))\n",
              "        (1): BatchNorm2d(64, eps=1e-05, momentum=0.1, affine=True, track_running_stats=True)\n",
              "        (2): ReLU()\n",
              "      )\n",
              "      (conv2): Sequential(\n",
              "        (0): Conv2d(64, 64, kernel_size=(3, 3), stride=(1, 1), padding=(1, 1))\n",
              "        (1): BatchNorm2d(64, eps=1e-05, momentum=0.1, affine=True, track_running_stats=True)\n",
              "      )\n",
              "      (relu): ReLU()\n",
              "    )\n",
              "  )\n",
              "  (layer1): Sequential(\n",
              "    (0): ResidualBlock(\n",
              "      (conv1): Sequential(\n",
              "        (0): Conv2d(64, 128, kernel_size=(3, 3), stride=(2, 2), padding=(1, 1))\n",
              "        (1): BatchNorm2d(128, eps=1e-05, momentum=0.1, affine=True, track_running_stats=True)\n",
              "        (2): ReLU()\n",
              "      )\n",
              "      (conv2): Sequential(\n",
              "        (0): Conv2d(128, 128, kernel_size=(3, 3), stride=(1, 1), padding=(1, 1))\n",
              "        (1): BatchNorm2d(128, eps=1e-05, momentum=0.1, affine=True, track_running_stats=True)\n",
              "      )\n",
              "      (downsample): Sequential(\n",
              "        (0): Conv2d(64, 128, kernel_size=(1, 1), stride=(2, 2))\n",
              "        (1): BatchNorm2d(128, eps=1e-05, momentum=0.1, affine=True, track_running_stats=True)\n",
              "      )\n",
              "      (relu): ReLU()\n",
              "    )\n",
              "    (1): ResidualBlock(\n",
              "      (conv1): Sequential(\n",
              "        (0): Conv2d(128, 128, kernel_size=(3, 3), stride=(1, 1), padding=(1, 1))\n",
              "        (1): BatchNorm2d(128, eps=1e-05, momentum=0.1, affine=True, track_running_stats=True)\n",
              "        (2): ReLU()\n",
              "      )\n",
              "      (conv2): Sequential(\n",
              "        (0): Conv2d(128, 128, kernel_size=(3, 3), stride=(1, 1), padding=(1, 1))\n",
              "        (1): BatchNorm2d(128, eps=1e-05, momentum=0.1, affine=True, track_running_stats=True)\n",
              "      )\n",
              "      (relu): ReLU()\n",
              "    )\n",
              "    (2): ResidualBlock(\n",
              "      (conv1): Sequential(\n",
              "        (0): Conv2d(128, 128, kernel_size=(3, 3), stride=(1, 1), padding=(1, 1))\n",
              "        (1): BatchNorm2d(128, eps=1e-05, momentum=0.1, affine=True, track_running_stats=True)\n",
              "        (2): ReLU()\n",
              "      )\n",
              "      (conv2): Sequential(\n",
              "        (0): Conv2d(128, 128, kernel_size=(3, 3), stride=(1, 1), padding=(1, 1))\n",
              "        (1): BatchNorm2d(128, eps=1e-05, momentum=0.1, affine=True, track_running_stats=True)\n",
              "      )\n",
              "      (relu): ReLU()\n",
              "    )\n",
              "    (3): ResidualBlock(\n",
              "      (conv1): Sequential(\n",
              "        (0): Conv2d(128, 128, kernel_size=(3, 3), stride=(1, 1), padding=(1, 1))\n",
              "        (1): BatchNorm2d(128, eps=1e-05, momentum=0.1, affine=True, track_running_stats=True)\n",
              "        (2): ReLU()\n",
              "      )\n",
              "      (conv2): Sequential(\n",
              "        (0): Conv2d(128, 128, kernel_size=(3, 3), stride=(1, 1), padding=(1, 1))\n",
              "        (1): BatchNorm2d(128, eps=1e-05, momentum=0.1, affine=True, track_running_stats=True)\n",
              "      )\n",
              "      (relu): ReLU()\n",
              "    )\n",
              "  )\n",
              "  (layer2): Sequential(\n",
              "    (0): ResidualBlock(\n",
              "      (conv1): Sequential(\n",
              "        (0): Conv2d(128, 256, kernel_size=(3, 3), stride=(2, 2), padding=(1, 1))\n",
              "        (1): BatchNorm2d(256, eps=1e-05, momentum=0.1, affine=True, track_running_stats=True)\n",
              "        (2): ReLU()\n",
              "      )\n",
              "      (conv2): Sequential(\n",
              "        (0): Conv2d(256, 256, kernel_size=(3, 3), stride=(1, 1), padding=(1, 1))\n",
              "        (1): BatchNorm2d(256, eps=1e-05, momentum=0.1, affine=True, track_running_stats=True)\n",
              "      )\n",
              "      (downsample): Sequential(\n",
              "        (0): Conv2d(128, 256, kernel_size=(1, 1), stride=(2, 2))\n",
              "        (1): BatchNorm2d(256, eps=1e-05, momentum=0.1, affine=True, track_running_stats=True)\n",
              "      )\n",
              "      (relu): ReLU()\n",
              "    )\n",
              "    (1): ResidualBlock(\n",
              "      (conv1): Sequential(\n",
              "        (0): Conv2d(256, 256, kernel_size=(3, 3), stride=(1, 1), padding=(1, 1))\n",
              "        (1): BatchNorm2d(256, eps=1e-05, momentum=0.1, affine=True, track_running_stats=True)\n",
              "        (2): ReLU()\n",
              "      )\n",
              "      (conv2): Sequential(\n",
              "        (0): Conv2d(256, 256, kernel_size=(3, 3), stride=(1, 1), padding=(1, 1))\n",
              "        (1): BatchNorm2d(256, eps=1e-05, momentum=0.1, affine=True, track_running_stats=True)\n",
              "      )\n",
              "      (relu): ReLU()\n",
              "    )\n",
              "    (2): ResidualBlock(\n",
              "      (conv1): Sequential(\n",
              "        (0): Conv2d(256, 256, kernel_size=(3, 3), stride=(1, 1), padding=(1, 1))\n",
              "        (1): BatchNorm2d(256, eps=1e-05, momentum=0.1, affine=True, track_running_stats=True)\n",
              "        (2): ReLU()\n",
              "      )\n",
              "      (conv2): Sequential(\n",
              "        (0): Conv2d(256, 256, kernel_size=(3, 3), stride=(1, 1), padding=(1, 1))\n",
              "        (1): BatchNorm2d(256, eps=1e-05, momentum=0.1, affine=True, track_running_stats=True)\n",
              "      )\n",
              "      (relu): ReLU()\n",
              "    )\n",
              "    (3): ResidualBlock(\n",
              "      (conv1): Sequential(\n",
              "        (0): Conv2d(256, 256, kernel_size=(3, 3), stride=(1, 1), padding=(1, 1))\n",
              "        (1): BatchNorm2d(256, eps=1e-05, momentum=0.1, affine=True, track_running_stats=True)\n",
              "        (2): ReLU()\n",
              "      )\n",
              "      (conv2): Sequential(\n",
              "        (0): Conv2d(256, 256, kernel_size=(3, 3), stride=(1, 1), padding=(1, 1))\n",
              "        (1): BatchNorm2d(256, eps=1e-05, momentum=0.1, affine=True, track_running_stats=True)\n",
              "      )\n",
              "      (relu): ReLU()\n",
              "    )\n",
              "    (4): ResidualBlock(\n",
              "      (conv1): Sequential(\n",
              "        (0): Conv2d(256, 256, kernel_size=(3, 3), stride=(1, 1), padding=(1, 1))\n",
              "        (1): BatchNorm2d(256, eps=1e-05, momentum=0.1, affine=True, track_running_stats=True)\n",
              "        (2): ReLU()\n",
              "      )\n",
              "      (conv2): Sequential(\n",
              "        (0): Conv2d(256, 256, kernel_size=(3, 3), stride=(1, 1), padding=(1, 1))\n",
              "        (1): BatchNorm2d(256, eps=1e-05, momentum=0.1, affine=True, track_running_stats=True)\n",
              "      )\n",
              "      (relu): ReLU()\n",
              "    )\n",
              "    (5): ResidualBlock(\n",
              "      (conv1): Sequential(\n",
              "        (0): Conv2d(256, 256, kernel_size=(3, 3), stride=(1, 1), padding=(1, 1))\n",
              "        (1): BatchNorm2d(256, eps=1e-05, momentum=0.1, affine=True, track_running_stats=True)\n",
              "        (2): ReLU()\n",
              "      )\n",
              "      (conv2): Sequential(\n",
              "        (0): Conv2d(256, 256, kernel_size=(3, 3), stride=(1, 1), padding=(1, 1))\n",
              "        (1): BatchNorm2d(256, eps=1e-05, momentum=0.1, affine=True, track_running_stats=True)\n",
              "      )\n",
              "      (relu): ReLU()\n",
              "    )\n",
              "  )\n",
              "  (layer3): Sequential(\n",
              "    (0): ResidualBlock(\n",
              "      (conv1): Sequential(\n",
              "        (0): Conv2d(256, 512, kernel_size=(3, 3), stride=(2, 2), padding=(1, 1))\n",
              "        (1): BatchNorm2d(512, eps=1e-05, momentum=0.1, affine=True, track_running_stats=True)\n",
              "        (2): ReLU()\n",
              "      )\n",
              "      (conv2): Sequential(\n",
              "        (0): Conv2d(512, 512, kernel_size=(3, 3), stride=(1, 1), padding=(1, 1))\n",
              "        (1): BatchNorm2d(512, eps=1e-05, momentum=0.1, affine=True, track_running_stats=True)\n",
              "      )\n",
              "      (downsample): Sequential(\n",
              "        (0): Conv2d(256, 512, kernel_size=(1, 1), stride=(2, 2))\n",
              "        (1): BatchNorm2d(512, eps=1e-05, momentum=0.1, affine=True, track_running_stats=True)\n",
              "      )\n",
              "      (relu): ReLU()\n",
              "    )\n",
              "    (1): ResidualBlock(\n",
              "      (conv1): Sequential(\n",
              "        (0): Conv2d(512, 512, kernel_size=(3, 3), stride=(1, 1), padding=(1, 1))\n",
              "        (1): BatchNorm2d(512, eps=1e-05, momentum=0.1, affine=True, track_running_stats=True)\n",
              "        (2): ReLU()\n",
              "      )\n",
              "      (conv2): Sequential(\n",
              "        (0): Conv2d(512, 512, kernel_size=(3, 3), stride=(1, 1), padding=(1, 1))\n",
              "        (1): BatchNorm2d(512, eps=1e-05, momentum=0.1, affine=True, track_running_stats=True)\n",
              "      )\n",
              "      (relu): ReLU()\n",
              "    )\n",
              "    (2): ResidualBlock(\n",
              "      (conv1): Sequential(\n",
              "        (0): Conv2d(512, 512, kernel_size=(3, 3), stride=(1, 1), padding=(1, 1))\n",
              "        (1): BatchNorm2d(512, eps=1e-05, momentum=0.1, affine=True, track_running_stats=True)\n",
              "        (2): ReLU()\n",
              "      )\n",
              "      (conv2): Sequential(\n",
              "        (0): Conv2d(512, 512, kernel_size=(3, 3), stride=(1, 1), padding=(1, 1))\n",
              "        (1): BatchNorm2d(512, eps=1e-05, momentum=0.1, affine=True, track_running_stats=True)\n",
              "      )\n",
              "      (relu): ReLU()\n",
              "    )\n",
              "  )\n",
              "  (avgpool): AvgPool2d(kernel_size=7, stride=1, padding=0)\n",
              "  (fc): Linear(in_features=512, out_features=10, bias=True)\n",
              ")"
            ]
          },
          "metadata": {},
          "execution_count": 10
        }
      ]
    },
    {
      "cell_type": "markdown",
      "id": "divine-seattle",
      "metadata": {
        "papermill": {
          "duration": 0.030206,
          "end_time": "2021-04-18T13:56:11.952693",
          "exception": false,
          "start_time": "2021-04-18T13:56:11.922487",
          "status": "completed"
        },
        "tags": [],
        "id": "divine-seattle"
      },
      "source": [
        "**Loss function, Optimizer, Scheduler**"
      ]
    },
    {
      "cell_type": "code",
      "execution_count": 11,
      "id": "requested-charity",
      "metadata": {
        "execution": {
          "iopub.execute_input": "2021-04-18T13:56:12.022879Z",
          "iopub.status.busy": "2021-04-18T13:56:12.021780Z",
          "iopub.status.idle": "2021-04-18T13:56:12.026143Z",
          "shell.execute_reply": "2021-04-18T13:56:12.025433Z"
        },
        "papermill": {
          "duration": 0.0428,
          "end_time": "2021-04-18T13:56:12.026304",
          "exception": false,
          "start_time": "2021-04-18T13:56:11.983504",
          "status": "completed"
        },
        "tags": [],
        "id": "requested-charity"
      },
      "outputs": [],
      "source": [
        "criterion = nn.CrossEntropyLoss()\n",
        "optimizer = torch.optim.Adam(model.parameters(), lr = 0.001, betas=(0.9,0.999), eps=1e-9)\n",
        "scheduler = torch.optim.lr_scheduler.StepLR(optimizer, 4, gamma=0.1, verbose=False)###Best accuracy 0.9349, tensor(0.9385)"
      ]
    },
    {
      "cell_type": "markdown",
      "id": "deadly-above",
      "metadata": {
        "papermill": {
          "duration": 0.030343,
          "end_time": "2021-04-18T13:56:12.088472",
          "exception": false,
          "start_time": "2021-04-18T13:56:12.058129",
          "status": "completed"
        },
        "tags": [],
        "id": "deadly-above"
      },
      "source": [
        "# Train"
      ]
    },
    {
      "cell_type": "code",
      "execution_count": 12,
      "id": "visible-tunisia",
      "metadata": {
        "execution": {
          "iopub.execute_input": "2021-04-18T13:56:12.165228Z",
          "iopub.status.busy": "2021-04-18T13:56:12.164533Z",
          "iopub.status.idle": "2021-04-18T13:56:12.168557Z",
          "shell.execute_reply": "2021-04-18T13:56:12.167968Z"
        },
        "papermill": {
          "duration": 0.049986,
          "end_time": "2021-04-18T13:56:12.168699",
          "exception": false,
          "start_time": "2021-04-18T13:56:12.118713",
          "status": "completed"
        },
        "tags": [],
        "id": "visible-tunisia"
      },
      "outputs": [],
      "source": [
        "#save the losses for further visualization\n",
        "losses = {'train':[], 'val':[]}\n",
        "accuracies = {'train':[], 'val':[]}\n",
        "\n",
        "def train(model, criterion, optimizer, scheduler, epochs):\n",
        "  since = time.time()\n",
        "  best_model = copy.deepcopy(model.state_dict())\n",
        "  best_acc = 0.0\n",
        "  for epoch in range(epochs):\n",
        "    for phase in ['train', 'val']:\n",
        "      if phase == 'train':\n",
        "        model.train()\n",
        "      else:\n",
        "        model.eval()\n",
        "      \n",
        "      running_loss = 0.0\n",
        "      running_corrects = 0.0\n",
        "\n",
        "      for inputs, labels in loaders[phase]:\n",
        "        inputs, labels = inputs.to(device), labels.to(device)\n",
        "\n",
        "        optimizer.zero_grad()\n",
        "\n",
        "        with torch.set_grad_enabled(phase=='train'):\n",
        "          outp = model(inputs)\n",
        "          _, pred = torch.max(outp, 1)\n",
        "          loss = criterion(outp, labels)\n",
        "        \n",
        "          if phase == 'train':\n",
        "            loss.backward()\n",
        "            optimizer.step()\n",
        "        \n",
        "        running_loss += loss.item()*inputs.size(0)\n",
        "        running_corrects += torch.sum(pred == labels.data)\n",
        "\n",
        "\n",
        "      epoch_loss = running_loss / dataset_sizes[phase]\n",
        "      epoch_acc = running_corrects.double()/dataset_sizes[phase]\n",
        "      losses[phase].append(float(epoch_loss))\n",
        "      accuracies[phase].append(float(epoch_acc))\n",
        "      if phase == 'train':\n",
        "        print('Epoch: {}/{}'.format(epoch+1, epochs))\n",
        "      print('{} - loss:{}, accuracy{}'.format(phase, epoch_loss, epoch_acc))\n",
        "    \n",
        "      if phase == 'val':\n",
        "        print('Time: {}m {}s'.format((time.time()- since)//60, (time.time()- since)%60))\n",
        "            \n",
        "      if phase == 'val' and epoch_acc > best_acc:\n",
        "        best_acc = epoch_acc\n",
        "        best_model = copy.deepcopy(model.state_dict())\n",
        "    scheduler.step()  \n",
        "  time_elapsed = time.time() - since\n",
        "  print('Training Time {}m {}s'.format(time_elapsed//60, time_elapsed%60)) \n",
        "  print('Best accuracy {}'.format(best_acc))\n",
        "\n",
        "  model.load_state_dict(best_model)\n",
        "  return model   "
      ]
    },
    {
      "cell_type": "markdown",
      "id": "spread-trash",
      "metadata": {
        "papermill": {
          "duration": 0.029965,
          "end_time": "2021-04-18T13:56:12.229207",
          "exception": false,
          "start_time": "2021-04-18T13:56:12.199242",
          "status": "completed"
        },
        "tags": [],
        "id": "spread-trash"
      },
      "source": [
        "**Launching training**"
      ]
    },
    {
      "cell_type": "code",
      "execution_count": 13,
      "id": "indonesian-ownership",
      "metadata": {
        "execution": {
          "iopub.execute_input": "2021-04-18T13:56:12.296263Z",
          "iopub.status.busy": "2021-04-18T13:56:12.295579Z",
          "iopub.status.idle": "2021-04-18T17:39:47.940716Z",
          "shell.execute_reply": "2021-04-18T17:39:47.941528Z"
        },
        "papermill": {
          "duration": 13415.682515,
          "end_time": "2021-04-18T17:39:47.941764",
          "exception": false,
          "start_time": "2021-04-18T13:56:12.259249",
          "status": "completed"
        },
        "tags": [],
        "id": "indonesian-ownership",
        "outputId": "9b362869-0f6a-461e-968e-bcea35c6fbd9",
        "colab": {
          "base_uri": "https://localhost:8080/"
        }
      },
      "outputs": [
        {
          "output_type": "stream",
          "name": "stdout",
          "text": [
            "Epoch: 1/10\n",
            "train - loss:0.641951852850616, accuracy0.7664375\n",
            "val - loss:3.037569038073222, accuracy0.32941666666666664\n",
            "Time: 5.0m 21.061182737350464s\n",
            "Epoch: 2/10\n",
            "train - loss:0.3853612935791413, accuracy0.8625833333333333\n",
            "val - loss:0.45100937969982624, accuracy0.8422499999999999\n",
            "Time: 10.0m 42.63133120536804s\n",
            "Epoch: 3/10\n",
            "train - loss:0.3314741481716434, accuracy0.8815624999999999\n",
            "val - loss:0.29026100374758246, accuracy0.8924166666666666\n",
            "Time: 16.0m 4.861374616622925s\n",
            "Epoch: 4/10\n",
            "train - loss:0.29552306231732167, accuracy0.8930625\n",
            "val - loss:0.28183467003206414, accuracy0.8988333333333333\n",
            "Time: 21.0m 26.85563373565674s\n",
            "Epoch: 5/10\n",
            "train - loss:0.22372268731705844, accuracy0.9186875\n",
            "val - loss:0.21635361838464937, accuracy0.9219166666666666\n",
            "Time: 26.0m 48.983023166656494s\n",
            "Epoch: 6/10\n",
            "train - loss:0.21013282579369844, accuracy0.9244583333333333\n",
            "val - loss:0.2132827307097614, accuracy0.9249166666666666\n",
            "Time: 32.0m 10.870168209075928s\n",
            "Epoch: 7/10\n",
            "train - loss:0.20112293343991042, accuracy0.9272291666666667\n",
            "val - loss:0.21090078285584848, accuracy0.9265\n",
            "Time: 37.0m 32.96621870994568s\n",
            "Epoch: 8/10\n",
            "train - loss:0.19653126533764104, accuracy0.9292916666666666\n",
            "val - loss:0.20222755080709856, accuracy0.9303333333333333\n",
            "Time: 42.0m 55.00514030456543s\n",
            "Epoch: 9/10\n",
            "train - loss:0.18101944458515692, accuracy0.9350416666666667\n",
            "val - loss:0.19320440776646136, accuracy0.9310833333333333\n",
            "Time: 48.0m 17.36588144302368s\n",
            "Epoch: 10/10\n",
            "train - loss:0.17656432550090054, accuracy0.93475\n",
            "val - loss:0.19261509990319609, accuracy0.93325\n",
            "Time: 53.0m 39.81972885131836s\n",
            "Training Time 53.0m 39.83851623535156s\n",
            "Best accuracy 0.93325\n"
          ]
        }
      ],
      "source": [
        "epochs = 10\n",
        "model = train(model, criterion, optimizer, scheduler, epochs)"
      ]
    },
    {
      "cell_type": "markdown",
      "id": "attached-colony",
      "metadata": {
        "papermill": {
          "duration": 0.037481,
          "end_time": "2021-04-18T17:39:48.017780",
          "exception": false,
          "start_time": "2021-04-18T17:39:47.980299",
          "status": "completed"
        },
        "tags": [],
        "id": "attached-colony"
      },
      "source": [
        "**Visualization**"
      ]
    },
    {
      "cell_type": "code",
      "execution_count": 14,
      "id": "secondary-equilibrium",
      "metadata": {
        "execution": {
          "iopub.execute_input": "2021-04-18T17:39:48.098425Z",
          "iopub.status.busy": "2021-04-18T17:39:48.097372Z",
          "iopub.status.idle": "2021-04-18T17:39:48.611288Z",
          "shell.execute_reply": "2021-04-18T17:39:48.610373Z"
        },
        "papermill": {
          "duration": 0.555774,
          "end_time": "2021-04-18T17:39:48.611451",
          "exception": false,
          "start_time": "2021-04-18T17:39:48.055677",
          "status": "completed"
        },
        "tags": [],
        "id": "secondary-equilibrium",
        "outputId": "8c1e6e04-75af-4cd6-9e47-885276af6075",
        "colab": {
          "base_uri": "https://localhost:8080/",
          "height": 461
        }
      },
      "outputs": [
        {
          "output_type": "execute_result",
          "data": {
            "text/plain": [
              "<matplotlib.legend.Legend at 0x7fc5e55b5250>"
            ]
          },
          "metadata": {},
          "execution_count": 14
        },
        {
          "output_type": "display_data",
          "data": {
            "text/plain": [
              "<Figure size 504x504 with 2 Axes>"
            ],
            "image/png": "[encoded data removed]"
          },
          "metadata": {
            "needs_background": "light"
          }
        }
      ],
      "source": [
        "from pylab import rcParams\n",
        "rcParams['figure.figsize'] = 7, 7\n",
        "\n",
        "fig, axs = plt.subplots(2)\n",
        "\n",
        "axs[0].plot([x for x in range(epochs)], losses['train'], label ='train')\n",
        "axs[0].plot([x for x in range(epochs)], losses['val'], label='val')\n",
        "axs[0].set_title('loss')\n",
        "axs[0].legend()\n",
        "\n",
        "axs[1].plot([x for x in range(epochs)], accuracies['train'], label ='train')\n",
        "axs[1].plot([x for x in range(epochs)], accuracies['val'], label='val')\n",
        "axs[1].set_title('accuracy')\n",
        "axs[1].legend()"
      ]
    },
    {
      "cell_type": "markdown",
      "id": "detailed-estate",
      "metadata": {
        "papermill": {
          "duration": 0.039828,
          "end_time": "2021-04-18T17:39:48.692606",
          "exception": false,
          "start_time": "2021-04-18T17:39:48.652778",
          "status": "completed"
        },
        "tags": [],
        "id": "detailed-estate"
      },
      "source": [
        "# Test"
      ]
    },
    {
      "cell_type": "markdown",
      "id": "incredible-earthquake",
      "metadata": {
        "papermill": {
          "duration": 0.040139,
          "end_time": "2021-04-18T17:39:48.773155",
          "exception": false,
          "start_time": "2021-04-18T17:39:48.733016",
          "status": "completed"
        },
        "tags": [],
        "id": "incredible-earthquake"
      },
      "source": [
        "**Uploading the data**"
      ]
    },
    {
      "cell_type": "code",
      "execution_count": 15,
      "id": "organizational-discovery",
      "metadata": {
        "execution": {
          "iopub.execute_input": "2021-04-18T17:39:50.569414Z",
          "iopub.status.busy": "2021-04-18T17:39:50.568547Z",
          "iopub.status.idle": "2021-04-18T17:39:50.585024Z",
          "shell.execute_reply": "2021-04-18T17:39:50.584398Z"
        },
        "papermill": {
          "duration": 0.060722,
          "end_time": "2021-04-18T17:39:50.585177",
          "exception": false,
          "start_time": "2021-04-18T17:39:50.524455",
          "status": "completed"
        },
        "tags": [],
        "id": "organizational-discovery"
      },
      "outputs": [],
      "source": [
        "loadersq=  DataLoader(test_set, batch_size=100, shuffle = True, num_workers=4)"
      ]
    },
    {
      "cell_type": "markdown",
      "id": "precise-reverse",
      "metadata": {
        "papermill": {
          "duration": 0.040605,
          "end_time": "2021-04-18T17:39:50.667079",
          "exception": false,
          "start_time": "2021-04-18T17:39:50.626474",
          "status": "completed"
        },
        "tags": [],
        "id": "precise-reverse"
      },
      "source": [
        "**Creating a dictionary with the size of the test dataset.**"
      ]
    },
    {
      "cell_type": "code",
      "execution_count": 16,
      "id": "armed-collar",
      "metadata": {
        "execution": {
          "iopub.execute_input": "2021-04-18T17:39:50.755977Z",
          "iopub.status.busy": "2021-04-18T17:39:50.753695Z",
          "iopub.status.idle": "2021-04-18T17:39:50.760007Z",
          "shell.execute_reply": "2021-04-18T17:39:50.760457Z"
        },
        "papermill": {
          "duration": 0.052016,
          "end_time": "2021-04-18T17:39:50.760631",
          "exception": false,
          "start_time": "2021-04-18T17:39:50.708615",
          "status": "completed"
        },
        "tags": [],
        "id": "armed-collar",
        "outputId": "4746933a-0997-4dd7-dcf4-1ccbe0b6a566",
        "colab": {
          "base_uri": "https://localhost:8080/"
        }
      },
      "outputs": [
        {
          "output_type": "execute_result",
          "data": {
            "text/plain": [
              "10000"
            ]
          },
          "metadata": {},
          "execution_count": 16
        }
      ],
      "source": [
        "dataset_sizesq = len(test_set)\n",
        "dataset_sizesq"
      ]
    },
    {
      "cell_type": "markdown",
      "id": "reasonable-scanning",
      "metadata": {
        "papermill": {
          "duration": 0.041024,
          "end_time": "2021-04-18T17:39:50.845400",
          "exception": false,
          "start_time": "2021-04-18T17:39:50.804376",
          "status": "completed"
        },
        "tags": [],
        "id": "reasonable-scanning"
      },
      "source": [
        "**Similarly, we calculate the average and standard deviation for test**"
      ]
    },
    {
      "cell_type": "code",
      "execution_count": 17,
      "id": "formed-legend",
      "metadata": {
        "execution": {
          "iopub.execute_input": "2021-04-18T17:39:50.934049Z",
          "iopub.status.busy": "2021-04-18T17:39:50.933336Z",
          "iopub.status.idle": "2021-04-18T17:39:54.010386Z",
          "shell.execute_reply": "2021-04-18T17:39:54.009800Z"
        },
        "papermill": {
          "duration": 3.122459,
          "end_time": "2021-04-18T17:39:54.010532",
          "exception": false,
          "start_time": "2021-04-18T17:39:50.888073",
          "status": "completed"
        },
        "tags": [],
        "id": "formed-legend"
      },
      "outputs": [],
      "source": [
        "# num_px = dataset_sizesq*28*28\n",
        "\n",
        "\n",
        "# total_sum = 0\n",
        "# for batch in loadersq: total_sum += batch[0].sum()\n",
        "# mean = total_sum / num_px\n",
        "\n",
        "# sum_of_squared_error = 0\n",
        "# for batch in loadersq: sum_of_squared_error += ((batch[0] - mean).pow(2)).sum()\n",
        "# std = torch.sqrt(sum_of_squared_error / num_px)\n",
        "\n",
        "# mean, std"
      ]
    },
    {
      "cell_type": "markdown",
      "id": "varying-gauge",
      "metadata": {
        "papermill": {
          "duration": 0.041214,
          "end_time": "2021-04-18T17:39:54.092801",
          "exception": false,
          "start_time": "2021-04-18T17:39:54.051587",
          "status": "completed"
        },
        "tags": [],
        "id": "varying-gauge"
      },
      "source": [
        "**Predictions**"
      ]
    },
    {
      "cell_type": "code",
      "execution_count": 18,
      "id": "broken-musical",
      "metadata": {
        "execution": {
          "iopub.execute_input": "2021-04-18T17:39:54.182376Z",
          "iopub.status.busy": "2021-04-18T17:39:54.181259Z",
          "iopub.status.idle": "2021-04-18T17:40:32.538789Z",
          "shell.execute_reply": "2021-04-18T17:40:32.539376Z"
        },
        "papermill": {
          "duration": 38.406225,
          "end_time": "2021-04-18T17:40:32.539578",
          "exception": false,
          "start_time": "2021-04-18T17:39:54.133353",
          "status": "completed"
        },
        "tags": [],
        "id": "broken-musical",
        "outputId": "bc1492f1-605e-4767-cf3a-574bc9394849",
        "colab": {
          "base_uri": "https://localhost:8080/"
        }
      },
      "outputs": [
        {
          "output_type": "stream",
          "name": "stdout",
          "text": [
            "Test accuracy: 0.9223999977111816\n"
          ]
        }
      ],
      "source": [
        "corr = 0\n",
        " \n",
        "with torch.no_grad(): \n",
        "    for data in loadersq:\n",
        "        images, labels = data\n",
        "        images, labels = images.to(device), labels.to(device)\n",
        "        y_pred = model(images) \n",
        "        _, predicted = torch.max(y_pred, 1) \n",
        "        corr += torch.sum(predicted == labels.data)\n",
        " \n",
        "print(f\"Test accuracy: {corr/dataset_sizesq}\")"
      ]
    },
    {
      "cell_type": "code",
      "source": [
        "from torch.autograd import Variable\n",
        "\n",
        "def output_label(label):\n",
        "    output_mapping = {\n",
        "                 0: \"T-shirt/Top\",\n",
        "                 1: \"Trouser\",\n",
        "                 2: \"Pullover\",\n",
        "                 3: \"Dress\",\n",
        "                 4: \"Coat\", \n",
        "                 5: \"Sandal\", \n",
        "                 6: \"Shirt\",\n",
        "                 7: \"Sneaker\",\n",
        "                 8: \"Bag\",\n",
        "                 9: \"Ankle Boot\"\n",
        "                 }\n",
        "    input = (label.item() if type(label) == torch.Tensor else label)\n",
        "    return output_mapping[input]\n",
        "\n",
        "class_correct = [0. for _ in range(10)]\n",
        "total_correct = [0. for _ in range(10)]\n",
        "\n",
        "with torch.no_grad():\n",
        "    for images, labels in loadersq:\n",
        "        images, labels = images.to(device), labels.to(device)\n",
        "        test = Variable(images)\n",
        "        outputs = model(test)\n",
        "        predicted = torch.max(outputs, 1)[1]\n",
        "        c = (predicted == labels).squeeze()\n",
        "        \n",
        "        for i in range(100):\n",
        "            label = labels[i]\n",
        "            class_correct[label] += c[i].item()\n",
        "            total_correct[label] += 1\n",
        "        \n",
        "for i in range(10):\n",
        "    print(\"Accuracy of {}: {:.2f}%\".format(output_label(i), class_correct[i] * 100 / total_correct[i]))"
      ],
      "metadata": {
        "colab": {
          "base_uri": "https://localhost:8080/"
        },
        "id": "RSAGZ-6SQp-E",
        "outputId": "e02e772f-c3da-45bd-918a-cf15ce3b02e8"
      },
      "id": "RSAGZ-6SQp-E",
      "execution_count": 19,
      "outputs": [
        {
          "output_type": "stream",
          "name": "stdout",
          "text": [
            "Accuracy of T-shirt/Top: 86.10%\n",
            "Accuracy of Trouser: 97.90%\n",
            "Accuracy of Pullover: 89.90%\n",
            "Accuracy of Dress: 92.30%\n",
            "Accuracy of Coat: 88.20%\n",
            "Accuracy of Sandal: 98.40%\n",
            "Accuracy of Shirt: 77.90%\n",
            "Accuracy of Sneaker: 96.80%\n",
            "Accuracy of Bag: 98.60%\n",
            "Accuracy of Ankle Boot: 96.30%\n"
          ]
        }
      ]
    },
    {
      "cell_type": "markdown",
      "id": "polished-religious",
      "metadata": {
        "papermill": {
          "duration": 0.042179,
          "end_time": "2021-04-18T17:40:32.623737",
          "exception": false,
          "start_time": "2021-04-18T17:40:32.581558",
          "status": "completed"
        },
        "tags": [],
        "id": "polished-religious"
      },
      "source": [
        "## Predict with Jury Test"
      ]
    },
    {
      "cell_type": "code",
      "source": [
        "# def resize_image(src_image, size=(128,128), bg_color='white'): \n",
        "#     from PIL import Image, ImageOps \n",
        "    \n",
        "#     # resize the image so the longest dimension matches our target size\n",
        "#     src_image.thumbnail(size, Image.ANTIALIAS)\n",
        "    \n",
        "#     # Create a new square background image\n",
        "#     new_image = Image.new(\"RGB\", size, bg_color)\n",
        "    \n",
        "#     # Paste the resized image into the center of the square background\n",
        "#     new_image.paste(src_image, (int((size[0] - src_image.size[0]) / 2), int((size[1] - src_image.size[1]) / 2)))\n",
        "  \n",
        "#     # return the resized image\n",
        "#     new_image = Image.open(src_image).convert('L')\n",
        "#     return new_image"
      ],
      "metadata": {
        "id": "IbxKfSiEKMJr"
      },
      "id": "IbxKfSiEKMJr",
      "execution_count": 20,
      "outputs": []
    },
    {
      "cell_type": "code",
      "source": [
        "import numpy as np\n",
        "import cv2\n",
        "\n",
        "def resize_to_28x28(img):\n",
        "    img_h, img_w = img.shape\n",
        "    dim_size_max = max(img.shape)\n",
        "\n",
        "    if dim_size_max == img_w:\n",
        "        im_h = (26 * img_h) // img_w\n",
        "        if im_h <= 0 or img_w <= 0:\n",
        "            print(\"Invalid Image Dimention: \", im_h, img_w, img_h)\n",
        "        tmp_img = cv2.resize(img, (26,im_h),0,0,cv2.INTER_NEAREST)\n",
        "    else:\n",
        "        im_w = (26 * img_w) // img_h\n",
        "        if im_w <= 0 or img_h <= 0:\n",
        "            print(\"Invalid Image Dimention: \", im_w, img_w, img_h)\n",
        "        tmp_img = cv2.resize(img, (im_w, 26),0,0,cv2.INTER_NEAREST)\n",
        "\n",
        "    out_img = np.zeros((28, 28), dtype=np.ubyte)\n",
        "\n",
        "    nb_h, nb_w = out_img.shape\n",
        "    na_h, na_w = tmp_img.shape\n",
        "    y_min = (nb_w) // 2 - (na_w // 2)\n",
        "    y_max = y_min + na_w\n",
        "    x_min = (nb_h) // 2 - (na_h // 2)\n",
        "    x_max = x_min + na_h\n",
        "\n",
        "    out_img[x_min:x_max, y_min:y_max] = tmp_img\n",
        "\n",
        "    return out_img\n"
      ],
      "metadata": {
        "id": "Ui48NwuFYsh4"
      },
      "id": "Ui48NwuFYsh4",
      "execution_count": 21,
      "outputs": []
    },
    {
      "cell_type": "code",
      "source": [
        "import torchvision.transforms.functional as F\n",
        "# Show Function for image tensor\n",
        "def show(imgs):\n",
        "    if not isinstance(imgs, list):\n",
        "        imgs = [imgs]\n",
        "    fig, axs = plt.subplots(ncols=len(imgs), squeeze=False)\n",
        "    for i, img in enumerate(imgs):\n",
        "        img = img.detach()\n",
        "        img = F.to_pil_image(img)\n",
        "        axs[0, i].imshow(np.asarray(img))\n",
        "        axs[0, i].set(xticklabels=[], yticklabels=[], xticks=[], yticks=[])"
      ],
      "metadata": {
        "id": "cJXSByQ7MjdM"
      },
      "id": "cJXSByQ7MjdM",
      "execution_count": 22,
      "outputs": []
    },
    {
      "cell_type": "code",
      "source": [
        "import torchvision.transforms as transforms\n",
        "import torchvision.datasets as datasets\n",
        "from torch.utils.data import DataLoader,Dataset\n",
        "from PIL import Image\n",
        "import matplotlib.pyplot as plt\n",
        "import numpy as np\n",
        "from google.colab.patches import cv2_imshow\n",
        "import torchvision.transforms as T\n",
        "\n",
        "def pre_image(image_path,model):\n",
        "   #img = cv.imread(image_path, cv.IMREAD_GRAYSCALE)\n",
        "   #img = resize_to_28x28(img)\n",
        "   #img = cv.bitwise_not(img)\n",
        "   img = Image.open(image_path).convert('L')\n",
        "  #  display(img)\n",
        "   transform_norm = transforms.Compose([\n",
        "       transforms.Resize((224,224)),\n",
        "       transforms.RandomAdjustSharpness(2, p=1),\n",
        "       transforms.ToTensor()\n",
        "       ])\n",
        "   # get normalized image\n",
        "   img_normalized = transform_norm(img).float()\n",
        "   show(img_normalized)\n",
        "   img_normalized = img_normalized.unsqueeze_(0)\n",
        "   # Show image after transform\n",
        "   # input = Variable(image_tensor)\n",
        "   img_normalized = img_normalized.to(device)\n",
        "   # print(img_normalized.shape)\n",
        "   with torch.no_grad():\n",
        "      model.eval()  \n",
        "      output =model(img_normalized)\n",
        "     # print(output)\n",
        "      index = output.data.cpu().numpy().argmax()\n",
        "      classes = ['T-shirt/Top','Trouser','PullOver','Dress','Coat','Sandal','Shirt', 'Sneaker','Bag','Ankle Bot']\n",
        "      class_name = classes[index]\n",
        "      return class_name"
      ],
      "metadata": {
        "id": "LPblennyKCbc"
      },
      "id": "LPblennyKCbc",
      "execution_count": 23,
      "outputs": []
    },
    {
      "cell_type": "code",
      "source": [
        "%matplotlib inline\n",
        "\n",
        "uploaded = files.upload()\n",
        "\n",
        "for fn in uploaded.keys():\n",
        " \n",
        "  # predicting images\n",
        "  path = fn\n",
        "  predict_class = pre_image(fn,model)\n",
        "  print(predict_class)"
      ],
      "metadata": {
        "colab": {
          "base_uri": "https://localhost:8080/",
          "height": 326
        },
        "id": "Ik4Tx29bKET-",
        "outputId": "193604a7-b3ea-412b-d9e6-e97e819b5939"
      },
      "id": "Ik4Tx29bKET-",
      "execution_count": 36,
      "outputs": [
        {
          "output_type": "display_data",
          "data": {
            "text/plain": [
              "<IPython.core.display.HTML object>"
            ],
            "text/html": [
              "\n",
              "     <input type=\"file\" id=\"files-3d0db2ef-865f-47f5-9ee6-6e998065ef0b\" name=\"files[]\" multiple disabled\n",
              "        style=\"border:none\" />\n",
              "     <output id=\"result-3d0db2ef-865f-47f5-9ee6-6e998065ef0b\">\n",
              "      Upload widget is only available when the cell has been executed in the\n",
              "      current browser session. Please rerun this cell to enable.\n",
              "      </output>\n",
              "      <script>// Copyright 2017 Google LLC\n",
              "//\n",
              "// Licensed under the Apache License, Version 2.0 (the \"License\");\n",
              "// you may not use this file except in compliance with the License.\n",
              "// You may obtain a copy of the License at\n",
              "//\n",
              "//      http://www.apache.org/licenses/LICENSE-2.0\n",
              "//\n",
              "// Unless required by applicable law or agreed to in writing, software\n",
              "// distributed under the License is distributed on an \"AS IS\" BASIS,\n",
              "// WITHOUT WARRANTIES OR CONDITIONS OF ANY KIND, either express or implied.\n",
              "// See the License for the specific language governing permissions and\n",
              "// limitations under the License.\n",
              "\n",
              "/**\n",
              " * @fileoverview Helpers for google.colab Python module.\n",
              " */\n",
              "(function(scope) {\n",
              "function span(text, styleAttributes = {}) {\n",
              "  const element = document.createElement('span');\n",
              "  element.textContent = text;\n",
              "  for (const key of Object.keys(styleAttributes)) {\n",
              "    element.style[key] = styleAttributes[key];\n",
              "  }\n",
              "  return element;\n",
              "}\n",
              "\n",
              "// Max number of bytes which will be uploaded at a time.\n",
              "const MAX_PAYLOAD_SIZE = 100 * 1024;\n",
              "\n",
              "function _uploadFiles(inputId, outputId) {\n",
              "  const steps = uploadFilesStep(inputId, outputId);\n",
              "  const outputElement = document.getElementById(outputId);\n",
              "  // Cache steps on the outputElement to make it available for the next call\n",
              "  // to uploadFilesContinue from Python.\n",
              "  outputElement.steps = steps;\n",
              "\n",
              "  return _uploadFilesContinue(outputId);\n",
              "}\n",
              "\n",
              "// This is roughly an async generator (not supported in the browser yet),\n",
              "// where there are multiple asynchronous steps and the Python side is going\n",
              "// to poll for completion of each step.\n",
              "// This uses a Promise to block the python side on completion of each step,\n",
              "// then passes the result of the previous step as the input to the next step.\n",
              "function _uploadFilesContinue(outputId) {\n",
              "  const outputElement = document.getElementById(outputId);\n",
              "  const steps = outputElement.steps;\n",
              "\n",
              "  const next = steps.next(outputElement.lastPromiseValue);\n",
              "  return Promise.resolve(next.value.promise).then((value) => {\n",
              "    // Cache the last promise value to make it available to the next\n",
              "    // step of the generator.\n",
              "    outputElement.lastPromiseValue = value;\n",
              "    return next.value.response;\n",
              "  });\n",
              "}\n",
              "\n",
              "/**\n",
              " * Generator function which is called between each async step of the upload\n",
              " * process.\n",
              " * @param {string} inputId Element ID of the input file picker element.\n",
              " * @param {string} outputId Element ID of the output display.\n",
              " * @return {!Iterable<!Object>} Iterable of next steps.\n",
              " */\n",
              "function* uploadFilesStep(inputId, outputId) {\n",
              "  const inputElement = document.getElementById(inputId);\n",
              "  inputElement.disabled = false;\n",
              "\n",
              "  const outputElement = document.getElementById(outputId);\n",
              "  outputElement.innerHTML = '';\n",
              "\n",
              "  const pickedPromise = new Promise((resolve) => {\n",
              "    inputElement.addEventListener('change', (e) => {\n",
              "      resolve(e.target.files);\n",
              "    });\n",
              "  });\n",
              "\n",
              "  const cancel = document.createElement('button');\n",
              "  inputElement.parentElement.appendChild(cancel);\n",
              "  cancel.textContent = 'Cancel upload';\n",
              "  const cancelPromise = new Promise((resolve) => {\n",
              "    cancel.onclick = () => {\n",
              "      resolve(null);\n",
              "    };\n",
              "  });\n",
              "\n",
              "  // Wait for the user to pick the files.\n",
              "  const files = yield {\n",
              "    promise: Promise.race([pickedPromise, cancelPromise]),\n",
              "    response: {\n",
              "      action: 'starting',\n",
              "    }\n",
              "  };\n",
              "\n",
              "  cancel.remove();\n",
              "\n",
              "  // Disable the input element since further picks are not allowed.\n",
              "  inputElement.disabled = true;\n",
              "\n",
              "  if (!files) {\n",
              "    return {\n",
              "      response: {\n",
              "        action: 'complete',\n",
              "      }\n",
              "    };\n",
              "  }\n",
              "\n",
              "  for (const file of files) {\n",
              "    const li = document.createElement('li');\n",
              "    li.append(span(file.name, {fontWeight: 'bold'}));\n",
              "    li.append(span(\n",
              "        `(${file.type || 'n/a'}) - ${file.size} bytes, ` +\n",
              "        `last modified: ${\n",
              "            file.lastModifiedDate ? file.lastModifiedDate.toLocaleDateString() :\n",
              "                                    'n/a'} - `));\n",
              "    const percent = span('0% done');\n",
              "    li.appendChild(percent);\n",
              "\n",
              "    outputElement.appendChild(li);\n",
              "\n",
              "    const fileDataPromise = new Promise((resolve) => {\n",
              "      const reader = new FileReader();\n",
              "      reader.onload = (e) => {\n",
              "        resolve(e.target.result);\n",
              "      };\n",
              "      reader.readAsArrayBuffer(file);\n",
              "    });\n",
              "    // Wait for the data to be ready.\n",
              "    let fileData = yield {\n",
              "      promise: fileDataPromise,\n",
              "      response: {\n",
              "        action: 'continue',\n",
              "      }\n",
              "    };\n",
              "\n",
              "    // Use a chunked sending to avoid message size limits. See b/62115660.\n",
              "    let position = 0;\n",
              "    do {\n",
              "      const length = Math.min(fileData.byteLength - position, MAX_PAYLOAD_SIZE);\n",
              "      const chunk = new Uint8Array(fileData, position, length);\n",
              "      position += length;\n",
              "\n",
              "      const base64 = btoa(String.fromCharCode.apply(null, chunk));\n",
              "      yield {\n",
              "        response: {\n",
              "          action: 'append',\n",
              "          file: file.name,\n",
              "          data: base64,\n",
              "        },\n",
              "      };\n",
              "\n",
              "      let percentDone = fileData.byteLength === 0 ?\n",
              "          100 :\n",
              "          Math.round((position / fileData.byteLength) * 100);\n",
              "      percent.textContent = `${percentDone}% done`;\n",
              "\n",
              "    } while (position < fileData.byteLength);\n",
              "  }\n",
              "\n",
              "  // All done.\n",
              "  yield {\n",
              "    response: {\n",
              "      action: 'complete',\n",
              "    }\n",
              "  };\n",
              "}\n",
              "\n",
              "scope.google = scope.google || {};\n",
              "scope.google.colab = scope.google.colab || {};\n",
              "scope.google.colab._files = {\n",
              "  _uploadFiles,\n",
              "  _uploadFilesContinue,\n",
              "};\n",
              "})(self);\n",
              "</script> "
            ]
          },
          "metadata": {}
        },
        {
          "output_type": "stream",
          "name": "stdout",
          "text": [
            "Saving mnist_35_bag.png to mnist_35_bag.png\n",
            "Bag\n"
          ]
        },
        {
          "output_type": "display_data",
          "data": {
            "text/plain": [
              "<Figure size 432x288 with 1 Axes>"
            ],
            "image/png": "[encoded data removed]"
          },
          "metadata": {}
        }
      ]
    },
    {
      "cell_type": "markdown",
      "source": [
        "## Save Model"
      ],
      "metadata": {
        "id": "Gdni9-SWcgGm"
      },
      "id": "Gdni9-SWcgGm"
    },
    {
      "cell_type": "code",
      "source": [
        "# model.cpu()\n",
        "torch.save({'arch': 'vgg',\n",
        "            'state_dict': model.state_dict()},\n",
        "            'classifier.pth')"
      ],
      "metadata": {
        "id": "F05Jhm-Zcfpk"
      },
      "id": "F05Jhm-Zcfpk",
      "execution_count": 25,
      "outputs": []
    },
    {
      "cell_type": "code",
      "source": [
        "import torchvision.transforms as T\n",
        "from PIL import Image\n",
        " \n",
        "# invert the colors with probability=1\n",
        "transform = transforms.Compose([\n",
        "    transforms.Grayscale(),\n",
        "    transforms.RandomInvert(p=1),\n",
        "    transforms.Resize((224,224)),\n",
        "    transforms.RandomAdjustSharpness(2, p=1)\n",
        "    ])\n",
        "\n",
        "%matplotlib inline\n",
        "\n",
        "uploaded = files.upload()\n",
        "\n",
        "for fn in uploaded.keys():\n",
        " \n",
        "  # predicting images\n",
        "  path = fn\n",
        "  # read image from your computer\n",
        "  img = Image.open(path)\n",
        "\n",
        "  img = transform(img)\n",
        "  display(img)"
      ],
      "metadata": {
        "colab": {
          "base_uri": "https://localhost:8080/",
          "height": 298
        },
        "id": "SZcDUU57i-Dr",
        "outputId": "322ab3d5-1224-47ad-e85e-4a5594f73ce6"
      },
      "id": "SZcDUU57i-Dr",
      "execution_count": 40,
      "outputs": [
        {
          "output_type": "display_data",
          "data": {
            "text/plain": [
              "<IPython.core.display.HTML object>"
            ],
            "text/html": [
              "\n",
              "     <input type=\"file\" id=\"files-762a42ca-a351-432e-a62a-de7956125bad\" name=\"files[]\" multiple disabled\n",
              "        style=\"border:none\" />\n",
              "     <output id=\"result-762a42ca-a351-432e-a62a-de7956125bad\">\n",
              "      Upload widget is only available when the cell has been executed in the\n",
              "      current browser session. Please rerun this cell to enable.\n",
              "      </output>\n",
              "      <script>// Copyright 2017 Google LLC\n",
              "//\n",
              "// Licensed under the Apache License, Version 2.0 (the \"License\");\n",
              "// you may not use this file except in compliance with the License.\n",
              "// You may obtain a copy of the License at\n",
              "//\n",
              "//      http://www.apache.org/licenses/LICENSE-2.0\n",
              "//\n",
              "// Unless required by applicable law or agreed to in writing, software\n",
              "// distributed under the License is distributed on an \"AS IS\" BASIS,\n",
              "// WITHOUT WARRANTIES OR CONDITIONS OF ANY KIND, either express or implied.\n",
              "// See the License for the specific language governing permissions and\n",
              "// limitations under the License.\n",
              "\n",
              "/**\n",
              " * @fileoverview Helpers for google.colab Python module.\n",
              " */\n",
              "(function(scope) {\n",
              "function span(text, styleAttributes = {}) {\n",
              "  const element = document.createElement('span');\n",
              "  element.textContent = text;\n",
              "  for (const key of Object.keys(styleAttributes)) {\n",
              "    element.style[key] = styleAttributes[key];\n",
              "  }\n",
              "  return element;\n",
              "}\n",
              "\n",
              "// Max number of bytes which will be uploaded at a time.\n",
              "const MAX_PAYLOAD_SIZE = 100 * 1024;\n",
              "\n",
              "function _uploadFiles(inputId, outputId) {\n",
              "  const steps = uploadFilesStep(inputId, outputId);\n",
              "  const outputElement = document.getElementById(outputId);\n",
              "  // Cache steps on the outputElement to make it available for the next call\n",
              "  // to uploadFilesContinue from Python.\n",
              "  outputElement.steps = steps;\n",
              "\n",
              "  return _uploadFilesContinue(outputId);\n",
              "}\n",
              "\n",
              "// This is roughly an async generator (not supported in the browser yet),\n",
              "// where there are multiple asynchronous steps and the Python side is going\n",
              "// to poll for completion of each step.\n",
              "// This uses a Promise to block the python side on completion of each step,\n",
              "// then passes the result of the previous step as the input to the next step.\n",
              "function _uploadFilesContinue(outputId) {\n",
              "  const outputElement = document.getElementById(outputId);\n",
              "  const steps = outputElement.steps;\n",
              "\n",
              "  const next = steps.next(outputElement.lastPromiseValue);\n",
              "  return Promise.resolve(next.value.promise).then((value) => {\n",
              "    // Cache the last promise value to make it available to the next\n",
              "    // step of the generator.\n",
              "    outputElement.lastPromiseValue = value;\n",
              "    return next.value.response;\n",
              "  });\n",
              "}\n",
              "\n",
              "/**\n",
              " * Generator function which is called between each async step of the upload\n",
              " * process.\n",
              " * @param {string} inputId Element ID of the input file picker element.\n",
              " * @param {string} outputId Element ID of the output display.\n",
              " * @return {!Iterable<!Object>} Iterable of next steps.\n",
              " */\n",
              "function* uploadFilesStep(inputId, outputId) {\n",
              "  const inputElement = document.getElementById(inputId);\n",
              "  inputElement.disabled = false;\n",
              "\n",
              "  const outputElement = document.getElementById(outputId);\n",
              "  outputElement.innerHTML = '';\n",
              "\n",
              "  const pickedPromise = new Promise((resolve) => {\n",
              "    inputElement.addEventListener('change', (e) => {\n",
              "      resolve(e.target.files);\n",
              "    });\n",
              "  });\n",
              "\n",
              "  const cancel = document.createElement('button');\n",
              "  inputElement.parentElement.appendChild(cancel);\n",
              "  cancel.textContent = 'Cancel upload';\n",
              "  const cancelPromise = new Promise((resolve) => {\n",
              "    cancel.onclick = () => {\n",
              "      resolve(null);\n",
              "    };\n",
              "  });\n",
              "\n",
              "  // Wait for the user to pick the files.\n",
              "  const files = yield {\n",
              "    promise: Promise.race([pickedPromise, cancelPromise]),\n",
              "    response: {\n",
              "      action: 'starting',\n",
              "    }\n",
              "  };\n",
              "\n",
              "  cancel.remove();\n",
              "\n",
              "  // Disable the input element since further picks are not allowed.\n",
              "  inputElement.disabled = true;\n",
              "\n",
              "  if (!files) {\n",
              "    return {\n",
              "      response: {\n",
              "        action: 'complete',\n",
              "      }\n",
              "    };\n",
              "  }\n",
              "\n",
              "  for (const file of files) {\n",
              "    const li = document.createElement('li');\n",
              "    li.append(span(file.name, {fontWeight: 'bold'}));\n",
              "    li.append(span(\n",
              "        `(${file.type || 'n/a'}) - ${file.size} bytes, ` +\n",
              "        `last modified: ${\n",
              "            file.lastModifiedDate ? file.lastModifiedDate.toLocaleDateString() :\n",
              "                                    'n/a'} - `));\n",
              "    const percent = span('0% done');\n",
              "    li.appendChild(percent);\n",
              "\n",
              "    outputElement.appendChild(li);\n",
              "\n",
              "    const fileDataPromise = new Promise((resolve) => {\n",
              "      const reader = new FileReader();\n",
              "      reader.onload = (e) => {\n",
              "        resolve(e.target.result);\n",
              "      };\n",
              "      reader.readAsArrayBuffer(file);\n",
              "    });\n",
              "    // Wait for the data to be ready.\n",
              "    let fileData = yield {\n",
              "      promise: fileDataPromise,\n",
              "      response: {\n",
              "        action: 'continue',\n",
              "      }\n",
              "    };\n",
              "\n",
              "    // Use a chunked sending to avoid message size limits. See b/62115660.\n",
              "    let position = 0;\n",
              "    do {\n",
              "      const length = Math.min(fileData.byteLength - position, MAX_PAYLOAD_SIZE);\n",
              "      const chunk = new Uint8Array(fileData, position, length);\n",
              "      position += length;\n",
              "\n",
              "      const base64 = btoa(String.fromCharCode.apply(null, chunk));\n",
              "      yield {\n",
              "        response: {\n",
              "          action: 'append',\n",
              "          file: file.name,\n",
              "          data: base64,\n",
              "        },\n",
              "      };\n",
              "\n",
              "      let percentDone = fileData.byteLength === 0 ?\n",
              "          100 :\n",
              "          Math.round((position / fileData.byteLength) * 100);\n",
              "      percent.textContent = `${percentDone}% done`;\n",
              "\n",
              "    } while (position < fileData.byteLength);\n",
              "  }\n",
              "\n",
              "  // All done.\n",
              "  yield {\n",
              "    response: {\n",
              "      action: 'complete',\n",
              "    }\n",
              "  };\n",
              "}\n",
              "\n",
              "scope.google = scope.google || {};\n",
              "scope.google.colab = scope.google.colab || {};\n",
              "scope.google.colab._files = {\n",
              "  _uploadFiles,\n",
              "  _uploadFilesContinue,\n",
              "};\n",
              "})(self);\n",
              "</script> "
            ]
          },
          "metadata": {}
        },
        {
          "output_type": "stream",
          "name": "stdout",
          "text": [
            "Saving sandal_1.jpeg to sandal_1.jpeg\n"
          ]
        },
        {
          "output_type": "display_data",
          "data": {
            "text/plain": [
              "<PIL.Image.Image image mode=L size=224x224 at 0x7FC52B672E90>"
            ],
            "image/png": "[encoded data removed]"
          },
          "metadata": {}
        }
      ]
    }
  ],
  "metadata": {
    "kernelspec": {
      "display_name": "Python 3",
      "language": "python",
      "name": "python3"
    },
    "language_info": {
      "codemirror_mode": {
        "name": "ipython",
        "version": 3
      },
      "file_extension": ".py",
      "mimetype": "text/x-python",
      "name": "python",
      "nbconvert_exporter": "python",
      "pygments_lexer": "ipython3",
      "version": "3.7.9"
    },
    "papermill": {
      "default_parameters": {},
      "duration": 13498.927965,
      "end_time": "2021-04-18T17:40:33.580092",
      "environment_variables": {},
      "exception": null,
      "input_path": "__notebook__.ipynb",
      "output_path": "__notebook__.ipynb",
      "parameters": {},
      "start_time": "2021-04-18T13:55:34.652127",
      "version": "2.3.2"
    },
    "colab": {
      "provenance": [],
      "collapsed_sections": []
    },
    "accelerator": "GPU",
    "widgets": {
      "application/vnd.jupyter.widget-state+json": {
        "99a86657a0964e61be010a0607dc31ef": {
          "model_module": "@jupyter-widgets/controls",
          "model_name": "HBoxModel",
          "model_module_version": "1.5.0",
          "state": {
            "_dom_classes": [],
            "_model_module": "@jupyter-widgets/controls",
            "_model_module_version": "1.5.0",
            "_model_name": "HBoxModel",
            "_view_count": null,
            "_view_module": "@jupyter-widgets/controls",
            "_view_module_version": "1.5.0",
            "_view_name": "HBoxView",
            "box_style": "",
            "children": [
              "IPY_MODEL_40abecb428474b389910eec777d6bad1",
              "IPY_MODEL_ba4aec444af04dd08218ae6ac6388c61",
              "IPY_MODEL_6f7e6113f0bd475a80a6a13423c8d1b2"
            ],
            "layout": "IPY_MODEL_356a64c176994b4db39cc0fd9313d5ba"
          }
        },
        "40abecb428474b389910eec777d6bad1": {
          "model_module": "@jupyter-widgets/controls",
          "model_name": "HTMLModel",
          "model_module_version": "1.5.0",
          "state": {
            "_dom_classes": [],
            "_model_module": "@jupyter-widgets/controls",
            "_model_module_version": "1.5.0",
            "_model_name": "HTMLModel",
            "_view_count": null,
            "_view_module": "@jupyter-widgets/controls",
            "_view_module_version": "1.5.0",
            "_view_name": "HTMLView",
            "description": "",
            "description_tooltip": null,
            "layout": "IPY_MODEL_3d0dd5c3c8b148eb8cc26d156bdd35d1",
            "placeholder": "​",
            "style": "IPY_MODEL_0047659cf0e24038894eee1a104df9dc",
            "value": "100%"
          }
        },
        "ba4aec444af04dd08218ae6ac6388c61": {
          "model_module": "@jupyter-widgets/controls",
          "model_name": "FloatProgressModel",
          "model_module_version": "1.5.0",
          "state": {
            "_dom_classes": [],
            "_model_module": "@jupyter-widgets/controls",
            "_model_module_version": "1.5.0",
            "_model_name": "FloatProgressModel",
            "_view_count": null,
            "_view_module": "@jupyter-widgets/controls",
            "_view_module_version": "1.5.0",
            "_view_name": "ProgressView",
            "bar_style": "success",
            "description": "",
            "description_tooltip": null,
            "layout": "IPY_MODEL_6be4f37227fa430b83c775e82c066342",
            "max": 26421880,
            "min": 0,
            "orientation": "horizontal",
            "style": "IPY_MODEL_cd6860498de144a1afd7e30c814a8731",
            "value": 26421880
          }
        },
        "6f7e6113f0bd475a80a6a13423c8d1b2": {
          "model_module": "@jupyter-widgets/controls",
          "model_name": "HTMLModel",
          "model_module_version": "1.5.0",
          "state": {
            "_dom_classes": [],
            "_model_module": "@jupyter-widgets/controls",
            "_model_module_version": "1.5.0",
            "_model_name": "HTMLModel",
            "_view_count": null,
            "_view_module": "@jupyter-widgets/controls",
            "_view_module_version": "1.5.0",
            "_view_name": "HTMLView",
            "description": "",
            "description_tooltip": null,
            "layout": "IPY_MODEL_5069b10fe717411eb22fb545f9c7e35c",
            "placeholder": "​",
            "style": "IPY_MODEL_17b6be4a1ba44416a8861755f6d8934f",
            "value": " 26421880/26421880 [00:03&lt;00:00, 13607399.14it/s]"
          }
        },
        "356a64c176994b4db39cc0fd9313d5ba": {
          "model_module": "@jupyter-widgets/base",
          "model_name": "LayoutModel",
          "model_module_version": "1.2.0",
          "state": {
            "_model_module": "@jupyter-widgets/base",
            "_model_module_version": "1.2.0",
            "_model_name": "LayoutModel",
            "_view_count": null,
            "_view_module": "@jupyter-widgets/base",
            "_view_module_version": "1.2.0",
            "_view_name": "LayoutView",
            "align_content": null,
            "align_items": null,
            "align_self": null,
            "border": null,
            "bottom": null,
            "display": null,
            "flex": null,
            "flex_flow": null,
            "grid_area": null,
            "grid_auto_columns": null,
            "grid_auto_flow": null,
            "grid_auto_rows": null,
            "grid_column": null,
            "grid_gap": null,
            "grid_row": null,
            "grid_template_areas": null,
            "grid_template_columns": null,
            "grid_template_rows": null,
            "height": null,
            "justify_content": null,
            "justify_items": null,
            "left": null,
            "margin": null,
            "max_height": null,
            "max_width": null,
            "min_height": null,
            "min_width": null,
            "object_fit": null,
            "object_position": null,
            "order": null,
            "overflow": null,
            "overflow_x": null,
            "overflow_y": null,
            "padding": null,
            "right": null,
            "top": null,
            "visibility": null,
            "width": null
          }
        },
        "3d0dd5c3c8b148eb8cc26d156bdd35d1": {
          "model_module": "@jupyter-widgets/base",
          "model_name": "LayoutModel",
          "model_module_version": "1.2.0",
          "state": {
            "_model_module": "@jupyter-widgets/base",
            "_model_module_version": "1.2.0",
            "_model_name": "LayoutModel",
            "_view_count": null,
            "_view_module": "@jupyter-widgets/base",
            "_view_module_version": "1.2.0",
            "_view_name": "LayoutView",
            "align_content": null,
            "align_items": null,
            "align_self": null,
            "border": null,
            "bottom": null,
            "display": null,
            "flex": null,
            "flex_flow": null,
            "grid_area": null,
            "grid_auto_columns": null,
            "grid_auto_flow": null,
            "grid_auto_rows": null,
            "grid_column": null,
            "grid_gap": null,
            "grid_row": null,
            "grid_template_areas": null,
            "grid_template_columns": null,
            "grid_template_rows": null,
            "height": null,
            "justify_content": null,
            "justify_items": null,
            "left": null,
            "margin": null,
            "max_height": null,
            "max_width": null,
            "min_height": null,
            "min_width": null,
            "object_fit": null,
            "object_position": null,
            "order": null,
            "overflow": null,
            "overflow_x": null,
            "overflow_y": null,
            "padding": null,
            "right": null,
            "top": null,
            "visibility": null,
            "width": null
          }
        },
        "0047659cf0e24038894eee1a104df9dc": {
          "model_module": "@jupyter-widgets/controls",
          "model_name": "DescriptionStyleModel",
          "model_module_version": "1.5.0",
          "state": {
            "_model_module": "@jupyter-widgets/controls",
            "_model_module_version": "1.5.0",
            "_model_name": "DescriptionStyleModel",
            "_view_count": null,
            "_view_module": "@jupyter-widgets/base",
            "_view_module_version": "1.2.0",
            "_view_name": "StyleView",
            "description_width": ""
          }
        },
        "6be4f37227fa430b83c775e82c066342": {
          "model_module": "@jupyter-widgets/base",
          "model_name": "LayoutModel",
          "model_module_version": "1.2.0",
          "state": {
            "_model_module": "@jupyter-widgets/base",
            "_model_module_version": "1.2.0",
            "_model_name": "LayoutModel",
            "_view_count": null,
            "_view_module": "@jupyter-widgets/base",
            "_view_module_version": "1.2.0",
            "_view_name": "LayoutView",
            "align_content": null,
            "align_items": null,
            "align_self": null,
            "border": null,
            "bottom": null,
            "display": null,
            "flex": null,
            "flex_flow": null,
            "grid_area": null,
            "grid_auto_columns": null,
            "grid_auto_flow": null,
            "grid_auto_rows": null,
            "grid_column": null,
            "grid_gap": null,
            "grid_row": null,
            "grid_template_areas": null,
            "grid_template_columns": null,
            "grid_template_rows": null,
            "height": null,
            "justify_content": null,
            "justify_items": null,
            "left": null,
            "margin": null,
            "max_height": null,
            "max_width": null,
            "min_height": null,
            "min_width": null,
            "object_fit": null,
            "object_position": null,
            "order": null,
            "overflow": null,
            "overflow_x": null,
            "overflow_y": null,
            "padding": null,
            "right": null,
            "top": null,
            "visibility": null,
            "width": null
          }
        },
        "cd6860498de144a1afd7e30c814a8731": {
          "model_module": "@jupyter-widgets/controls",
          "model_name": "ProgressStyleModel",
          "model_module_version": "1.5.0",
          "state": {
            "_model_module": "@jupyter-widgets/controls",
            "_model_module_version": "1.5.0",
            "_model_name": "ProgressStyleModel",
            "_view_count": null,
            "_view_module": "@jupyter-widgets/base",
            "_view_module_version": "1.2.0",
            "_view_name": "StyleView",
            "bar_color": null,
            "description_width": ""
          }
        },
        "5069b10fe717411eb22fb545f9c7e35c": {
          "model_module": "@jupyter-widgets/base",
          "model_name": "LayoutModel",
          "model_module_version": "1.2.0",
          "state": {
            "_model_module": "@jupyter-widgets/base",
            "_model_module_version": "1.2.0",
            "_model_name": "LayoutModel",
            "_view_count": null,
            "_view_module": "@jupyter-widgets/base",
            "_view_module_version": "1.2.0",
            "_view_name": "LayoutView",
            "align_content": null,
            "align_items": null,
            "align_self": null,
            "border": null,
            "bottom": null,
            "display": null,
            "flex": null,
            "flex_flow": null,
            "grid_area": null,
            "grid_auto_columns": null,
            "grid_auto_flow": null,
            "grid_auto_rows": null,
            "grid_column": null,
            "grid_gap": null,
            "grid_row": null,
            "grid_template_areas": null,
            "grid_template_columns": null,
            "grid_template_rows": null,
            "height": null,
            "justify_content": null,
            "justify_items": null,
            "left": null,
            "margin": null,
            "max_height": null,
            "max_width": null,
            "min_height": null,
            "min_width": null,
            "object_fit": null,
            "object_position": null,
            "order": null,
            "overflow": null,
            "overflow_x": null,
            "overflow_y": null,
            "padding": null,
            "right": null,
            "top": null,
            "visibility": null,
            "width": null
          }
        },
        "17b6be4a1ba44416a8861755f6d8934f": {
          "model_module": "@jupyter-widgets/controls",
          "model_name": "DescriptionStyleModel",
          "model_module_version": "1.5.0",
          "state": {
            "_model_module": "@jupyter-widgets/controls",
            "_model_module_version": "1.5.0",
            "_model_name": "DescriptionStyleModel",
            "_view_count": null,
            "_view_module": "@jupyter-widgets/base",
            "_view_module_version": "1.2.0",
            "_view_name": "StyleView",
            "description_width": ""
          }
        },
        "375f8b97bf834a899d863bd11963407d": {
          "model_module": "@jupyter-widgets/controls",
          "model_name": "HBoxModel",
          "model_module_version": "1.5.0",
          "state": {
            "_dom_classes": [],
            "_model_module": "@jupyter-widgets/controls",
            "_model_module_version": "1.5.0",
            "_model_name": "HBoxModel",
            "_view_count": null,
            "_view_module": "@jupyter-widgets/controls",
            "_view_module_version": "1.5.0",
            "_view_name": "HBoxView",
            "box_style": "",
            "children": [
              "IPY_MODEL_31180871681849259d5102daf4b1f5c4",
              "IPY_MODEL_3b7e2b99553e4205a9aa4519c8415934",
              "IPY_MODEL_d7011992e1d44a57a4f1ebf303480c0e"
            ],
            "layout": "IPY_MODEL_6d1abcc9caed420abd3b7bede580c1dd"
          }
        },
        "31180871681849259d5102daf4b1f5c4": {
          "model_module": "@jupyter-widgets/controls",
          "model_name": "HTMLModel",
          "model_module_version": "1.5.0",
          "state": {
            "_dom_classes": [],
            "_model_module": "@jupyter-widgets/controls",
            "_model_module_version": "1.5.0",
            "_model_name": "HTMLModel",
            "_view_count": null,
            "_view_module": "@jupyter-widgets/controls",
            "_view_module_version": "1.5.0",
            "_view_name": "HTMLView",
            "description": "",
            "description_tooltip": null,
            "layout": "IPY_MODEL_d98c4fa1c66a497f8f1f9e8583271520",
            "placeholder": "​",
            "style": "IPY_MODEL_f2a8da4cfe4e409b8599ae966b13609f",
            "value": "100%"
          }
        },
        "3b7e2b99553e4205a9aa4519c8415934": {
          "model_module": "@jupyter-widgets/controls",
          "model_name": "FloatProgressModel",
          "model_module_version": "1.5.0",
          "state": {
            "_dom_classes": [],
            "_model_module": "@jupyter-widgets/controls",
            "_model_module_version": "1.5.0",
            "_model_name": "FloatProgressModel",
            "_view_count": null,
            "_view_module": "@jupyter-widgets/controls",
            "_view_module_version": "1.5.0",
            "_view_name": "ProgressView",
            "bar_style": "success",
            "description": "",
            "description_tooltip": null,
            "layout": "IPY_MODEL_2583591160184f93bb6dba608c6a327d",
            "max": 29515,
            "min": 0,
            "orientation": "horizontal",
            "style": "IPY_MODEL_046c0b92d81e46dbb37ebbc675da5f24",
            "value": 29515
          }
        },
        "d7011992e1d44a57a4f1ebf303480c0e": {
          "model_module": "@jupyter-widgets/controls",
          "model_name": "HTMLModel",
          "model_module_version": "1.5.0",
          "state": {
            "_dom_classes": [],
            "_model_module": "@jupyter-widgets/controls",
            "_model_module_version": "1.5.0",
            "_model_name": "HTMLModel",
            "_view_count": null,
            "_view_module": "@jupyter-widgets/controls",
            "_view_module_version": "1.5.0",
            "_view_name": "HTMLView",
            "description": "",
            "description_tooltip": null,
            "layout": "IPY_MODEL_c1dd4db5f4b7442abad7e91a8c54c6cd",
            "placeholder": "​",
            "style": "IPY_MODEL_a2251c5e79474e8dad2b5d80b72f9927",
            "value": " 29515/29515 [00:00&lt;00:00, 142717.02it/s]"
          }
        },
        "6d1abcc9caed420abd3b7bede580c1dd": {
          "model_module": "@jupyter-widgets/base",
          "model_name": "LayoutModel",
          "model_module_version": "1.2.0",
          "state": {
            "_model_module": "@jupyter-widgets/base",
            "_model_module_version": "1.2.0",
            "_model_name": "LayoutModel",
            "_view_count": null,
            "_view_module": "@jupyter-widgets/base",
            "_view_module_version": "1.2.0",
            "_view_name": "LayoutView",
            "align_content": null,
            "align_items": null,
            "align_self": null,
            "border": null,
            "bottom": null,
            "display": null,
            "flex": null,
            "flex_flow": null,
            "grid_area": null,
            "grid_auto_columns": null,
            "grid_auto_flow": null,
            "grid_auto_rows": null,
            "grid_column": null,
            "grid_gap": null,
            "grid_row": null,
            "grid_template_areas": null,
            "grid_template_columns": null,
            "grid_template_rows": null,
            "height": null,
            "justify_content": null,
            "justify_items": null,
            "left": null,
            "margin": null,
            "max_height": null,
            "max_width": null,
            "min_height": null,
            "min_width": null,
            "object_fit": null,
            "object_position": null,
            "order": null,
            "overflow": null,
            "overflow_x": null,
            "overflow_y": null,
            "padding": null,
            "right": null,
            "top": null,
            "visibility": null,
            "width": null
          }
        },
        "d98c4fa1c66a497f8f1f9e8583271520": {
          "model_module": "@jupyter-widgets/base",
          "model_name": "LayoutModel",
          "model_module_version": "1.2.0",
          "state": {
            "_model_module": "@jupyter-widgets/base",
            "_model_module_version": "1.2.0",
            "_model_name": "LayoutModel",
            "_view_count": null,
            "_view_module": "@jupyter-widgets/base",
            "_view_module_version": "1.2.0",
            "_view_name": "LayoutView",
            "align_content": null,
            "align_items": null,
            "align_self": null,
            "border": null,
            "bottom": null,
            "display": null,
            "flex": null,
            "flex_flow": null,
            "grid_area": null,
            "grid_auto_columns": null,
            "grid_auto_flow": null,
            "grid_auto_rows": null,
            "grid_column": null,
            "grid_gap": null,
            "grid_row": null,
            "grid_template_areas": null,
            "grid_template_columns": null,
            "grid_template_rows": null,
            "height": null,
            "justify_content": null,
            "justify_items": null,
            "left": null,
            "margin": null,
            "max_height": null,
            "max_width": null,
            "min_height": null,
            "min_width": null,
            "object_fit": null,
            "object_position": null,
            "order": null,
            "overflow": null,
            "overflow_x": null,
            "overflow_y": null,
            "padding": null,
            "right": null,
            "top": null,
            "visibility": null,
            "width": null
          }
        },
        "f2a8da4cfe4e409b8599ae966b13609f": {
          "model_module": "@jupyter-widgets/controls",
          "model_name": "DescriptionStyleModel",
          "model_module_version": "1.5.0",
          "state": {
            "_model_module": "@jupyter-widgets/controls",
            "_model_module_version": "1.5.0",
            "_model_name": "DescriptionStyleModel",
            "_view_count": null,
            "_view_module": "@jupyter-widgets/base",
            "_view_module_version": "1.2.0",
            "_view_name": "StyleView",
            "description_width": ""
          }
        },
        "2583591160184f93bb6dba608c6a327d": {
          "model_module": "@jupyter-widgets/base",
          "model_name": "LayoutModel",
          "model_module_version": "1.2.0",
          "state": {
            "_model_module": "@jupyter-widgets/base",
            "_model_module_version": "1.2.0",
            "_model_name": "LayoutModel",
            "_view_count": null,
            "_view_module": "@jupyter-widgets/base",
            "_view_module_version": "1.2.0",
            "_view_name": "LayoutView",
            "align_content": null,
            "align_items": null,
            "align_self": null,
            "border": null,
            "bottom": null,
            "display": null,
            "flex": null,
            "flex_flow": null,
            "grid_area": null,
            "grid_auto_columns": null,
            "grid_auto_flow": null,
            "grid_auto_rows": null,
            "grid_column": null,
            "grid_gap": null,
            "grid_row": null,
            "grid_template_areas": null,
            "grid_template_columns": null,
            "grid_template_rows": null,
            "height": null,
            "justify_content": null,
            "justify_items": null,
            "left": null,
            "margin": null,
            "max_height": null,
            "max_width": null,
            "min_height": null,
            "min_width": null,
            "object_fit": null,
            "object_position": null,
            "order": null,
            "overflow": null,
            "overflow_x": null,
            "overflow_y": null,
            "padding": null,
            "right": null,
            "top": null,
            "visibility": null,
            "width": null
          }
        },
        "046c0b92d81e46dbb37ebbc675da5f24": {
          "model_module": "@jupyter-widgets/controls",
          "model_name": "ProgressStyleModel",
          "model_module_version": "1.5.0",
          "state": {
            "_model_module": "@jupyter-widgets/controls",
            "_model_module_version": "1.5.0",
            "_model_name": "ProgressStyleModel",
            "_view_count": null,
            "_view_module": "@jupyter-widgets/base",
            "_view_module_version": "1.2.0",
            "_view_name": "StyleView",
            "bar_color": null,
            "description_width": ""
          }
        },
        "c1dd4db5f4b7442abad7e91a8c54c6cd": {
          "model_module": "@jupyter-widgets/base",
          "model_name": "LayoutModel",
          "model_module_version": "1.2.0",
          "state": {
            "_model_module": "@jupyter-widgets/base",
            "_model_module_version": "1.2.0",
            "_model_name": "LayoutModel",
            "_view_count": null,
            "_view_module": "@jupyter-widgets/base",
            "_view_module_version": "1.2.0",
            "_view_name": "LayoutView",
            "align_content": null,
            "align_items": null,
            "align_self": null,
            "border": null,
            "bottom": null,
            "display": null,
            "flex": null,
            "flex_flow": null,
            "grid_area": null,
            "grid_auto_columns": null,
            "grid_auto_flow": null,
            "grid_auto_rows": null,
            "grid_column": null,
            "grid_gap": null,
            "grid_row": null,
            "grid_template_areas": null,
            "grid_template_columns": null,
            "grid_template_rows": null,
            "height": null,
            "justify_content": null,
            "justify_items": null,
            "left": null,
            "margin": null,
            "max_height": null,
            "max_width": null,
            "min_height": null,
            "min_width": null,
            "object_fit": null,
            "object_position": null,
            "order": null,
            "overflow": null,
            "overflow_x": null,
            "overflow_y": null,
            "padding": null,
            "right": null,
            "top": null,
            "visibility": null,
            "width": null
          }
        },
        "a2251c5e79474e8dad2b5d80b72f9927": {
          "model_module": "@jupyter-widgets/controls",
          "model_name": "DescriptionStyleModel",
          "model_module_version": "1.5.0",
          "state": {
            "_model_module": "@jupyter-widgets/controls",
            "_model_module_version": "1.5.0",
            "_model_name": "DescriptionStyleModel",
            "_view_count": null,
            "_view_module": "@jupyter-widgets/base",
            "_view_module_version": "1.2.0",
            "_view_name": "StyleView",
            "description_width": ""
          }
        },
        "8fe928ccfbb141e8813ad5ec94ceb615": {
          "model_module": "@jupyter-widgets/controls",
          "model_name": "HBoxModel",
          "model_module_version": "1.5.0",
          "state": {
            "_dom_classes": [],
            "_model_module": "@jupyter-widgets/controls",
            "_model_module_version": "1.5.0",
            "_model_name": "HBoxModel",
            "_view_count": null,
            "_view_module": "@jupyter-widgets/controls",
            "_view_module_version": "1.5.0",
            "_view_name": "HBoxView",
            "box_style": "",
            "children": [
              "IPY_MODEL_087282481d4d48778dffa09f0ae2ea35",
              "IPY_MODEL_47a17e2322674c02bcf5fb751aaafeed",
              "IPY_MODEL_642742562daa4821a49a8cccc55c8106"
            ],
            "layout": "IPY_MODEL_3926bd41f4e843d1ae1137a23a3fc50e"
          }
        },
        "087282481d4d48778dffa09f0ae2ea35": {
          "model_module": "@jupyter-widgets/controls",
          "model_name": "HTMLModel",
          "model_module_version": "1.5.0",
          "state": {
            "_dom_classes": [],
            "_model_module": "@jupyter-widgets/controls",
            "_model_module_version": "1.5.0",
            "_model_name": "HTMLModel",
            "_view_count": null,
            "_view_module": "@jupyter-widgets/controls",
            "_view_module_version": "1.5.0",
            "_view_name": "HTMLView",
            "description": "",
            "description_tooltip": null,
            "layout": "IPY_MODEL_ce471bdae09e4eb6ad481bb4de649ca7",
            "placeholder": "​",
            "style": "IPY_MODEL_67f1b869135c48deba2f00a1ad73f3d4",
            "value": "100%"
          }
        },
        "47a17e2322674c02bcf5fb751aaafeed": {
          "model_module": "@jupyter-widgets/controls",
          "model_name": "FloatProgressModel",
          "model_module_version": "1.5.0",
          "state": {
            "_dom_classes": [],
            "_model_module": "@jupyter-widgets/controls",
            "_model_module_version": "1.5.0",
            "_model_name": "FloatProgressModel",
            "_view_count": null,
            "_view_module": "@jupyter-widgets/controls",
            "_view_module_version": "1.5.0",
            "_view_name": "ProgressView",
            "bar_style": "success",
            "description": "",
            "description_tooltip": null,
            "layout": "IPY_MODEL_1b781f64ffce48bc9c91f45eea3db30c",
            "max": 4422102,
            "min": 0,
            "orientation": "horizontal",
            "style": "IPY_MODEL_0d6529dcbac54d10aba6e8be8b2daf9f",
            "value": 4422102
          }
        },
        "642742562daa4821a49a8cccc55c8106": {
          "model_module": "@jupyter-widgets/controls",
          "model_name": "HTMLModel",
          "model_module_version": "1.5.0",
          "state": {
            "_dom_classes": [],
            "_model_module": "@jupyter-widgets/controls",
            "_model_module_version": "1.5.0",
            "_model_name": "HTMLModel",
            "_view_count": null,
            "_view_module": "@jupyter-widgets/controls",
            "_view_module_version": "1.5.0",
            "_view_name": "HTMLView",
            "description": "",
            "description_tooltip": null,
            "layout": "IPY_MODEL_439b223ce7204a3e8ee07b366eef5c28",
            "placeholder": "​",
            "style": "IPY_MODEL_f7103bd0f6ac447e9353f535fa915345",
            "value": " 4422102/4422102 [00:01&lt;00:00, 3297208.90it/s]"
          }
        },
        "3926bd41f4e843d1ae1137a23a3fc50e": {
          "model_module": "@jupyter-widgets/base",
          "model_name": "LayoutModel",
          "model_module_version": "1.2.0",
          "state": {
            "_model_module": "@jupyter-widgets/base",
            "_model_module_version": "1.2.0",
            "_model_name": "LayoutModel",
            "_view_count": null,
            "_view_module": "@jupyter-widgets/base",
            "_view_module_version": "1.2.0",
            "_view_name": "LayoutView",
            "align_content": null,
            "align_items": null,
            "align_self": null,
            "border": null,
            "bottom": null,
            "display": null,
            "flex": null,
            "flex_flow": null,
            "grid_area": null,
            "grid_auto_columns": null,
            "grid_auto_flow": null,
            "grid_auto_rows": null,
            "grid_column": null,
            "grid_gap": null,
            "grid_row": null,
            "grid_template_areas": null,
            "grid_template_columns": null,
            "grid_template_rows": null,
            "height": null,
            "justify_content": null,
            "justify_items": null,
            "left": null,
            "margin": null,
            "max_height": null,
            "max_width": null,
            "min_height": null,
            "min_width": null,
            "object_fit": null,
            "object_position": null,
            "order": null,
            "overflow": null,
            "overflow_x": null,
            "overflow_y": null,
            "padding": null,
            "right": null,
            "top": null,
            "visibility": null,
            "width": null
          }
        },
        "ce471bdae09e4eb6ad481bb4de649ca7": {
          "model_module": "@jupyter-widgets/base",
          "model_name": "LayoutModel",
          "model_module_version": "1.2.0",
          "state": {
            "_model_module": "@jupyter-widgets/base",
            "_model_module_version": "1.2.0",
            "_model_name": "LayoutModel",
            "_view_count": null,
            "_view_module": "@jupyter-widgets/base",
            "_view_module_version": "1.2.0",
            "_view_name": "LayoutView",
            "align_content": null,
            "align_items": null,
            "align_self": null,
            "border": null,
            "bottom": null,
            "display": null,
            "flex": null,
            "flex_flow": null,
            "grid_area": null,
            "grid_auto_columns": null,
            "grid_auto_flow": null,
            "grid_auto_rows": null,
            "grid_column": null,
            "grid_gap": null,
            "grid_row": null,
            "grid_template_areas": null,
            "grid_template_columns": null,
            "grid_template_rows": null,
            "height": null,
            "justify_content": null,
            "justify_items": null,
            "left": null,
            "margin": null,
            "max_height": null,
            "max_width": null,
            "min_height": null,
            "min_width": null,
            "object_fit": null,
            "object_position": null,
            "order": null,
            "overflow": null,
            "overflow_x": null,
            "overflow_y": null,
            "padding": null,
            "right": null,
            "top": null,
            "visibility": null,
            "width": null
          }
        },
        "67f1b869135c48deba2f00a1ad73f3d4": {
          "model_module": "@jupyter-widgets/controls",
          "model_name": "DescriptionStyleModel",
          "model_module_version": "1.5.0",
          "state": {
            "_model_module": "@jupyter-widgets/controls",
            "_model_module_version": "1.5.0",
            "_model_name": "DescriptionStyleModel",
            "_view_count": null,
            "_view_module": "@jupyter-widgets/base",
            "_view_module_version": "1.2.0",
            "_view_name": "StyleView",
            "description_width": ""
          }
        },
        "1b781f64ffce48bc9c91f45eea3db30c": {
          "model_module": "@jupyter-widgets/base",
          "model_name": "LayoutModel",
          "model_module_version": "1.2.0",
          "state": {
            "_model_module": "@jupyter-widgets/base",
            "_model_module_version": "1.2.0",
            "_model_name": "LayoutModel",
            "_view_count": null,
            "_view_module": "@jupyter-widgets/base",
            "_view_module_version": "1.2.0",
            "_view_name": "LayoutView",
            "align_content": null,
            "align_items": null,
            "align_self": null,
            "border": null,
            "bottom": null,
            "display": null,
            "flex": null,
            "flex_flow": null,
            "grid_area": null,
            "grid_auto_columns": null,
            "grid_auto_flow": null,
            "grid_auto_rows": null,
            "grid_column": null,
            "grid_gap": null,
            "grid_row": null,
            "grid_template_areas": null,
            "grid_template_columns": null,
            "grid_template_rows": null,
            "height": null,
            "justify_content": null,
            "justify_items": null,
            "left": null,
            "margin": null,
            "max_height": null,
            "max_width": null,
            "min_height": null,
            "min_width": null,
            "object_fit": null,
            "object_position": null,
            "order": null,
            "overflow": null,
            "overflow_x": null,
            "overflow_y": null,
            "padding": null,
            "right": null,
            "top": null,
            "visibility": null,
            "width": null
          }
        },
        "0d6529dcbac54d10aba6e8be8b2daf9f": {
          "model_module": "@jupyter-widgets/controls",
          "model_name": "ProgressStyleModel",
          "model_module_version": "1.5.0",
          "state": {
            "_model_module": "@jupyter-widgets/controls",
            "_model_module_version": "1.5.0",
            "_model_name": "ProgressStyleModel",
            "_view_count": null,
            "_view_module": "@jupyter-widgets/base",
            "_view_module_version": "1.2.0",
            "_view_name": "StyleView",
            "bar_color": null,
            "description_width": ""
          }
        },
        "439b223ce7204a3e8ee07b366eef5c28": {
          "model_module": "@jupyter-widgets/base",
          "model_name": "LayoutModel",
          "model_module_version": "1.2.0",
          "state": {
            "_model_module": "@jupyter-widgets/base",
            "_model_module_version": "1.2.0",
            "_model_name": "LayoutModel",
            "_view_count": null,
            "_view_module": "@jupyter-widgets/base",
            "_view_module_version": "1.2.0",
            "_view_name": "LayoutView",
            "align_content": null,
            "align_items": null,
            "align_self": null,
            "border": null,
            "bottom": null,
            "display": null,
            "flex": null,
            "flex_flow": null,
            "grid_area": null,
            "grid_auto_columns": null,
            "grid_auto_flow": null,
            "grid_auto_rows": null,
            "grid_column": null,
            "grid_gap": null,
            "grid_row": null,
            "grid_template_areas": null,
            "grid_template_columns": null,
            "grid_template_rows": null,
            "height": null,
            "justify_content": null,
            "justify_items": null,
            "left": null,
            "margin": null,
            "max_height": null,
            "max_width": null,
            "min_height": null,
            "min_width": null,
            "object_fit": null,
            "object_position": null,
            "order": null,
            "overflow": null,
            "overflow_x": null,
            "overflow_y": null,
            "padding": null,
            "right": null,
            "top": null,
            "visibility": null,
            "width": null
          }
        },
        "f7103bd0f6ac447e9353f535fa915345": {
          "model_module": "@jupyter-widgets/controls",
          "model_name": "DescriptionStyleModel",
          "model_module_version": "1.5.0",
          "state": {
            "_model_module": "@jupyter-widgets/controls",
            "_model_module_version": "1.5.0",
            "_model_name": "DescriptionStyleModel",
            "_view_count": null,
            "_view_module": "@jupyter-widgets/base",
            "_view_module_version": "1.2.0",
            "_view_name": "StyleView",
            "description_width": ""
          }
        },
        "584a26ec325f4e5aae89de4c9bbe9f42": {
          "model_module": "@jupyter-widgets/controls",
          "model_name": "HBoxModel",
          "model_module_version": "1.5.0",
          "state": {
            "_dom_classes": [],
            "_model_module": "@jupyter-widgets/controls",
            "_model_module_version": "1.5.0",
            "_model_name": "HBoxModel",
            "_view_count": null,
            "_view_module": "@jupyter-widgets/controls",
            "_view_module_version": "1.5.0",
            "_view_name": "HBoxView",
            "box_style": "",
            "children": [
              "IPY_MODEL_bdea1f24121d4ff7ab999dc21e2ce925",
              "IPY_MODEL_4358263f257b43e7957c81968dc7796a",
              "IPY_MODEL_cca84065174e4a24b2e6e743affbe6cd"
            ],
            "layout": "IPY_MODEL_838f090a9ffa4ad990ee0f45f86e1308"
          }
        },
        "bdea1f24121d4ff7ab999dc21e2ce925": {
          "model_module": "@jupyter-widgets/controls",
          "model_name": "HTMLModel",
          "model_module_version": "1.5.0",
          "state": {
            "_dom_classes": [],
            "_model_module": "@jupyter-widgets/controls",
            "_model_module_version": "1.5.0",
            "_model_name": "HTMLModel",
            "_view_count": null,
            "_view_module": "@jupyter-widgets/controls",
            "_view_module_version": "1.5.0",
            "_view_name": "HTMLView",
            "description": "",
            "description_tooltip": null,
            "layout": "IPY_MODEL_03154ce3cdf4480998ff5a2dba713e04",
            "placeholder": "​",
            "style": "IPY_MODEL_f19679c1ddfe41ecbbc9893f1d7d9eb0",
            "value": "100%"
          }
        },
        "4358263f257b43e7957c81968dc7796a": {
          "model_module": "@jupyter-widgets/controls",
          "model_name": "FloatProgressModel",
          "model_module_version": "1.5.0",
          "state": {
            "_dom_classes": [],
            "_model_module": "@jupyter-widgets/controls",
            "_model_module_version": "1.5.0",
            "_model_name": "FloatProgressModel",
            "_view_count": null,
            "_view_module": "@jupyter-widgets/controls",
            "_view_module_version": "1.5.0",
            "_view_name": "ProgressView",
            "bar_style": "success",
            "description": "",
            "description_tooltip": null,
            "layout": "IPY_MODEL_71b00b9fb27a422e980ae9c799930162",
            "max": 5148,
            "min": 0,
            "orientation": "horizontal",
            "style": "IPY_MODEL_eac5c57385ff4ef4aaad96a3202e0ba1",
            "value": 5148
          }
        },
        "cca84065174e4a24b2e6e743affbe6cd": {
          "model_module": "@jupyter-widgets/controls",
          "model_name": "HTMLModel",
          "model_module_version": "1.5.0",
          "state": {
            "_dom_classes": [],
            "_model_module": "@jupyter-widgets/controls",
            "_model_module_version": "1.5.0",
            "_model_name": "HTMLModel",
            "_view_count": null,
            "_view_module": "@jupyter-widgets/controls",
            "_view_module_version": "1.5.0",
            "_view_name": "HTMLView",
            "description": "",
            "description_tooltip": null,
            "layout": "IPY_MODEL_9b822c3e6d794f9fa5e610ff9c6eaabd",
            "placeholder": "​",
            "style": "IPY_MODEL_3276c967c6cf4e86bc486862c2c68ab5",
            "value": " 5148/5148 [00:00&lt;00:00, 142067.54it/s]"
          }
        },
        "838f090a9ffa4ad990ee0f45f86e1308": {
          "model_module": "@jupyter-widgets/base",
          "model_name": "LayoutModel",
          "model_module_version": "1.2.0",
          "state": {
            "_model_module": "@jupyter-widgets/base",
            "_model_module_version": "1.2.0",
            "_model_name": "LayoutModel",
            "_view_count": null,
            "_view_module": "@jupyter-widgets/base",
            "_view_module_version": "1.2.0",
            "_view_name": "LayoutView",
            "align_content": null,
            "align_items": null,
            "align_self": null,
            "border": null,
            "bottom": null,
            "display": null,
            "flex": null,
            "flex_flow": null,
            "grid_area": null,
            "grid_auto_columns": null,
            "grid_auto_flow": null,
            "grid_auto_rows": null,
            "grid_column": null,
            "grid_gap": null,
            "grid_row": null,
            "grid_template_areas": null,
            "grid_template_columns": null,
            "grid_template_rows": null,
            "height": null,
            "justify_content": null,
            "justify_items": null,
            "left": null,
            "margin": null,
            "max_height": null,
            "max_width": null,
            "min_height": null,
            "min_width": null,
            "object_fit": null,
            "object_position": null,
            "order": null,
            "overflow": null,
            "overflow_x": null,
            "overflow_y": null,
            "padding": null,
            "right": null,
            "top": null,
            "visibility": null,
            "width": null
          }
        },
        "03154ce3cdf4480998ff5a2dba713e04": {
          "model_module": "@jupyter-widgets/base",
          "model_name": "LayoutModel",
          "model_module_version": "1.2.0",
          "state": {
            "_model_module": "@jupyter-widgets/base",
            "_model_module_version": "1.2.0",
            "_model_name": "LayoutModel",
            "_view_count": null,
            "_view_module": "@jupyter-widgets/base",
            "_view_module_version": "1.2.0",
            "_view_name": "LayoutView",
            "align_content": null,
            "align_items": null,
            "align_self": null,
            "border": null,
            "bottom": null,
            "display": null,
            "flex": null,
            "flex_flow": null,
            "grid_area": null,
            "grid_auto_columns": null,
            "grid_auto_flow": null,
            "grid_auto_rows": null,
            "grid_column": null,
            "grid_gap": null,
            "grid_row": null,
            "grid_template_areas": null,
            "grid_template_columns": null,
            "grid_template_rows": null,
            "height": null,
            "justify_content": null,
            "justify_items": null,
            "left": null,
            "margin": null,
            "max_height": null,
            "max_width": null,
            "min_height": null,
            "min_width": null,
            "object_fit": null,
            "object_position": null,
            "order": null,
            "overflow": null,
            "overflow_x": null,
            "overflow_y": null,
            "padding": null,
            "right": null,
            "top": null,
            "visibility": null,
            "width": null
          }
        },
        "f19679c1ddfe41ecbbc9893f1d7d9eb0": {
          "model_module": "@jupyter-widgets/controls",
          "model_name": "DescriptionStyleModel",
          "model_module_version": "1.5.0",
          "state": {
            "_model_module": "@jupyter-widgets/controls",
            "_model_module_version": "1.5.0",
            "_model_name": "DescriptionStyleModel",
            "_view_count": null,
            "_view_module": "@jupyter-widgets/base",
            "_view_module_version": "1.2.0",
            "_view_name": "StyleView",
            "description_width": ""
          }
        },
        "71b00b9fb27a422e980ae9c799930162": {
          "model_module": "@jupyter-widgets/base",
          "model_name": "LayoutModel",
          "model_module_version": "1.2.0",
          "state": {
            "_model_module": "@jupyter-widgets/base",
            "_model_module_version": "1.2.0",
            "_model_name": "LayoutModel",
            "_view_count": null,
            "_view_module": "@jupyter-widgets/base",
            "_view_module_version": "1.2.0",
            "_view_name": "LayoutView",
            "align_content": null,
            "align_items": null,
            "align_self": null,
            "border": null,
            "bottom": null,
            "display": null,
            "flex": null,
            "flex_flow": null,
            "grid_area": null,
            "grid_auto_columns": null,
            "grid_auto_flow": null,
            "grid_auto_rows": null,
            "grid_column": null,
            "grid_gap": null,
            "grid_row": null,
            "grid_template_areas": null,
            "grid_template_columns": null,
            "grid_template_rows": null,
            "height": null,
            "justify_content": null,
            "justify_items": null,
            "left": null,
            "margin": null,
            "max_height": null,
            "max_width": null,
            "min_height": null,
            "min_width": null,
            "object_fit": null,
            "object_position": null,
            "order": null,
            "overflow": null,
            "overflow_x": null,
            "overflow_y": null,
            "padding": null,
            "right": null,
            "top": null,
            "visibility": null,
            "width": null
          }
        },
        "eac5c57385ff4ef4aaad96a3202e0ba1": {
          "model_module": "@jupyter-widgets/controls",
          "model_name": "ProgressStyleModel",
          "model_module_version": "1.5.0",
          "state": {
            "_model_module": "@jupyter-widgets/controls",
            "_model_module_version": "1.5.0",
            "_model_name": "ProgressStyleModel",
            "_view_count": null,
            "_view_module": "@jupyter-widgets/base",
            "_view_module_version": "1.2.0",
            "_view_name": "StyleView",
            "bar_color": null,
            "description_width": ""
          }
        },
        "9b822c3e6d794f9fa5e610ff9c6eaabd": {
          "model_module": "@jupyter-widgets/base",
          "model_name": "LayoutModel",
          "model_module_version": "1.2.0",
          "state": {
            "_model_module": "@jupyter-widgets/base",
            "_model_module_version": "1.2.0",
            "_model_name": "LayoutModel",
            "_view_count": null,
            "_view_module": "@jupyter-widgets/base",
            "_view_module_version": "1.2.0",
            "_view_name": "LayoutView",
            "align_content": null,
            "align_items": null,
            "align_self": null,
            "border": null,
            "bottom": null,
            "display": null,
            "flex": null,
            "flex_flow": null,
            "grid_area": null,
            "grid_auto_columns": null,
            "grid_auto_flow": null,
            "grid_auto_rows": null,
            "grid_column": null,
            "grid_gap": null,
            "grid_row": null,
            "grid_template_areas": null,
            "grid_template_columns": null,
            "grid_template_rows": null,
            "height": null,
            "justify_content": null,
            "justify_items": null,
            "left": null,
            "margin": null,
            "max_height": null,
            "max_width": null,
            "min_height": null,
            "min_width": null,
            "object_fit": null,
            "object_position": null,
            "order": null,
            "overflow": null,
            "overflow_x": null,
            "overflow_y": null,
            "padding": null,
            "right": null,
            "top": null,
            "visibility": null,
            "width": null
          }
        },
        "3276c967c6cf4e86bc486862c2c68ab5": {
          "model_module": "@jupyter-widgets/controls",
          "model_name": "DescriptionStyleModel",
          "model_module_version": "1.5.0",
          "state": {
            "_model_module": "@jupyter-widgets/controls",
            "_model_module_version": "1.5.0",
            "_model_name": "DescriptionStyleModel",
            "_view_count": null,
            "_view_module": "@jupyter-widgets/base",
            "_view_module_version": "1.2.0",
            "_view_name": "StyleView",
            "description_width": ""
          }
        }
      }
    },
    "gpuClass": "standard"
  },
  "nbformat": 4,
  "nbformat_minor": 5
}