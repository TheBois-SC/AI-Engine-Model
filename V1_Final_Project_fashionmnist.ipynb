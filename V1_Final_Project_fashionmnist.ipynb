{
 "cells": [
  {
   "cell_type": "code",
   "execution_count": 1,
   "id": "loaded-university",
   "metadata": {
    "execution": {
     "iopub.execute_input": "2021-04-18T13:55:41.420491Z",
     "iopub.status.busy": "2021-04-18T13:55:41.419706Z",
     "iopub.status.idle": "2021-04-18T13:55:43.895455Z",
     "shell.execute_reply": "2021-04-18T13:55:43.894632Z"
    },
    "papermill": {
     "duration": 2.512976,
     "end_time": "2021-04-18T13:55:43.895644",
     "exception": false,
     "start_time": "2021-04-18T13:55:41.382668",
     "status": "completed"
    },
    "tags": [],
    "id": "loaded-university",
    "outputId": "f7e16813-bbc7-4fad-d725-d4495fce6c1c",
    "colab": {
     "base_uri": "https://localhost:8080/"
    }
   },
   "outputs": [
    {
     "name": "stdout",
     "output_type": "stream",
     "text": [
      "cuda:0\n"
     ]
    }
   ],
   "source": [
    "import numpy as np\n",
    "\n",
    "import torch\n",
    "import torch.nn as nn\n",
    "from torch.autograd import Variable\n",
    "import torchvision\n",
    "from torchvision.transforms import transforms\n",
    "from torch.utils.data import Dataset, DataLoader, WeightedRandomSampler\n",
    "from torchvision import datasets, transforms\n",
    "\n",
    "from PIL import Image\n",
    "from pylab import rcParams\n",
    "from typing import cast, Any, Union, Dict, List\n",
    "import time\n",
    "import random\n",
    "import copy \n",
    " \n",
    "import matplotlib.pyplot as plt\n",
    "\n",
    "import os\n",
    "import shutil\n",
    "from collections import OrderedDict\n",
    "\n",
    "device = torch.device('cuda:0' if torch.cuda.is_available() else 'cpu')\n",
    "print(device)"
   ]
  },
  {
   "cell_type": "code",
   "source": [
    "# from google.colab import files\n",
    "import matplotlib.image as mpimg\n",
    "import matplotlib.pyplot as plt"
   ],
   "metadata": {
    "id": "L_IUk229ou5C"
   },
   "id": "L_IUk229ou5C",
   "execution_count": 2,
   "outputs": []
  },
  {
   "cell_type": "markdown",
   "id": "reduced-combining",
   "metadata": {
    "papermill": {
     "duration": 0.026544,
     "end_time": "2021-04-18T13:55:43.950006",
     "exception": false,
     "start_time": "2021-04-18T13:55:43.923462",
     "status": "completed"
    },
    "tags": [],
    "id": "reduced-combining"
   },
   "source": [
    "# Loading data"
   ]
  },
  {
   "cell_type": "markdown",
   "id": "confident-springfield",
   "metadata": {
    "papermill": {
     "duration": 0.026683,
     "end_time": "2021-04-18T13:55:44.007154",
     "exception": false,
     "start_time": "2021-04-18T13:55:43.980471",
     "status": "completed"
    },
    "tags": [],
    "id": "confident-springfield"
   },
   "source": [
    "**Let's see what the data in the pandas table looks like**"
   ]
  },
  {
   "cell_type": "code",
   "execution_count": 3,
   "id": "resident-selling",
   "metadata": {
    "execution": {
     "iopub.execute_input": "2021-04-18T13:55:44.067013Z",
     "iopub.status.busy": "2021-04-18T13:55:44.066290Z",
     "iopub.status.idle": "2021-04-18T13:55:51.159739Z",
     "shell.execute_reply": "2021-04-18T13:55:51.159185Z"
    },
    "papermill": {
     "duration": 7.125533,
     "end_time": "2021-04-18T13:55:51.159932",
     "exception": false,
     "start_time": "2021-04-18T13:55:44.034399",
     "status": "completed"
    },
    "tags": [],
    "id": "resident-selling"
   },
   "outputs": [],
   "source": [
    "## Data Mnist Image Folder\n",
    "train_transform = transforms.Compose([\n",
    "    transforms.Grayscale(),\n",
    "    transforms.Resize((50,50)),\n",
    "    transforms.RandomInvert(p=1),\n",
    "    transforms.RandomHorizontalFlip(),\n",
    "    transforms.RandomVerticalFlip(),\n",
    "    transforms.ToTensor()\n",
    "    ])\n",
    "\n",
    "test_transform = transforms.Compose([\n",
    "    transforms.Grayscale(),\n",
    "    transforms.Resize((50,50)),\n",
    "    transforms.RandomInvert(p=1),\n",
    "    transforms.ToTensor()\n",
    "    ])\n",
    "\n",
    "## import data from gdrive\n",
    "train_set = datasets.ImageFolder('./fashion_mnist_datasets/train', transform=train_transform)\n",
    "# trainloader = DataLoader(train_set, batch_size=100, shuffle=True, num_workers=2)\n",
    "\n",
    "test_set = datasets.ImageFolder('./fashion_mnist_datasets/test', transform=test_transform)\n",
    "# validloader = DataLoader(valid_set, batch_size=100, shuffle=True)\n",
    "\n",
    "train_set, val_set = torch.utils.data.random_split(train_set, [int(len(train_set) * 0.8), int(len(train_set) * 0.2)])\n",
    "\n",
    "train_dataloader = torch.utils.data.DataLoader(train_set,\n",
    "                                        batch_size = 100,\n",
    "                                        shuffle = True)\n",
    "\n",
    "val_dataloader = torch.utils.data.DataLoader(val_set,\n",
    "                                        batch_size = 100)\n",
    "\n",
    "loaders = {\n",
    "    'train': train_dataloader,\n",
    "    'val': val_dataloader\n",
    "}"
   ]
  },
  {
   "cell_type": "code",
   "execution_count": 4,
   "outputs": [
    {
     "name": "stdout",
     "output_type": "stream",
     "text": [
      "{'Ankle Bot': 0, 'Bag': 1, 'Coat': 2, 'Dress': 3, 'Hat': 4, 'Pullover': 5, 'Sandal': 6, 'Shirt': 7, 'Sneaker': 8, 'T-shirt-top': 9, 'Trouser': 10}\n"
     ]
    }
   ],
   "source": [
    "print(train_set.dataset.class_to_idx)"
   ],
   "metadata": {
    "id": "_FcAeOSFGLUP",
    "outputId": "32c21301-cacf-4521-dad4-370060ad0ec8",
    "colab": {
     "base_uri": "https://localhost:8080/"
    }
   },
   "id": "_FcAeOSFGLUP"
  },
  {
   "cell_type": "code",
   "source": [
    "#for metrics\n",
    "dataset_sizes = { 'train': len(train_set), 'val': len(val_set)}\n",
    "print(dataset_sizes)\n",
    "#for normalization\n",
    "# dataset_sizes_for_norm = {'train': len(train_set), 'val': len(val_set)}\n",
    "# loaders_for_norm = {\n",
    "#     'train': DataLoader(train_set, batch_size=100, shuffle = True, num_workers=4),\n",
    "#     'val': DataLoader(val_set, batch_size=100, shuffle = True, num_workers=4)\n",
    "# }\n",
    "\n",
    "#show\n",
    "# dataset_sizes, dataset_sizes_for_norm"
   ],
   "metadata": {
    "id": "uzsCUsBgHtpY"
   },
   "id": "uzsCUsBgHtpY",
   "execution_count": 5,
   "outputs": [
    {
     "name": "stdout",
     "output_type": "stream",
     "text": [
      "{'train': 50640, 'val': 12660}\n"
     ]
    }
   ]
  },
  {
   "cell_type": "code",
   "source": [
    "# for x in ['train', 'val']:\n",
    "   \n",
    "#   #number of pixels in the dataset = number of all pixels in one object * number of all objects in the dataset\n",
    "#   num_pxl = dataset_sizes_for_norm[x]*28*28\n",
    "    \n",
    "#   #we go through the butches and sum up the pixels of the objects, \n",
    "#   #which then divide the sum by the number of all pixels to calculate the average\n",
    "#   total_sum = 0\n",
    "#   for batch in loaders_for_norm[x]: total_sum += batch[0].sum()\n",
    "#   mean = total_sum / num_pxl\n",
    "\n",
    "#     #we calculate the standard deviation using the formula that I indicated above\n",
    "#   sum_sqrt = 0\n",
    "#   for batch in loaders_for_norm[x]: sum_sqrt += ((batch[0] - mean).pow(2)).sum()\n",
    "#   std = torch.sqrt(sum_sqrt / num_pxl)\n",
    "\n",
    "#   # print(f'{x} - mean: {mean}, std: {std}')"
   ],
   "metadata": {
    "id": "rGGEQ7ftWjvy"
   },
   "id": "rGGEQ7ftWjvy",
   "execution_count": 6,
   "outputs": []
  },
  {
   "cell_type": "markdown",
   "id": "adapted-joining",
   "metadata": {
    "papermill": {
     "duration": 0.028665,
     "end_time": "2021-04-18T13:56:11.096725",
     "exception": false,
     "start_time": "2021-04-18T13:56:11.068060",
     "status": "completed"
    },
    "tags": [],
    "id": "adapted-joining"
   },
   "source": [
    "**Let's see what the images look like**"
   ]
  },
  {
   "cell_type": "code",
   "execution_count": 7,
   "id": "lined-insider",
   "metadata": {
    "execution": {
     "iopub.execute_input": "2021-04-18T13:56:11.163569Z",
     "iopub.status.busy": "2021-04-18T13:56:11.162236Z",
     "iopub.status.idle": "2021-04-18T13:56:11.635237Z",
     "shell.execute_reply": "2021-04-18T13:56:11.634512Z"
    },
    "papermill": {
     "duration": 0.509314,
     "end_time": "2021-04-18T13:56:11.635399",
     "exception": false,
     "start_time": "2021-04-18T13:56:11.126085",
     "status": "completed"
    },
    "tags": [],
    "id": "lined-insider",
    "outputId": "44a82b54-5778-4b4c-c0d3-d205dcf9f714",
    "colab": {
     "base_uri": "https://localhost:8080/",
     "height": 284
    }
   },
   "outputs": [
    {
     "data": {
      "text/plain": "<matplotlib.image.AxesImage at 0x1de88362680>"
     },
     "execution_count": 7,
     "metadata": {},
     "output_type": "execute_result"
    },
    {
     "data": {
      "text/plain": "<Figure size 640x480 with 1 Axes>",
      "image/png": "[encoded data removed]"
     },
     "metadata": {},
     "output_type": "display_data"
    }
   ],
   "source": [
    "i = np.random.randint(50)\n",
    "x, y = next(iter(train_dataloader))\n",
    "plt.imshow(x[i].view(50,50))"
   ]
  },
  {
   "cell_type": "markdown",
   "id": "tired-supply",
   "metadata": {
    "papermill": {
     "duration": 0.03045,
     "end_time": "2021-04-18T13:56:11.696207",
     "exception": false,
     "start_time": "2021-04-18T13:56:11.665757",
     "status": "completed"
    },
    "tags": [],
    "id": "tired-supply"
   },
   "source": [
    "# Model"
   ]
  },
  {
   "cell_type": "markdown",
   "id": "median-interference",
   "metadata": {
    "papermill": {
     "duration": 0.030569,
     "end_time": "2021-04-18T13:56:11.757359",
     "exception": false,
     "start_time": "2021-04-18T13:56:11.726790",
     "status": "completed"
    },
    "tags": [],
    "id": "median-interference"
   },
   "source": []
  },
  {
   "cell_type": "code",
   "execution_count": 8,
   "id": "tutorial-pencil",
   "metadata": {
    "execution": {
     "iopub.execute_input": "2021-04-18T13:56:11.842480Z",
     "iopub.status.busy": "2021-04-18T13:56:11.841737Z",
     "iopub.status.idle": "2021-04-18T13:56:11.891519Z",
     "shell.execute_reply": "2021-04-18T13:56:11.890817Z"
    },
    "papermill": {
     "duration": 0.103583,
     "end_time": "2021-04-18T13:56:11.891691",
     "exception": false,
     "start_time": "2021-04-18T13:56:11.788108",
     "status": "completed"
    },
    "tags": [],
    "id": "tutorial-pencil"
   },
   "outputs": [],
   "source": [
    "class VGG(nn.Module):\n",
    "  def __init__(self, features:nn.Module, num_classes:int=1000, init_weights:bool=True):\n",
    "      super(VGG, self).__init__()\n",
    "      self.features = features #features = Feature extraction\n",
    "      self.avgpool = nn.AdaptiveAvgPool2d((1,1))\n",
    "      self.classifier = nn.Sequential(\n",
    "          nn.Linear(512, 256),\n",
    "          nn.ReLU(),\n",
    "          nn.Dropout(0.2),\n",
    "          nn.Linear(256, 128),\n",
    "          nn.ReLU(),\n",
    "          nn.Dropout(0.2),\n",
    "          nn.Linear(128, 64),\n",
    "          nn.ReLU(),\n",
    "          nn.Dropout(0.2),\n",
    "          nn.Linear(64, num_classes)\n",
    "          )\n",
    "\n",
    "      if init_weights:\n",
    "        self.initialize_weights()\n",
    "  \n",
    "  def forward(self, x):\n",
    "    x = self.features(x) #features = Feature extraction\n",
    "    x = self.avgpool(x)\n",
    "    # print(x.shape)\n",
    "    x = torch.flatten(x, 1)\n",
    "    x = self.classifier(x)\n",
    "    return x\n",
    "\n",
    "  def initialize_weights(self):\n",
    "    for m in self.modules():\n",
    "      if isinstance(m, nn.Conv2d):\n",
    "        nn.init.kaiming_normal_(m.weight, mode='fan_in', nonlinearity='leaky_relu')\n",
    "        if m.bias is not None:\n",
    "          nn.init.constant_(m.bias, 0) \n",
    "      if isinstance(m, nn.BatchNorm2d):\n",
    "        nn.init.constant_(m.weight, 1)\n",
    "        nn.init.constant_(m.bias, 0)\n",
    "      if isinstance(m, nn.Linear):\n",
    "        nn.init.kaiming_normal_(m.weight, mode='fan_in', nonlinearity='leaky_relu')\n",
    "        if m.bias is not None:\n",
    "          nn.init.constant_(m.bias, 0) \n",
    "\n",
    "cfgs: Dict[str, List[Union[int, str]]] = {\n",
    "    'A': [64, 'M', 128, 128, 'M', 256, 256, 'M', 512, 512, 512, 'M', 512, 512, 512, 'M'],\n",
    "    'firstPadding':2\n",
    "}\n",
    "\n",
    "def make_layers(cfg:List[Union[int,str]], batch_norm:bool=False) -> nn.Sequential:\n",
    "  layers:List[nn.Module] = []\n",
    "  in_channels = 1\n",
    "  in_padding = 5\n",
    "  i = 0\n",
    "  for v in cfg:\n",
    "    if v == 'M':\n",
    "      layers += [nn.MaxPool2d(kernel_size=2, stride=2)]\n",
    "    else:\n",
    "      v = cast(int, v)\n",
    "      in_padding = 1\n",
    "      if i == 5:\n",
    "        in_padding = 2\n",
    "      conv2d = nn.Conv2d(in_channels, v, kernel_size=3, padding=in_padding)\n",
    "      if batch_norm:\n",
    "        layers += [conv2d, nn.BatchNorm2d(v), nn.PReLU(num_parameters=1)]\n",
    "      else:\n",
    "        layers += [conv2d, nn.PReLU(num_parameters=1)] #nn.PReLU(num_parameters=1) nn.ReLU(inplace=True)\n",
    "      in_channels = v\n",
    "    i += 1\n",
    "  return nn.Sequential(*layers)\n",
    "\n",
    "\n",
    "def selfDefineVgg(arch, cfg, batch_norm,  num_classes:int, **kwargs: Any) -> VGG:\n",
    "    model = VGG(make_layers(arch[cfg], batch_norm=batch_norm), num_classes, **kwargs)\n",
    "    return model\n",
    "model = selfDefineVgg(cfgs, 'A', True, 11)\n",
    "model = model.to(device)"
   ]
  },
  {
   "cell_type": "code",
   "source": [
    "model"
   ],
   "metadata": {
    "colab": {
     "base_uri": "https://localhost:8080/"
    },
    "id": "zLTuuCzl9LfY",
    "outputId": "ca1d6303-c2f9-42a3-aa35-370d482a8d54"
   },
   "id": "zLTuuCzl9LfY",
   "execution_count": 9,
   "outputs": [
    {
     "data": {
      "text/plain": "VGG(\n  (features): Sequential(\n    (0): Conv2d(1, 64, kernel_size=(3, 3), stride=(1, 1), padding=(1, 1))\n    (1): BatchNorm2d(64, eps=1e-05, momentum=0.1, affine=True, track_running_stats=True)\n    (2): PReLU(num_parameters=1)\n    (3): MaxPool2d(kernel_size=2, stride=2, padding=0, dilation=1, ceil_mode=False)\n    (4): Conv2d(64, 128, kernel_size=(3, 3), stride=(1, 1), padding=(1, 1))\n    (5): BatchNorm2d(128, eps=1e-05, momentum=0.1, affine=True, track_running_stats=True)\n    (6): PReLU(num_parameters=1)\n    (7): Conv2d(128, 128, kernel_size=(3, 3), stride=(1, 1), padding=(1, 1))\n    (8): BatchNorm2d(128, eps=1e-05, momentum=0.1, affine=True, track_running_stats=True)\n    (9): PReLU(num_parameters=1)\n    (10): MaxPool2d(kernel_size=2, stride=2, padding=0, dilation=1, ceil_mode=False)\n    (11): Conv2d(128, 256, kernel_size=(3, 3), stride=(1, 1), padding=(2, 2))\n    (12): BatchNorm2d(256, eps=1e-05, momentum=0.1, affine=True, track_running_stats=True)\n    (13): PReLU(num_parameters=1)\n    (14): Conv2d(256, 256, kernel_size=(3, 3), stride=(1, 1), padding=(1, 1))\n    (15): BatchNorm2d(256, eps=1e-05, momentum=0.1, affine=True, track_running_stats=True)\n    (16): PReLU(num_parameters=1)\n    (17): MaxPool2d(kernel_size=2, stride=2, padding=0, dilation=1, ceil_mode=False)\n    (18): Conv2d(256, 512, kernel_size=(3, 3), stride=(1, 1), padding=(1, 1))\n    (19): BatchNorm2d(512, eps=1e-05, momentum=0.1, affine=True, track_running_stats=True)\n    (20): PReLU(num_parameters=1)\n    (21): Conv2d(512, 512, kernel_size=(3, 3), stride=(1, 1), padding=(1, 1))\n    (22): BatchNorm2d(512, eps=1e-05, momentum=0.1, affine=True, track_running_stats=True)\n    (23): PReLU(num_parameters=1)\n    (24): Conv2d(512, 512, kernel_size=(3, 3), stride=(1, 1), padding=(1, 1))\n    (25): BatchNorm2d(512, eps=1e-05, momentum=0.1, affine=True, track_running_stats=True)\n    (26): PReLU(num_parameters=1)\n    (27): MaxPool2d(kernel_size=2, stride=2, padding=0, dilation=1, ceil_mode=False)\n    (28): Conv2d(512, 512, kernel_size=(3, 3), stride=(1, 1), padding=(1, 1))\n    (29): BatchNorm2d(512, eps=1e-05, momentum=0.1, affine=True, track_running_stats=True)\n    (30): PReLU(num_parameters=1)\n    (31): Conv2d(512, 512, kernel_size=(3, 3), stride=(1, 1), padding=(1, 1))\n    (32): BatchNorm2d(512, eps=1e-05, momentum=0.1, affine=True, track_running_stats=True)\n    (33): PReLU(num_parameters=1)\n    (34): Conv2d(512, 512, kernel_size=(3, 3), stride=(1, 1), padding=(1, 1))\n    (35): BatchNorm2d(512, eps=1e-05, momentum=0.1, affine=True, track_running_stats=True)\n    (36): PReLU(num_parameters=1)\n    (37): MaxPool2d(kernel_size=2, stride=2, padding=0, dilation=1, ceil_mode=False)\n  )\n  (avgpool): AdaptiveAvgPool2d(output_size=(1, 1))\n  (classifier): Sequential(\n    (0): Linear(in_features=512, out_features=256, bias=True)\n    (1): ReLU()\n    (2): Dropout(p=0.2, inplace=False)\n    (3): Linear(in_features=256, out_features=128, bias=True)\n    (4): ReLU()\n    (5): Dropout(p=0.2, inplace=False)\n    (6): Linear(in_features=128, out_features=64, bias=True)\n    (7): ReLU()\n    (8): Dropout(p=0.2, inplace=False)\n    (9): Linear(in_features=64, out_features=11, bias=True)\n  )\n)"
     },
     "execution_count": 9,
     "metadata": {},
     "output_type": "execute_result"
    }
   ]
  },
  {
   "cell_type": "markdown",
   "id": "divine-seattle",
   "metadata": {
    "papermill": {
     "duration": 0.030206,
     "end_time": "2021-04-18T13:56:11.952693",
     "exception": false,
     "start_time": "2021-04-18T13:56:11.922487",
     "status": "completed"
    },
    "tags": [],
    "id": "divine-seattle"
   },
   "source": [
    "**Loss function, Optimizer, Scheduler**"
   ]
  },
  {
   "cell_type": "code",
   "execution_count": 10,
   "id": "requested-charity",
   "metadata": {
    "execution": {
     "iopub.execute_input": "2021-04-18T13:56:12.022879Z",
     "iopub.status.busy": "2021-04-18T13:56:12.021780Z",
     "iopub.status.idle": "2021-04-18T13:56:12.026143Z",
     "shell.execute_reply": "2021-04-18T13:56:12.025433Z"
    },
    "papermill": {
     "duration": 0.0428,
     "end_time": "2021-04-18T13:56:12.026304",
     "exception": false,
     "start_time": "2021-04-18T13:56:11.983504",
     "status": "completed"
    },
    "tags": [],
    "id": "requested-charity"
   },
   "outputs": [],
   "source": [
    "criterion = nn.CrossEntropyLoss()\n",
    "optimizer = torch.optim.Adam(model.parameters(), lr = 0.001, betas=(0.9,0.999), eps=1e-9)\n",
    "scheduler = torch.optim.lr_scheduler.StepLR(optimizer, 4, gamma=0.1, verbose=False)###Best accuracy 0.9349, tensor(0.9385)"
   ]
  },
  {
   "cell_type": "markdown",
   "id": "deadly-above",
   "metadata": {
    "papermill": {
     "duration": 0.030343,
     "end_time": "2021-04-18T13:56:12.088472",
     "exception": false,
     "start_time": "2021-04-18T13:56:12.058129",
     "status": "completed"
    },
    "tags": [],
    "id": "deadly-above"
   },
   "source": [
    "# Train"
   ]
  },
  {
   "cell_type": "code",
   "execution_count": 11,
   "id": "visible-tunisia",
   "metadata": {
    "execution": {
     "iopub.execute_input": "2021-04-18T13:56:12.165228Z",
     "iopub.status.busy": "2021-04-18T13:56:12.164533Z",
     "iopub.status.idle": "2021-04-18T13:56:12.168557Z",
     "shell.execute_reply": "2021-04-18T13:56:12.167968Z"
    },
    "papermill": {
     "duration": 0.049986,
     "end_time": "2021-04-18T13:56:12.168699",
     "exception": false,
     "start_time": "2021-04-18T13:56:12.118713",
     "status": "completed"
    },
    "tags": [],
    "id": "visible-tunisia"
   },
   "outputs": [],
   "source": [
    "#save the losses for further visualization\n",
    "losses = {'train':[], 'val':[]}\n",
    "accuracies = {'train':[], 'val':[]}\n",
    "\n",
    "def train(model, criterion, optimizer, scheduler, epochs):\n",
    "  since = time.time()\n",
    "  best_model = copy.deepcopy(model.state_dict())\n",
    "  best_acc = 0.0\n",
    "  for epoch in range(epochs):\n",
    "    for phase in ['train', 'val']:\n",
    "      if phase == 'train':\n",
    "        model.train()\n",
    "      else:\n",
    "        model.eval()\n",
    "      \n",
    "      running_loss = 0.0\n",
    "      running_corrects = 0.0\n",
    "\n",
    "      for inputs, labels in loaders[phase]:\n",
    "        inputs, labels = inputs.to(device), labels.to(device)\n",
    "\n",
    "        optimizer.zero_grad()\n",
    "\n",
    "        with torch.set_grad_enabled(phase=='train'):\n",
    "          outp = model(inputs)\n",
    "          _, pred = torch.max(outp, 1)\n",
    "          loss = criterion(outp, labels)\n",
    "        \n",
    "          if phase == 'train':\n",
    "            loss.backward()\n",
    "            optimizer.step()\n",
    "        \n",
    "        running_loss += loss.item()*inputs.size(0)\n",
    "        running_corrects += torch.sum(pred == labels.data)\n",
    "\n",
    "\n",
    "      epoch_loss = running_loss / dataset_sizes[phase]\n",
    "      epoch_acc = running_corrects.double()/dataset_sizes[phase]\n",
    "      losses[phase].append(float(epoch_loss))\n",
    "      accuracies[phase].append(float(epoch_acc))\n",
    "      if phase == 'train':\n",
    "        print('Epoch: {}/{}'.format(epoch+1, epochs))\n",
    "      print('{} - loss:{}, accuracy{}'.format(phase, epoch_loss, epoch_acc))\n",
    "    \n",
    "      if phase == 'val':\n",
    "        print('Time: {}m {}s'.format((time.time()- since)//60, (time.time()- since)%60))\n",
    "            \n",
    "      if phase == 'val' and epoch_acc > best_acc:\n",
    "        best_acc = epoch_acc\n",
    "        best_model = copy.deepcopy(model.state_dict())\n",
    "    scheduler.step()  \n",
    "  time_elapsed = time.time() - since\n",
    "  print('Training Time {}m {}s'.format(time_elapsed//60, time_elapsed%60)) \n",
    "  print('Best accuracy {}'.format(best_acc))\n",
    "\n",
    "  model.load_state_dict(best_model)\n",
    "  return model   "
   ]
  },
  {
   "cell_type": "markdown",
   "id": "spread-trash",
   "metadata": {
    "papermill": {
     "duration": 0.029965,
     "end_time": "2021-04-18T13:56:12.229207",
     "exception": false,
     "start_time": "2021-04-18T13:56:12.199242",
     "status": "completed"
    },
    "tags": [],
    "id": "spread-trash"
   },
   "source": [
    "**Launching training**"
   ]
  },
  {
   "cell_type": "code",
   "execution_count": 12,
   "id": "indonesian-ownership",
   "metadata": {
    "execution": {
     "iopub.execute_input": "2021-04-18T13:56:12.296263Z",
     "iopub.status.busy": "2021-04-18T13:56:12.295579Z",
     "iopub.status.idle": "2021-04-18T17:39:47.940716Z",
     "shell.execute_reply": "2021-04-18T17:39:47.941528Z"
    },
    "papermill": {
     "duration": 13415.682515,
     "end_time": "2021-04-18T17:39:47.941764",
     "exception": false,
     "start_time": "2021-04-18T13:56:12.259249",
     "status": "completed"
    },
    "tags": [],
    "id": "indonesian-ownership"
   },
   "outputs": [
    {
     "name": "stdout",
     "output_type": "stream",
     "text": [
      "Epoch: 1/10\n",
      "train - loss:1.6285269405887026, accuracy0.3454383886255924\n",
      "val - loss:1.229637362192404, accuracy0.4911532385466034\n",
      "Time: 3.0m 4.737192392349243s\n",
      "Epoch: 2/10\n",
      "train - loss:1.1106214795208655, accuracy0.5527646129541863\n",
      "val - loss:1.0753306216349912, accuracy0.572432859399684\n",
      "Time: 5.0m 43.49246406555176s\n",
      "Epoch: 3/10\n",
      "train - loss:0.9702818711269147, accuracy0.6100908372827804\n",
      "val - loss:0.984958150469673, accuracy0.5897314375987361\n",
      "Time: 8.0m 22.95179009437561s\n",
      "Epoch: 4/10\n",
      "train - loss:0.8805554823429098, accuracy0.6434241706161137\n",
      "val - loss:0.919695593075353, accuracy0.619431279620853\n",
      "Time: 11.0m 2.271793842315674s\n",
      "Epoch: 5/10\n",
      "train - loss:0.7749795781163055, accuracy0.6821879936808846\n",
      "val - loss:0.7208415978892719, accuracy0.7059241706161137\n",
      "Time: 13.0m 41.57698845863342s\n",
      "Epoch: 6/10\n",
      "train - loss:0.7423438173711394, accuracy0.6968799368088467\n",
      "val - loss:0.6915018322155185, accuracy0.7188783570300158\n",
      "Time: 16.0m 20.837994813919067s\n",
      "Epoch: 7/10\n",
      "train - loss:0.7263182579270472, accuracy0.7047985781990521\n",
      "val - loss:0.6855468981638904, accuracy0.7210900473933649\n",
      "Time: 19.0m 0.21326780319213867s\n",
      "Epoch: 8/10\n",
      "train - loss:0.7059447599507245, accuracy0.7179304897314376\n",
      "val - loss:0.6497893644640984, accuracy0.7337282780410742\n",
      "Time: 21.0m 39.706323862075806s\n",
      "Epoch: 9/10\n",
      "train - loss:0.6790981327917716, accuracy0.7285545023696682\n",
      "val - loss:0.6364338058525164, accuracy0.741864139020537\n",
      "Time: 24.0m 19.256736040115356s\n",
      "Epoch: 10/10\n",
      "train - loss:0.6745378317967599, accuracy0.7294431279620852\n",
      "val - loss:0.6264241870733988, accuracy0.7447867298578198\n",
      "Time: 26.0m 58.58537268638611s\n",
      "Training Time 26.0m 58.58537268638611s\n",
      "Best accuracy 0.7447867298578198\n"
     ]
    }
   ],
   "source": [
    "epochs = 10\n",
    "torch.cuda.empty_cache()\n",
    "\n",
    "model = train(model, criterion, optimizer, scheduler, epochs)"
   ]
  },
  {
   "cell_type": "markdown",
   "id": "attached-colony",
   "metadata": {
    "papermill": {
     "duration": 0.037481,
     "end_time": "2021-04-18T17:39:48.017780",
     "exception": false,
     "start_time": "2021-04-18T17:39:47.980299",
     "status": "completed"
    },
    "tags": [],
    "id": "attached-colony"
   },
   "source": [
    "**Visualization**"
   ]
  },
  {
   "cell_type": "code",
   "execution_count": 13,
   "id": "secondary-equilibrium",
   "metadata": {
    "execution": {
     "iopub.execute_input": "2021-04-18T17:39:48.098425Z",
     "iopub.status.busy": "2021-04-18T17:39:48.097372Z",
     "iopub.status.idle": "2021-04-18T17:39:48.611288Z",
     "shell.execute_reply": "2021-04-18T17:39:48.610373Z"
    },
    "papermill": {
     "duration": 0.555774,
     "end_time": "2021-04-18T17:39:48.611451",
     "exception": false,
     "start_time": "2021-04-18T17:39:48.055677",
     "status": "completed"
    },
    "tags": [],
    "id": "secondary-equilibrium"
   },
   "outputs": [
    {
     "data": {
      "text/plain": "<matplotlib.legend.Legend at 0x1de904e8f40>"
     },
     "execution_count": 13,
     "metadata": {},
     "output_type": "execute_result"
    },
    {
     "data": {
      "text/plain": "<Figure size 700x700 with 2 Axes>",
      "image/png": "[encoded data removed]"
     },
     "metadata": {},
     "output_type": "display_data"
    }
   ],
   "source": [
    "rcParams['figure.figsize'] = 7, 7\n",
    "\n",
    "fig, axs = plt.subplots(2)\n",
    "\n",
    "axs[0].plot([x for x in range(epochs)], losses['train'], label ='train')\n",
    "axs[0].plot([x for x in range(epochs)], losses['val'], label='val')\n",
    "axs[0].set_title('loss')\n",
    "axs[0].legend()\n",
    "\n",
    "axs[1].plot([x for x in range(epochs)], accuracies['train'], label ='train')\n",
    "axs[1].plot([x for x in range(epochs)], accuracies['val'], label='val')\n",
    "axs[1].set_title('accuracy')\n",
    "axs[1].legend()"
   ]
  },
  {
   "cell_type": "markdown",
   "id": "detailed-estate",
   "metadata": {
    "papermill": {
     "duration": 0.039828,
     "end_time": "2021-04-18T17:39:48.692606",
     "exception": false,
     "start_time": "2021-04-18T17:39:48.652778",
     "status": "completed"
    },
    "tags": [],
    "id": "detailed-estate"
   },
   "source": [
    "# Test"
   ]
  },
  {
   "cell_type": "markdown",
   "id": "incredible-earthquake",
   "metadata": {
    "papermill": {
     "duration": 0.040139,
     "end_time": "2021-04-18T17:39:48.773155",
     "exception": false,
     "start_time": "2021-04-18T17:39:48.733016",
     "status": "completed"
    },
    "tags": [],
    "id": "incredible-earthquake"
   },
   "source": [
    "**Uploading the data**"
   ]
  },
  {
   "cell_type": "code",
   "execution_count": 14,
   "id": "organizational-discovery",
   "metadata": {
    "execution": {
     "iopub.execute_input": "2021-04-18T17:39:50.569414Z",
     "iopub.status.busy": "2021-04-18T17:39:50.568547Z",
     "iopub.status.idle": "2021-04-18T17:39:50.585024Z",
     "shell.execute_reply": "2021-04-18T17:39:50.584398Z"
    },
    "papermill": {
     "duration": 0.060722,
     "end_time": "2021-04-18T17:39:50.585177",
     "exception": false,
     "start_time": "2021-04-18T17:39:50.524455",
     "status": "completed"
    },
    "tags": [],
    "id": "organizational-discovery"
   },
   "outputs": [],
   "source": [
    "loadersq=  DataLoader(test_set, batch_size=100, shuffle = True, num_workers=4)"
   ]
  },
  {
   "cell_type": "markdown",
   "id": "precise-reverse",
   "metadata": {
    "papermill": {
     "duration": 0.040605,
     "end_time": "2021-04-18T17:39:50.667079",
     "exception": false,
     "start_time": "2021-04-18T17:39:50.626474",
     "status": "completed"
    },
    "tags": [],
    "id": "precise-reverse"
   },
   "source": [
    "**Creating a dictionary with the size of the test dataset.**"
   ]
  },
  {
   "cell_type": "code",
   "execution_count": 15,
   "id": "armed-collar",
   "metadata": {
    "execution": {
     "iopub.execute_input": "2021-04-18T17:39:50.755977Z",
     "iopub.status.busy": "2021-04-18T17:39:50.753695Z",
     "iopub.status.idle": "2021-04-18T17:39:50.760007Z",
     "shell.execute_reply": "2021-04-18T17:39:50.760457Z"
    },
    "papermill": {
     "duration": 0.052016,
     "end_time": "2021-04-18T17:39:50.760631",
     "exception": false,
     "start_time": "2021-04-18T17:39:50.708615",
     "status": "completed"
    },
    "tags": [],
    "id": "armed-collar"
   },
   "outputs": [
    {
     "data": {
      "text/plain": "10300"
     },
     "execution_count": 15,
     "metadata": {},
     "output_type": "execute_result"
    }
   ],
   "source": [
    "dataset_sizesq = len(test_set)\n",
    "dataset_sizesq"
   ]
  },
  {
   "cell_type": "markdown",
   "id": "reasonable-scanning",
   "metadata": {
    "papermill": {
     "duration": 0.041024,
     "end_time": "2021-04-18T17:39:50.845400",
     "exception": false,
     "start_time": "2021-04-18T17:39:50.804376",
     "status": "completed"
    },
    "tags": [],
    "id": "reasonable-scanning"
   },
   "source": [
    "**Similarly, we calculate the average and standard deviation for test**"
   ]
  },
  {
   "cell_type": "code",
   "execution_count": 16,
   "id": "formed-legend",
   "metadata": {
    "execution": {
     "iopub.execute_input": "2021-04-18T17:39:50.934049Z",
     "iopub.status.busy": "2021-04-18T17:39:50.933336Z",
     "iopub.status.idle": "2021-04-18T17:39:54.010386Z",
     "shell.execute_reply": "2021-04-18T17:39:54.009800Z"
    },
    "papermill": {
     "duration": 3.122459,
     "end_time": "2021-04-18T17:39:54.010532",
     "exception": false,
     "start_time": "2021-04-18T17:39:50.888073",
     "status": "completed"
    },
    "tags": [],
    "id": "formed-legend"
   },
   "outputs": [],
   "source": [
    "# num_px = dataset_sizesq*28*28\n",
    "\n",
    "\n",
    "# total_sum = 0\n",
    "# for batch in loadersq: total_sum += batch[0].sum()\n",
    "# mean = total_sum / num_px\n",
    "\n",
    "# sum_of_squared_error = 0\n",
    "# for batch in loadersq: sum_of_squared_error += ((batch[0] - mean).pow(2)).sum()\n",
    "# std = torch.sqrt(sum_of_squared_error / num_px)\n",
    "\n",
    "# mean, std"
   ]
  },
  {
   "cell_type": "markdown",
   "id": "varying-gauge",
   "metadata": {
    "papermill": {
     "duration": 0.041214,
     "end_time": "2021-04-18T17:39:54.092801",
     "exception": false,
     "start_time": "2021-04-18T17:39:54.051587",
     "status": "completed"
    },
    "tags": [],
    "id": "varying-gauge"
   },
   "source": [
    "**Predictions**"
   ]
  },
  {
   "cell_type": "code",
   "execution_count": 17,
   "id": "broken-musical",
   "metadata": {
    "execution": {
     "iopub.execute_input": "2021-04-18T17:39:54.182376Z",
     "iopub.status.busy": "2021-04-18T17:39:54.181259Z",
     "iopub.status.idle": "2021-04-18T17:40:32.538789Z",
     "shell.execute_reply": "2021-04-18T17:40:32.539376Z"
    },
    "papermill": {
     "duration": 38.406225,
     "end_time": "2021-04-18T17:40:32.539578",
     "exception": false,
     "start_time": "2021-04-18T17:39:54.133353",
     "status": "completed"
    },
    "tags": [],
    "id": "broken-musical"
   },
   "outputs": [
    {
     "name": "stdout",
     "output_type": "stream",
     "text": [
      "Test accuracy: 0.7828155755996704\n"
     ]
    }
   ],
   "source": [
    "corr = 0\n",
    "\n",
    "with torch.no_grad():\n",
    "    for data in loadersq:\n",
    "        images, labels = data\n",
    "        images, labels = images.to(device), labels.to(device)\n",
    "        y_pred = model(images)\n",
    "        _, predicted = torch.max(y_pred, 1)\n",
    "        corr += torch.sum(predicted == labels.data)\n",
    "\n",
    "print(f\"Test accuracy: {corr/dataset_sizesq}\")"
   ]
  },
  {
   "cell_type": "code",
   "source": [
    "def output_label(label):\n",
    "    output_mapping = { # From New Dataset\n",
    "                 0: \"Ankle Bot\",\n",
    "                 1: \"Bag\",\n",
    "                 2: \"Coat\",\n",
    "                 3: \"Dress\",\n",
    "                 4: \"Hat\",\n",
    "                 5: \"Pullover\",\n",
    "                 6: \"Sandal\",\n",
    "                 7: \"Shirt\",\n",
    "                 8: \"Sneaker\",\n",
    "                 9: \"T-shirt-top\",\n",
    "                 10: \"Trouser\"\n",
    "                 }\n",
    "    input = (label.item() if type(label) == torch.Tensor else label)\n",
    "    return output_mapping[input]\n",
    "\n",
    "class_correct = [0. for _ in range(11)]\n",
    "total_correct = [0. for _ in range(11)]\n",
    "\n",
    "with torch.no_grad():\n",
    "    for images, labels in loadersq:\n",
    "        images, labels = images.to(device), labels.to(device)\n",
    "        test = Variable(images)\n",
    "        outputs = model(test)\n",
    "        predicted = torch.max(outputs, 1)[1]\n",
    "        c = (predicted == labels).squeeze()\n",
    "        \n",
    "        for i in range(100):\n",
    "            label = labels[i]\n",
    "            class_correct[label] += c[i].item()\n",
    "            total_correct[label] += 1\n",
    "        \n",
    "for i in range(11):\n",
    "    print(\"Accuracy of {}: {:.2f}%\".format(output_label(i), class_correct[i] * 100 / total_correct[i]))"
   ],
   "metadata": {
    "id": "RSAGZ-6SQp-E"
   },
   "id": "RSAGZ-6SQp-E",
   "execution_count": 18,
   "outputs": [
    {
     "name": "stdout",
     "output_type": "stream",
     "text": [
      "Accuracy of Ankle Bot: 93.70%\n",
      "Accuracy of Bag: 93.40%\n",
      "Accuracy of Coat: 57.60%\n",
      "Accuracy of Dress: 83.40%\n",
      "Accuracy of Hat: 83.00%\n",
      "Accuracy of Pullover: 76.20%\n",
      "Accuracy of Sandal: 91.00%\n",
      "Accuracy of Shirt: 11.00%\n",
      "Accuracy of Sneaker: 93.30%\n",
      "Accuracy of T-shirt-top: 86.20%\n",
      "Accuracy of Trouser: 95.60%\n"
     ]
    }
   ]
  },
  {
   "cell_type": "markdown",
   "id": "polished-religious",
   "metadata": {
    "papermill": {
     "duration": 0.042179,
     "end_time": "2021-04-18T17:40:32.623737",
     "exception": false,
     "start_time": "2021-04-18T17:40:32.581558",
     "status": "completed"
    },
    "tags": [],
    "id": "polished-religious"
   },
   "source": [
    "## Predict with Jury Test"
   ]
  },
  {
   "cell_type": "code",
   "source": [
    "import torchvision.transforms.functional as F\n",
    "# Show Function for image tensor\n",
    "def show(imgs):\n",
    "    if not isinstance(imgs, list):\n",
    "        imgs = [imgs]\n",
    "    fig, axs = plt.subplots(ncols=len(imgs), squeeze=False)\n",
    "    for i, img in enumerate(imgs):\n",
    "        img = img.detach()\n",
    "        img = F.to_pil_image(img)\n",
    "        axs[0, i].imshow(np.asarray(img))\n",
    "        axs[0, i].set(xticklabels=[], yticklabels=[], xticks=[], yticks=[])\n",
    "\n",
    "from PIL import ImageStat\n",
    "\n",
    "def is_grayscale(path):\n",
    "    im = Image.open(path).convert(\"RGB\")\n",
    "    stat = ImageStat.Stat(im)\n",
    "    if sum(stat.sum)/3 == stat.sum[0]: #check the avg with any element value\n",
    "        return True #if grayscale\n",
    "    else:\n",
    "        return False #else its colour"
   ],
   "metadata": {
    "id": "cJXSByQ7MjdM"
   },
   "id": "cJXSByQ7MjdM",
   "execution_count": 19,
   "outputs": []
  },
  {
   "cell_type": "code",
   "source": [
    "import torchvision.transforms as transforms\n",
    "from PIL import Image\n",
    "import matplotlib.pyplot as plt\n",
    "import numpy as np\n",
    "# from google.colab.patches import cv2_imshow\n",
    "\n",
    "def pre_image(image_path,model):\n",
    "   transform_norm_grayscale = transforms.Compose([\n",
    "       transforms.Resize((50,50)),\n",
    "       transforms.ToTensor()\n",
    "       ])\n",
    "   transform_norm_rgb = transforms.Compose([\n",
    "       transforms.Grayscale(),\n",
    "       transforms.Resize((50,50)),\n",
    "       transforms.RandomInvert(p=1),\n",
    "       transforms.ToTensor()\n",
    "       ])\n",
    "\n",
    "   # Read Image\n",
    "   img = Image.open(image_path).convert('L')\n",
    "   #  display(img)\n",
    "\n",
    "   # Is Image Grayscale?\n",
    "   if (is_grayscale(image_path)):\n",
    "       print(\"Grayscale\")\n",
    "       img_normalized = transform_norm_grayscale(img).float()\n",
    "       show(img_normalized)\n",
    "       img_normalized = img_normalized.unsqueeze_(0)\n",
    "       img_normalized = img_normalized.to(device)\n",
    "   else:\n",
    "       print(\"RGB\")\n",
    "       img_normalized = transform_norm_rgb(img).float()\n",
    "       show(img_normalized)\n",
    "       img_normalized = img_normalized.unsqueeze_(0)\n",
    "       img_normalized = img_normalized.to(device)\n",
    "\n",
    "   print(\"Shape Image:\",img_normalized.shape)\n",
    "   with torch.no_grad(): # Predict Image\n",
    "      model.eval()\n",
    "      output =model(img_normalized)\n",
    "     # print(output)\n",
    "      index = output.data.cpu().numpy().argmax()\n",
    "      classes = [\"Ankle Bot\", \"Bag\", \"Coat\", \"Dress\", \"Hat\",\"Pullover\", \"Sandal\", \"Shirt\", \"Sneaker\", \"T-shirt/Top\", \"Trouser\"]\n",
    "      class_name = classes[index]\n",
    "      return class_name"
   ],
   "metadata": {
    "id": "LPblennyKCbc"
   },
   "id": "LPblennyKCbc",
   "execution_count": 20,
   "outputs": []
  },
  {
   "cell_type": "code",
   "execution_count": 21,
   "outputs": [
    {
     "name": "stdout",
     "output_type": "stream",
     "text": [
      "RGB\n",
      "Shape Image: torch.Size([1, 1, 50, 50])\n",
      "Hat\n"
     ]
    },
    {
     "data": {
      "text/plain": "<Figure size 700x700 with 1 Axes>",
      "image/png": "[encoded data removed]"
     },
     "metadata": {},
     "output_type": "display_data"
    }
   ],
   "source": [
    "# Test from local\n",
    "test_file_path = \"Jury_test/hat_3.jpg\"\n",
    "predict_class = pre_image(test_file_path, model)\n",
    "print(predict_class)"
   ],
   "metadata": {
    "id": "J8Hk3JDWGLUU"
   },
   "id": "J8Hk3JDWGLUU"
  },
  {
   "cell_type": "markdown",
   "source": [
    "## Save Model"
   ],
   "metadata": {
    "id": "Gdni9-SWcgGm"
   },
   "id": "Gdni9-SWcgGm"
  },
  {
   "cell_type": "code",
   "source": [
    "from datetime import datetime\n",
    "\n",
    "now = datetime.now()\n",
    "current_time = now.strftime(\"%Y-%m-%d_%H-%M-%S\")\n",
    "\n",
    "DIR_NAME = \"./ModelsSave\"\n",
    "if os.path.exists(DIR_NAME) == False:\n",
    "    os.mkdir(DIR_NAME)\n",
    "\n",
    "# Save model\n",
    "torch.save(\n",
    "    model.state_dict(),\n",
    "    DIR_NAME+'/model={}-{:.4f}.pth'.format(current_time, max(accuracies['val']))\n",
    ")"
   ],
   "metadata": {
    "id": "F05Jhm-Zcfpk"
   },
   "id": "F05Jhm-Zcfpk",
   "execution_count": 22,
   "outputs": []
  },
  {
   "cell_type": "code",
   "execution_count": null,
   "outputs": [],
   "source": [],
   "metadata": {
    "collapsed": false
   }
  }
 ],
 "metadata": {
  "kernelspec": {
   "display_name": "Python 3",
   "language": "python",
   "name": "python3"
  },
  "language_info": {
   "codemirror_mode": {
    "name": "ipython",
    "version": 3
   },
   "file_extension": ".py",
   "mimetype": "text/x-python",
   "name": "python",
   "nbconvert_exporter": "python",
   "pygments_lexer": "ipython3",
   "version": "3.7.9"
  },
  "papermill": {
   "default_parameters": {},
   "duration": 13498.927965,
   "end_time": "2021-04-18T17:40:33.580092",
   "environment_variables": {},
   "exception": null,
   "input_path": "__notebook__.ipynb",
   "output_path": "__notebook__.ipynb",
   "parameters": {},
   "start_time": "2021-04-18T13:55:34.652127",
   "version": "2.3.2"
  },
  "colab": {
   "provenance": [],
   "collapsed_sections": []
  },
  "accelerator": "GPU",
  "gpuClass": "standard"
 },
 "nbformat": 4,
 "nbformat_minor": 5
}
