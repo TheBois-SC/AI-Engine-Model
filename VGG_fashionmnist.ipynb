{
  "cells": [
    {
      "cell_type": "code",
      "execution_count": 1,
      "id": "loaded-university",
      "metadata": {
        "execution": {
          "iopub.execute_input": "2021-04-18T13:55:41.420491Z",
          "iopub.status.busy": "2021-04-18T13:55:41.419706Z",
          "iopub.status.idle": "2021-04-18T13:55:43.895455Z",
          "shell.execute_reply": "2021-04-18T13:55:43.894632Z"
        },
        "papermill": {
          "duration": 2.512976,
          "end_time": "2021-04-18T13:55:43.895644",
          "exception": false,
          "start_time": "2021-04-18T13:55:41.382668",
          "status": "completed"
        },
        "tags": [],
        "id": "loaded-university"
      },
      "outputs": [],
      "source": [
        "import pandas as pd\n",
        "import numpy as np\n",
        "\n",
        "from sklearn.model_selection import train_test_split\n",
        "\n",
        "import torch\n",
        "import torch.nn as nn\n",
        "import torchvision\n",
        "from torchvision.transforms import transforms\n",
        "from torch.utils.data import Dataset, DataLoader, ConcatDataset\n",
        "\n",
        "from PIL import Image\n",
        "from typing import cast, Any, Union, Dict, List\n",
        "import time\n",
        "import random\n",
        "import copy \n",
        " \n",
        "import matplotlib.pyplot as plt\n",
        "\n",
        "import os\n",
        "import shutil\n",
        "from collections import OrderedDict\n",
        "\n",
        "\n",
        "\n",
        "device = torch.device('cuda:0' if torch.cuda.is_available() else 'cpu')"
      ]
    },
    {
      "cell_type": "markdown",
      "id": "reduced-combining",
      "metadata": {
        "papermill": {
          "duration": 0.026544,
          "end_time": "2021-04-18T13:55:43.950006",
          "exception": false,
          "start_time": "2021-04-18T13:55:43.923462",
          "status": "completed"
        },
        "tags": [],
        "id": "reduced-combining"
      },
      "source": [
        "# Loading data"
      ]
    },
    {
      "cell_type": "markdown",
      "id": "confident-springfield",
      "metadata": {
        "papermill": {
          "duration": 0.026683,
          "end_time": "2021-04-18T13:55:44.007154",
          "exception": false,
          "start_time": "2021-04-18T13:55:43.980471",
          "status": "completed"
        },
        "tags": [],
        "id": "confident-springfield"
      },
      "source": [
        "**Let's see what the data in the pandas table looks like**"
      ]
    },
    {
      "cell_type": "code",
      "execution_count": 2,
      "id": "resident-selling",
      "metadata": {
        "execution": {
          "iopub.execute_input": "2021-04-18T13:55:44.067013Z",
          "iopub.status.busy": "2021-04-18T13:55:44.066290Z",
          "iopub.status.idle": "2021-04-18T13:55:51.159739Z",
          "shell.execute_reply": "2021-04-18T13:55:51.159185Z"
        },
        "papermill": {
          "duration": 7.125533,
          "end_time": "2021-04-18T13:55:51.159932",
          "exception": false,
          "start_time": "2021-04-18T13:55:44.034399",
          "status": "completed"
        },
        "tags": [],
        "id": "resident-selling",
        "outputId": "9c3ab958-fc40-48c2-9c4b-19c8e479e56a",
        "colab": {
          "base_uri": "https://localhost:8080/",
          "height": 423,
          "referenced_widgets": [
            "a5b684a021454be28944d4de02ff5871",
            "f994b746bf6a40f08ceea234981fd7e0",
            "ac4673902f32420095c2de7bc37ad215",
            "8d9f2b38cfb448dd9d5f95724a6a3a14",
            "04b046abb9d1423bb95f15890b291c67",
            "7927fe798a004226ba9ff11e3f3fa7c7",
            "604a2c90a7c243e699e09494b4a309ae",
            "c0388c9837874a1e872c740be89ce021",
            "54c8c2678a8645a4b86efd0b0367642e",
            "34264440b0424dc7be428edae35d1c17",
            "456914fca30543329a7855b12bb770ed",
            "4b17a835e24e4fb783c798c133721eca",
            "2ec2e24c3a5242309b71be982017377b",
            "93285927376e404abba71e0f2e4471a3",
            "d7e488defce4419cba713b6e3713a898",
            "7ac27981da5d479c9264efd4a7a529ff",
            "4a2f90f3913f44fd830358d713a9a1ea",
            "0cd6c92f69524cab99776d8548917bda",
            "29c7fcff7aeb451a9539e8e4f0e60758",
            "34499fff4e824a6fa14e8fccc18ec3b2",
            "f17135af3866407c8e1bf1cbb54d94be",
            "066f185981c04009a1af86170cdef7f4",
            "bddb7f710af644bb9cf27ecb64e78b72",
            "1278c2889d5548d794aedf029c6d3f14",
            "cc0f97ccfd924d258e534404c1e8e2c9",
            "651b9d73e43d47819902edbfab9c8092",
            "2351cb9ed9514e389efbf699494ac814",
            "bc511f6ef142452699ec5f2f32a7ab52",
            "e917b6f84a9548fc9faa3f64fbfc058c",
            "a3a486602fd54590b43fa3df488beec4",
            "0a7b21142d354a289a804c1a64268596",
            "e113e584721345cca6d16d5a46a024d8",
            "4b45e756fd674cdb9c6a49861c802cbe",
            "7de8d711e8eb4c2fa4ce39c4df55f516",
            "4946e60792c54e6ea2e3bb3d67b20d0c",
            "53c6747903a8481fb3366489a86699fc",
            "31102f7fca5d457a88dd740a25bcfd5f",
            "54676cae24544820990c0294f01c51a2",
            "2b0447ecda0d424795f2dbccf3ddea68",
            "bf7bd3927bc94a3fa8128e94fd0afc51",
            "0a9e5e4704594501b834935ea009b54c",
            "57b774b760604b908724ebc933f6e966",
            "8efd3930e42f437b9d35154943b6326a",
            "4a8bc9bf40a24b67993bd0a9e0730d75"
          ]
        }
      },
      "outputs": [
        {
          "output_type": "stream",
          "name": "stdout",
          "text": [
            "Downloading http://fashion-mnist.s3-website.eu-central-1.amazonaws.com/train-images-idx3-ubyte.gz\n",
            "Downloading http://fashion-mnist.s3-website.eu-central-1.amazonaws.com/train-images-idx3-ubyte.gz to ./FashionMNIST/raw/train-images-idx3-ubyte.gz\n"
          ]
        },
        {
          "output_type": "display_data",
          "data": {
            "text/plain": [
              "  0%|          | 0/26421880 [00:00<?, ?it/s]"
            ],
            "application/vnd.jupyter.widget-view+json": {
              "version_major": 2,
              "version_minor": 0,
              "model_id": "a5b684a021454be28944d4de02ff5871"
            }
          },
          "metadata": {}
        },
        {
          "output_type": "stream",
          "name": "stdout",
          "text": [
            "Extracting ./FashionMNIST/raw/train-images-idx3-ubyte.gz to ./FashionMNIST/raw\n",
            "\n",
            "Downloading http://fashion-mnist.s3-website.eu-central-1.amazonaws.com/train-labels-idx1-ubyte.gz\n",
            "Downloading http://fashion-mnist.s3-website.eu-central-1.amazonaws.com/train-labels-idx1-ubyte.gz to ./FashionMNIST/raw/train-labels-idx1-ubyte.gz\n"
          ]
        },
        {
          "output_type": "display_data",
          "data": {
            "text/plain": [
              "  0%|          | 0/29515 [00:00<?, ?it/s]"
            ],
            "application/vnd.jupyter.widget-view+json": {
              "version_major": 2,
              "version_minor": 0,
              "model_id": "4b17a835e24e4fb783c798c133721eca"
            }
          },
          "metadata": {}
        },
        {
          "output_type": "stream",
          "name": "stdout",
          "text": [
            "Extracting ./FashionMNIST/raw/train-labels-idx1-ubyte.gz to ./FashionMNIST/raw\n",
            "\n",
            "Downloading http://fashion-mnist.s3-website.eu-central-1.amazonaws.com/t10k-images-idx3-ubyte.gz\n",
            "Downloading http://fashion-mnist.s3-website.eu-central-1.amazonaws.com/t10k-images-idx3-ubyte.gz to ./FashionMNIST/raw/t10k-images-idx3-ubyte.gz\n"
          ]
        },
        {
          "output_type": "display_data",
          "data": {
            "text/plain": [
              "  0%|          | 0/4422102 [00:00<?, ?it/s]"
            ],
            "application/vnd.jupyter.widget-view+json": {
              "version_major": 2,
              "version_minor": 0,
              "model_id": "bddb7f710af644bb9cf27ecb64e78b72"
            }
          },
          "metadata": {}
        },
        {
          "output_type": "stream",
          "name": "stdout",
          "text": [
            "Extracting ./FashionMNIST/raw/t10k-images-idx3-ubyte.gz to ./FashionMNIST/raw\n",
            "\n",
            "Downloading http://fashion-mnist.s3-website.eu-central-1.amazonaws.com/t10k-labels-idx1-ubyte.gz\n",
            "Downloading http://fashion-mnist.s3-website.eu-central-1.amazonaws.com/t10k-labels-idx1-ubyte.gz to ./FashionMNIST/raw/t10k-labels-idx1-ubyte.gz\n"
          ]
        },
        {
          "output_type": "display_data",
          "data": {
            "text/plain": [
              "  0%|          | 0/5148 [00:00<?, ?it/s]"
            ],
            "application/vnd.jupyter.widget-view+json": {
              "version_major": 2,
              "version_minor": 0,
              "model_id": "7de8d711e8eb4c2fa4ce39c4df55f516"
            }
          },
          "metadata": {}
        },
        {
          "output_type": "stream",
          "name": "stdout",
          "text": [
            "Extracting ./FashionMNIST/raw/t10k-labels-idx1-ubyte.gz to ./FashionMNIST/raw\n",
            "\n"
          ]
        }
      ],
      "source": [
        "train_transform = transforms.Compose([\n",
        "    transforms.RandomHorizontalFlip(),\n",
        "    transforms.RandomVerticalFlip(),\n",
        "    # transforms.RandomRotation(15),\n",
        "    transforms.ToTensor(),\n",
        "    transforms.Normalize(mean=(0.2859),\n",
        "                         std=(0.3530)),\n",
        "    ])\n",
        "\n",
        "val_transform = transforms.Compose([\n",
        "    transforms.ToTensor(),\n",
        "    transforms.Normalize(mean=(0.2859),\n",
        "                         std=(0.3530)),\n",
        "    ])\n",
        "\n",
        "# import data\n",
        "train_set = torchvision.datasets.FashionMNIST(root=\"./\", download=True,\n",
        "                                              train=True,\n",
        "                                              transform=train_transform)\n",
        "\n",
        "test_set = torchvision.datasets.FashionMNIST(root=\"./\", download=True,\n",
        "                                              train=False,\n",
        "                                              transform=val_transform)\n",
        "\n",
        "train_set, val_set = torch.utils.data.random_split(train_set, [int(len(train_set) * 0.8), int(len(train_set) * 0.2)])\n",
        "\n",
        "train_dataloader = torch.utils.data.DataLoader(train_set,\n",
        "                                        batch_size = 100,\n",
        "                                        shuffle = True)\n",
        "\n",
        "val_dataloader = torch.utils.data.DataLoader(val_set,\n",
        "                                        batch_size = 100)\n",
        "\n",
        "loaders = {\n",
        "    'train': train_dataloader,\n",
        "    'val': val_dataloader\n",
        "}"
      ]
    },
    {
      "cell_type": "code",
      "source": [
        "#for metrics\n",
        "dataset_sizes = { 'train': len(train_set), 'val': len(val_set)}\n",
        "\n",
        "#for normalization\n",
        "dataset_sizes_for_norm = {'train': len(train_set), 'val': len(val_set)}\n",
        "loaders_for_norm = {\n",
        "    'train': DataLoader(train_set, batch_size=100, shuffle = True, num_workers=4),\n",
        "    'val': DataLoader(val_set, batch_size=100, shuffle = True, num_workers=4)\n",
        "}\n",
        "\n",
        "#show\n",
        "dataset_sizes, dataset_sizes_for_norm"
      ],
      "metadata": {
        "id": "uzsCUsBgHtpY",
        "colab": {
          "base_uri": "https://localhost:8080/"
        },
        "outputId": "62a3d7c4-7f12-47f0-c343-0b560eeb22b3"
      },
      "id": "uzsCUsBgHtpY",
      "execution_count": 3,
      "outputs": [
        {
          "output_type": "stream",
          "name": "stderr",
          "text": [
            "/usr/local/lib/python3.7/dist-packages/torch/utils/data/dataloader.py:566: UserWarning: This DataLoader will create 4 worker processes in total. Our suggested max number of worker in current system is 2, which is smaller than what this DataLoader is going to create. Please be aware that excessive worker creation might get DataLoader running slow or even freeze, lower the worker number to avoid potential slowness/freeze if necessary.\n",
            "  cpuset_checked))\n"
          ]
        },
        {
          "output_type": "execute_result",
          "data": {
            "text/plain": [
              "({'train': 48000, 'val': 12000}, {'train': 48000, 'val': 12000})"
            ]
          },
          "metadata": {},
          "execution_count": 3
        }
      ]
    },
    {
      "cell_type": "code",
      "source": [
        "# for x in ['train', 'val']:\n",
        "   \n",
        "#   #number of pixels in the dataset = number of all pixels in one object * number of all objects in the dataset\n",
        "#   num_pxl = dataset_sizes_for_norm[x]*28*28\n",
        "    \n",
        "#   #we go through the butches and sum up the pixels of the objects, \n",
        "#   #which then divide the sum by the number of all pixels to calculate the average\n",
        "#   total_sum = 0\n",
        "#   for batch in loaders_for_norm[x]: total_sum += batch[0].sum()\n",
        "#   mean = total_sum / num_pxl\n",
        "\n",
        "#     #we calculate the standard deviation using the formula that I indicated above\n",
        "#   sum_sqrt = 0\n",
        "#   for batch in loaders_for_norm[x]: sum_sqrt += ((batch[0] - mean).pow(2)).sum()\n",
        "#   std = torch.sqrt(sum_sqrt / num_pxl)\n",
        "\n",
        "#   # print(f'{x} - mean: {mean}, std: {std}')"
      ],
      "metadata": {
        "id": "rGGEQ7ftWjvy"
      },
      "id": "rGGEQ7ftWjvy",
      "execution_count": 4,
      "outputs": []
    },
    {
      "cell_type": "markdown",
      "id": "adapted-joining",
      "metadata": {
        "papermill": {
          "duration": 0.028665,
          "end_time": "2021-04-18T13:56:11.096725",
          "exception": false,
          "start_time": "2021-04-18T13:56:11.068060",
          "status": "completed"
        },
        "tags": [],
        "id": "adapted-joining"
      },
      "source": [
        "**Let's see what the images look like**"
      ]
    },
    {
      "cell_type": "code",
      "execution_count": 5,
      "id": "lined-insider",
      "metadata": {
        "execution": {
          "iopub.execute_input": "2021-04-18T13:56:11.163569Z",
          "iopub.status.busy": "2021-04-18T13:56:11.162236Z",
          "iopub.status.idle": "2021-04-18T13:56:11.635237Z",
          "shell.execute_reply": "2021-04-18T13:56:11.634512Z"
        },
        "papermill": {
          "duration": 0.509314,
          "end_time": "2021-04-18T13:56:11.635399",
          "exception": false,
          "start_time": "2021-04-18T13:56:11.126085",
          "status": "completed"
        },
        "tags": [],
        "id": "lined-insider",
        "outputId": "763225f9-efb3-41b8-9a59-f5b3f6a04991",
        "colab": {
          "base_uri": "https://localhost:8080/",
          "height": 282
        }
      },
      "outputs": [
        {
          "output_type": "execute_result",
          "data": {
            "text/plain": [
              "<matplotlib.image.AxesImage at 0x7f40b729cfd0>"
            ]
          },
          "metadata": {},
          "execution_count": 5
        },
        {
          "output_type": "display_data",
          "data": {
            "text/plain": [
              "<Figure size 432x288 with 1 Axes>"
            ],
            "image/png": "[encoded data removed]"
          },
          "metadata": {
            "needs_background": "light"
          }
        }
      ],
      "source": [
        "i = np.random.randint(50)\n",
        "x, y = next(iter(train_dataloader))\n",
        "plt.imshow(x[i].view(28,28))"
      ]
    },
    {
      "cell_type": "markdown",
      "id": "tired-supply",
      "metadata": {
        "papermill": {
          "duration": 0.03045,
          "end_time": "2021-04-18T13:56:11.696207",
          "exception": false,
          "start_time": "2021-04-18T13:56:11.665757",
          "status": "completed"
        },
        "tags": [],
        "id": "tired-supply"
      },
      "source": [
        "# Model"
      ]
    },
    {
      "cell_type": "markdown",
      "id": "median-interference",
      "metadata": {
        "papermill": {
          "duration": 0.030569,
          "end_time": "2021-04-18T13:56:11.757359",
          "exception": false,
          "start_time": "2021-04-18T13:56:11.726790",
          "status": "completed"
        },
        "tags": [],
        "id": "median-interference"
      },
      "source": []
    },
    {
      "cell_type": "code",
      "execution_count": 6,
      "id": "tutorial-pencil",
      "metadata": {
        "execution": {
          "iopub.execute_input": "2021-04-18T13:56:11.842480Z",
          "iopub.status.busy": "2021-04-18T13:56:11.841737Z",
          "iopub.status.idle": "2021-04-18T13:56:11.891519Z",
          "shell.execute_reply": "2021-04-18T13:56:11.890817Z"
        },
        "papermill": {
          "duration": 0.103583,
          "end_time": "2021-04-18T13:56:11.891691",
          "exception": false,
          "start_time": "2021-04-18T13:56:11.788108",
          "status": "completed"
        },
        "tags": [],
        "id": "tutorial-pencil"
      },
      "outputs": [],
      "source": [
        "class VGG(nn.Module):\n",
        "  def __init__(self, features:nn.Module, num_classes:int=1000, init_weights:bool=True):\n",
        "      super(VGG, self).__init__()\n",
        "      self.features = features #features = Feature extraction\n",
        "      self.avgpool = nn.AdaptiveAvgPool2d((1,1))\n",
        "      self.classifier = nn.Sequential(\n",
        "          nn.Linear(256, 128),\n",
        "          nn.ReLU(),\n",
        "          nn.Dropout(0.2),\n",
        "          nn.Linear(128, 64),\n",
        "          nn.ReLU(),\n",
        "          nn.Dropout(0.2),\n",
        "          nn.Linear(64, num_classes)\n",
        "          )\n",
        "\n",
        "      if init_weights:\n",
        "        self.initialize_weights()\n",
        "  \n",
        "  def forward(self, x):\n",
        "    x = self.features(x) #features = Feature extraction\n",
        "    x = self.avgpool(x)\n",
        "    # print(x.shape)\n",
        "    x = torch.flatten(x, 1)\n",
        "    x = self.classifier(x)\n",
        "    return x\n",
        "\n",
        "  def initialize_weights(self):\n",
        "    for m in self.modules():\n",
        "      if isinstance(m, nn.Conv2d):\n",
        "        nn.init.kaiming_normal_(m.weight, mode='fan_in', nonlinearity='leaky_relu')\n",
        "        if m.bias is not None:\n",
        "          nn.init.constant_(m.bias, 0) \n",
        "      if isinstance(m, nn.BatchNorm2d):\n",
        "        nn.init.constant_(m.weight, 1)\n",
        "        nn.init.constant_(m.bias, 0)\n",
        "      if isinstance(m, nn.Linear):\n",
        "        nn.init.kaiming_normal_(m.weight, mode='fan_in', nonlinearity='leaky_relu')\n",
        "        if m.bias is not None:\n",
        "          nn.init.constant_(m.bias, 0) \n",
        "\n",
        "cfgs: Dict[str, List[Union[int, str]]] = {\n",
        "    'A':[64, 'M', 128, 128, 'M', 256, 256, 256],\n",
        "    'B':[16, 'M', 256, 'M'],\n",
        "    'firstPadding':2\n",
        "}\n",
        "# cfgs: Dict[str, List[Union[str, int]]] = {\n",
        "#     'A': [64, 'M', 128, 'M', 256, 256, 'M', 512, 512, 'M', 512, 512, 'M'],\n",
        "#     'B': [64, 64, 'M', 128, 128, 'M', 256, 256, 'M', 512, 512, 'M', 512, 512, 'M'],\n",
        "#     'D': [64, 64, 'M', 128, 128, 'M', 256, 256, 256, 'M', 512, 512, 512, 'M', 512, 512, 512, 'M'],\n",
        "#     'E': [64, 64, 'M', 128, 128, 'M', 256, 256, 256, 256, 'M', 512, 512, 512, 512, 'M', 512, 512, 512, 512, 'M'],\n",
        "# }\n",
        "\n",
        "\n",
        "\n",
        "def make_layers(cfg:List[Union[int,str]], batch_norm:bool=False) -> nn.Sequential:\n",
        "  layers:List[nn.Moduel] = []\n",
        "  in_channels = 1\n",
        "  in_padding = 5\n",
        "  i = 0\n",
        "  for v in cfg:\n",
        "    if v == 'M':\n",
        "      layers += [nn.MaxPool2d(kernel_size=2, stride=2)]\n",
        "    else:\n",
        "      v = cast(int, v)\n",
        "      in_padding = 1\n",
        "      if i == 5:\n",
        "        in_padding = 2\n",
        "      conv2d = nn.Conv2d(in_channels, v, kernel_size=3, padding=in_padding)\n",
        "      if batch_norm:\n",
        "        layers += [conv2d, nn.BatchNorm2d(v), nn.PReLU(num_parameters=1)]\n",
        "      else:\n",
        "        layers += [conv2d, nn.PReLU(num_parameters=1)] #nn.PReLU(num_parameters=1) nn.ReLU(inplace=True)\n",
        "      in_channels = v\n",
        "    i += 1\n",
        "  return nn.Sequential(*layers)\n",
        "\n",
        "\n",
        "def selfDefineVgg(arch, cfg, batch_norm,  num_classes:int, **kwargs: Any) -> VGG:\n",
        "    model = VGG(make_layers(arch[cfg], batch_norm=batch_norm), num_classes, **kwargs)\n",
        "    return model\n",
        "model = selfDefineVgg(cfgs, 'A', True, 10)\n",
        "model = model.to(device)"
      ]
    },
    {
      "cell_type": "code",
      "source": [
        "model"
      ],
      "metadata": {
        "colab": {
          "base_uri": "https://localhost:8080/"
        },
        "id": "zLTuuCzl9LfY",
        "outputId": "0a1b1fbf-1698-4216-a9d0-5585842fdf46"
      },
      "id": "zLTuuCzl9LfY",
      "execution_count": 7,
      "outputs": [
        {
          "output_type": "execute_result",
          "data": {
            "text/plain": [
              "VGG(\n",
              "  (features): Sequential(\n",
              "    (0): Conv2d(1, 64, kernel_size=(3, 3), stride=(1, 1), padding=(1, 1))\n",
              "    (1): BatchNorm2d(64, eps=1e-05, momentum=0.1, affine=True, track_running_stats=True)\n",
              "    (2): PReLU(num_parameters=1)\n",
              "    (3): MaxPool2d(kernel_size=2, stride=2, padding=0, dilation=1, ceil_mode=False)\n",
              "    (4): Conv2d(64, 128, kernel_size=(3, 3), stride=(1, 1), padding=(1, 1))\n",
              "    (5): BatchNorm2d(128, eps=1e-05, momentum=0.1, affine=True, track_running_stats=True)\n",
              "    (6): PReLU(num_parameters=1)\n",
              "    (7): Conv2d(128, 128, kernel_size=(3, 3), stride=(1, 1), padding=(1, 1))\n",
              "    (8): BatchNorm2d(128, eps=1e-05, momentum=0.1, affine=True, track_running_stats=True)\n",
              "    (9): PReLU(num_parameters=1)\n",
              "    (10): MaxPool2d(kernel_size=2, stride=2, padding=0, dilation=1, ceil_mode=False)\n",
              "    (11): Conv2d(128, 256, kernel_size=(3, 3), stride=(1, 1), padding=(2, 2))\n",
              "    (12): BatchNorm2d(256, eps=1e-05, momentum=0.1, affine=True, track_running_stats=True)\n",
              "    (13): PReLU(num_parameters=1)\n",
              "    (14): Conv2d(256, 256, kernel_size=(3, 3), stride=(1, 1), padding=(1, 1))\n",
              "    (15): BatchNorm2d(256, eps=1e-05, momentum=0.1, affine=True, track_running_stats=True)\n",
              "    (16): PReLU(num_parameters=1)\n",
              "    (17): Conv2d(256, 256, kernel_size=(3, 3), stride=(1, 1), padding=(1, 1))\n",
              "    (18): BatchNorm2d(256, eps=1e-05, momentum=0.1, affine=True, track_running_stats=True)\n",
              "    (19): PReLU(num_parameters=1)\n",
              "  )\n",
              "  (avgpool): AdaptiveAvgPool2d(output_size=(1, 1))\n",
              "  (classifier): Sequential(\n",
              "    (0): Linear(in_features=256, out_features=128, bias=True)\n",
              "    (1): ReLU()\n",
              "    (2): Dropout(p=0.2, inplace=False)\n",
              "    (3): Linear(in_features=128, out_features=64, bias=True)\n",
              "    (4): ReLU()\n",
              "    (5): Dropout(p=0.2, inplace=False)\n",
              "    (6): Linear(in_features=64, out_features=10, bias=True)\n",
              "  )\n",
              ")"
            ]
          },
          "metadata": {},
          "execution_count": 7
        }
      ]
    },
    {
      "cell_type": "markdown",
      "id": "divine-seattle",
      "metadata": {
        "papermill": {
          "duration": 0.030206,
          "end_time": "2021-04-18T13:56:11.952693",
          "exception": false,
          "start_time": "2021-04-18T13:56:11.922487",
          "status": "completed"
        },
        "tags": [],
        "id": "divine-seattle"
      },
      "source": [
        "**Loss function, Optimizer, Scheduler**"
      ]
    },
    {
      "cell_type": "code",
      "execution_count": 8,
      "id": "requested-charity",
      "metadata": {
        "execution": {
          "iopub.execute_input": "2021-04-18T13:56:12.022879Z",
          "iopub.status.busy": "2021-04-18T13:56:12.021780Z",
          "iopub.status.idle": "2021-04-18T13:56:12.026143Z",
          "shell.execute_reply": "2021-04-18T13:56:12.025433Z"
        },
        "papermill": {
          "duration": 0.0428,
          "end_time": "2021-04-18T13:56:12.026304",
          "exception": false,
          "start_time": "2021-04-18T13:56:11.983504",
          "status": "completed"
        },
        "tags": [],
        "id": "requested-charity"
      },
      "outputs": [],
      "source": [
        "criterion = nn.CrossEntropyLoss()\n",
        "optimizer = torch.optim.Adam(model.parameters(), lr = 0.001, betas=(0.9,0.999), eps=1e-9)\n",
        "scheduler = torch.optim.lr_scheduler.StepLR(optimizer, 4, gamma=0.1, verbose=False)###Best accuracy 0.9349, tensor(0.9385)"
      ]
    },
    {
      "cell_type": "markdown",
      "id": "deadly-above",
      "metadata": {
        "papermill": {
          "duration": 0.030343,
          "end_time": "2021-04-18T13:56:12.088472",
          "exception": false,
          "start_time": "2021-04-18T13:56:12.058129",
          "status": "completed"
        },
        "tags": [],
        "id": "deadly-above"
      },
      "source": [
        "# Train"
      ]
    },
    {
      "cell_type": "code",
      "execution_count": 9,
      "id": "visible-tunisia",
      "metadata": {
        "execution": {
          "iopub.execute_input": "2021-04-18T13:56:12.165228Z",
          "iopub.status.busy": "2021-04-18T13:56:12.164533Z",
          "iopub.status.idle": "2021-04-18T13:56:12.168557Z",
          "shell.execute_reply": "2021-04-18T13:56:12.167968Z"
        },
        "papermill": {
          "duration": 0.049986,
          "end_time": "2021-04-18T13:56:12.168699",
          "exception": false,
          "start_time": "2021-04-18T13:56:12.118713",
          "status": "completed"
        },
        "tags": [],
        "id": "visible-tunisia"
      },
      "outputs": [],
      "source": [
        "#save the losses for further visualization\n",
        "losses = {'train':[], 'val':[]}\n",
        "accuracies = {'train':[], 'val':[]}\n",
        "\n",
        "def train(model, criterion, optimizer, scheduler, epochs):\n",
        "  since = time.time()\n",
        "  best_model = copy.deepcopy(model.state_dict())\n",
        "  best_acc = 0.0\n",
        "  for epoch in range(epochs):\n",
        "    for phase in ['train', 'val']:\n",
        "      if phase == 'train':\n",
        "        model.train()\n",
        "      else:\n",
        "        model.eval()\n",
        "      \n",
        "      running_loss = 0.0\n",
        "      running_corrects = 0.0\n",
        "\n",
        "      for inputs, labels in loaders[phase]:\n",
        "        inputs, labels = inputs.to(device), labels.to(device)\n",
        "\n",
        "        optimizer.zero_grad()\n",
        "\n",
        "        with torch.set_grad_enabled(phase=='train'):\n",
        "          outp = model(inputs)\n",
        "          _, pred = torch.max(outp, 1)\n",
        "          loss = criterion(outp, labels)\n",
        "        \n",
        "          if phase == 'train':\n",
        "            loss.backward()\n",
        "            optimizer.step()\n",
        "        \n",
        "        running_loss += loss.item()*inputs.size(0)\n",
        "        running_corrects += torch.sum(pred == labels.data)\n",
        "\n",
        "\n",
        "      epoch_loss = running_loss / dataset_sizes[phase]\n",
        "      epoch_acc = running_corrects.double()/dataset_sizes[phase]\n",
        "      losses[phase].append(float(epoch_loss))\n",
        "      accuracies[phase].append(float(epoch_acc))\n",
        "      if phase == 'train':\n",
        "        print('Epoch: {}/{}'.format(epoch+1, epochs))\n",
        "      print('{} - loss:{}, accuracy{}'.format(phase, epoch_loss, epoch_acc))\n",
        "    \n",
        "      if phase == 'val':\n",
        "        print('Time: {}m {}s'.format((time.time()- since)//60, (time.time()- since)%60))\n",
        "            \n",
        "      if phase == 'val' and epoch_acc > best_acc:\n",
        "        best_acc = epoch_acc\n",
        "        best_model = copy.deepcopy(model.state_dict())\n",
        "    scheduler.step()  \n",
        "  time_elapsed = time.time() - since\n",
        "  print('Training Time {}m {}s'.format(time_elapsed//60, time_elapsed%60)) \n",
        "  print('Best accuracy {}'.format(best_acc))\n",
        "\n",
        "  model.load_state_dict(best_model)\n",
        "  return model   "
      ]
    },
    {
      "cell_type": "markdown",
      "id": "spread-trash",
      "metadata": {
        "papermill": {
          "duration": 0.029965,
          "end_time": "2021-04-18T13:56:12.229207",
          "exception": false,
          "start_time": "2021-04-18T13:56:12.199242",
          "status": "completed"
        },
        "tags": [],
        "id": "spread-trash"
      },
      "source": [
        "**Launching training**"
      ]
    },
    {
      "cell_type": "code",
      "execution_count": 10,
      "id": "indonesian-ownership",
      "metadata": {
        "execution": {
          "iopub.execute_input": "2021-04-18T13:56:12.296263Z",
          "iopub.status.busy": "2021-04-18T13:56:12.295579Z",
          "iopub.status.idle": "2021-04-18T17:39:47.940716Z",
          "shell.execute_reply": "2021-04-18T17:39:47.941528Z"
        },
        "papermill": {
          "duration": 13415.682515,
          "end_time": "2021-04-18T17:39:47.941764",
          "exception": false,
          "start_time": "2021-04-18T13:56:12.259249",
          "status": "completed"
        },
        "tags": [],
        "id": "indonesian-ownership",
        "outputId": "c8415386-e636-4e8f-b753-c934874a7884",
        "colab": {
          "base_uri": "https://localhost:8080/"
        }
      },
      "outputs": [
        {
          "output_type": "stream",
          "name": "stdout",
          "text": [
            "Epoch: 1/10\n",
            "train - loss:0.6829915646463632, accuracy0.7575208333333333\n",
            "val - loss:0.43853112099071345, accuracy0.8434999999999999\n",
            "Time: 0.0m 37.02656626701355s\n",
            "Epoch: 2/10\n",
            "train - loss:0.40822373277818164, accuracy0.859625\n",
            "val - loss:0.3873317008217176, accuracy0.8648333333333333\n",
            "Time: 1.0m 2.7275424003601074s\n",
            "Epoch: 3/10\n",
            "train - loss:0.34335124492645264, accuracy0.8792916666666666\n",
            "val - loss:0.38269393555819986, accuracy0.8619166666666667\n",
            "Time: 1.0m 28.87439513206482s\n",
            "Epoch: 4/10\n",
            "train - loss:0.3076032724386702, accuracy0.8924583333333334\n",
            "val - loss:0.35319973081350325, accuracy0.8757499999999999\n",
            "Time: 1.0m 53.96162700653076s\n",
            "Epoch: 5/10\n",
            "train - loss:0.2459183317919572, accuracy0.9144375\n",
            "val - loss:0.24009153662870328, accuracy0.9161666666666667\n",
            "Time: 2.0m 19.169867515563965s\n",
            "Epoch: 6/10\n",
            "train - loss:0.2279781143491467, accuracy0.9193541666666666\n",
            "val - loss:0.23817100586990517, accuracy0.9155833333333333\n",
            "Time: 2.0m 44.30745530128479s\n",
            "Epoch: 7/10\n",
            "train - loss:0.21761121943903466, accuracy0.9230625\n",
            "val - loss:0.23331066723912955, accuracy0.9196666666666666\n",
            "Time: 3.0m 9.36215615272522s\n",
            "Epoch: 8/10\n",
            "train - loss:0.21321030607602248, accuracy0.9254791666666666\n",
            "val - loss:0.22746996811280648, accuracy0.91925\n",
            "Time: 3.0m 34.54167556762695s\n",
            "Epoch: 9/10\n",
            "train - loss:0.1986195689300075, accuracy0.9305208333333334\n",
            "val - loss:0.22522571248312792, accuracy0.92075\n",
            "Time: 3.0m 59.686065673828125s\n",
            "Epoch: 10/10\n",
            "train - loss:0.19787316833001872, accuracy0.9304166666666667\n",
            "val - loss:0.22321077588324745, accuracy0.9219999999999999\n",
            "Time: 4.0m 24.69663977622986s\n",
            "Training Time 4.0m 24.701582431793213s\n",
            "Best accuracy 0.9219999999999999\n"
          ]
        }
      ],
      "source": [
        "epochs = 10\n",
        "model = train(model, criterion, optimizer, scheduler, epochs)"
      ]
    },
    {
      "cell_type": "markdown",
      "id": "attached-colony",
      "metadata": {
        "papermill": {
          "duration": 0.037481,
          "end_time": "2021-04-18T17:39:48.017780",
          "exception": false,
          "start_time": "2021-04-18T17:39:47.980299",
          "status": "completed"
        },
        "tags": [],
        "id": "attached-colony"
      },
      "source": [
        "**Visualization**"
      ]
    },
    {
      "cell_type": "code",
      "execution_count": 11,
      "id": "secondary-equilibrium",
      "metadata": {
        "execution": {
          "iopub.execute_input": "2021-04-18T17:39:48.098425Z",
          "iopub.status.busy": "2021-04-18T17:39:48.097372Z",
          "iopub.status.idle": "2021-04-18T17:39:48.611288Z",
          "shell.execute_reply": "2021-04-18T17:39:48.610373Z"
        },
        "papermill": {
          "duration": 0.555774,
          "end_time": "2021-04-18T17:39:48.611451",
          "exception": false,
          "start_time": "2021-04-18T17:39:48.055677",
          "status": "completed"
        },
        "tags": [],
        "id": "secondary-equilibrium",
        "outputId": "41f20fb2-7298-4ab2-d10f-5b1e5a9a928a",
        "colab": {
          "base_uri": "https://localhost:8080/",
          "height": 461
        }
      },
      "outputs": [
        {
          "output_type": "execute_result",
          "data": {
            "text/plain": [
              "<matplotlib.legend.Legend at 0x7f40b7222d90>"
            ]
          },
          "metadata": {},
          "execution_count": 11
        },
        {
          "output_type": "display_data",
          "data": {
            "text/plain": [
              "<Figure size 504x504 with 2 Axes>"
            ],
            "image/png": "[encoded data removed]"
          },
          "metadata": {
            "needs_background": "light"
          }
        }
      ],
      "source": [
        "from pylab import rcParams\n",
        "rcParams['figure.figsize'] = 7, 7\n",
        "\n",
        "fig, axs = plt.subplots(2)\n",
        "\n",
        "axs[0].plot([x for x in range(epochs)], losses['train'], label ='train')\n",
        "axs[0].plot([x for x in range(epochs)], losses['val'], label='val')\n",
        "axs[0].set_title('loss')\n",
        "axs[0].legend()\n",
        "\n",
        "axs[1].plot([x for x in range(epochs)], accuracies['train'], label ='train')\n",
        "axs[1].plot([x for x in range(epochs)], accuracies['val'], label='val')\n",
        "axs[1].set_title('accuracy')\n",
        "axs[1].legend()"
      ]
    },
    {
      "cell_type": "markdown",
      "id": "detailed-estate",
      "metadata": {
        "papermill": {
          "duration": 0.039828,
          "end_time": "2021-04-18T17:39:48.692606",
          "exception": false,
          "start_time": "2021-04-18T17:39:48.652778",
          "status": "completed"
        },
        "tags": [],
        "id": "detailed-estate"
      },
      "source": [
        "# Test"
      ]
    },
    {
      "cell_type": "markdown",
      "id": "incredible-earthquake",
      "metadata": {
        "papermill": {
          "duration": 0.040139,
          "end_time": "2021-04-18T17:39:48.773155",
          "exception": false,
          "start_time": "2021-04-18T17:39:48.733016",
          "status": "completed"
        },
        "tags": [],
        "id": "incredible-earthquake"
      },
      "source": [
        "**Uploading the data**"
      ]
    },
    {
      "cell_type": "code",
      "execution_count": 12,
      "id": "organizational-discovery",
      "metadata": {
        "execution": {
          "iopub.execute_input": "2021-04-18T17:39:50.569414Z",
          "iopub.status.busy": "2021-04-18T17:39:50.568547Z",
          "iopub.status.idle": "2021-04-18T17:39:50.585024Z",
          "shell.execute_reply": "2021-04-18T17:39:50.584398Z"
        },
        "papermill": {
          "duration": 0.060722,
          "end_time": "2021-04-18T17:39:50.585177",
          "exception": false,
          "start_time": "2021-04-18T17:39:50.524455",
          "status": "completed"
        },
        "tags": [],
        "id": "organizational-discovery"
      },
      "outputs": [],
      "source": [
        "loadersq=  DataLoader(test_set, batch_size=100, shuffle = True, num_workers=4)"
      ]
    },
    {
      "cell_type": "markdown",
      "id": "precise-reverse",
      "metadata": {
        "papermill": {
          "duration": 0.040605,
          "end_time": "2021-04-18T17:39:50.667079",
          "exception": false,
          "start_time": "2021-04-18T17:39:50.626474",
          "status": "completed"
        },
        "tags": [],
        "id": "precise-reverse"
      },
      "source": [
        "**Creating a dictionary with the size of the test dataset.**"
      ]
    },
    {
      "cell_type": "code",
      "execution_count": 13,
      "id": "armed-collar",
      "metadata": {
        "execution": {
          "iopub.execute_input": "2021-04-18T17:39:50.755977Z",
          "iopub.status.busy": "2021-04-18T17:39:50.753695Z",
          "iopub.status.idle": "2021-04-18T17:39:50.760007Z",
          "shell.execute_reply": "2021-04-18T17:39:50.760457Z"
        },
        "papermill": {
          "duration": 0.052016,
          "end_time": "2021-04-18T17:39:50.760631",
          "exception": false,
          "start_time": "2021-04-18T17:39:50.708615",
          "status": "completed"
        },
        "tags": [],
        "id": "armed-collar",
        "outputId": "f417ed9f-37a1-400e-ed99-666e499f7256",
        "colab": {
          "base_uri": "https://localhost:8080/"
        }
      },
      "outputs": [
        {
          "output_type": "execute_result",
          "data": {
            "text/plain": [
              "10000"
            ]
          },
          "metadata": {},
          "execution_count": 13
        }
      ],
      "source": [
        "dataset_sizesq = len(test_set)\n",
        "dataset_sizesq"
      ]
    },
    {
      "cell_type": "markdown",
      "id": "reasonable-scanning",
      "metadata": {
        "papermill": {
          "duration": 0.041024,
          "end_time": "2021-04-18T17:39:50.845400",
          "exception": false,
          "start_time": "2021-04-18T17:39:50.804376",
          "status": "completed"
        },
        "tags": [],
        "id": "reasonable-scanning"
      },
      "source": [
        "**Similarly, we calculate the average and standard deviation for test**"
      ]
    },
    {
      "cell_type": "code",
      "execution_count": 14,
      "id": "formed-legend",
      "metadata": {
        "execution": {
          "iopub.execute_input": "2021-04-18T17:39:50.934049Z",
          "iopub.status.busy": "2021-04-18T17:39:50.933336Z",
          "iopub.status.idle": "2021-04-18T17:39:54.010386Z",
          "shell.execute_reply": "2021-04-18T17:39:54.009800Z"
        },
        "papermill": {
          "duration": 3.122459,
          "end_time": "2021-04-18T17:39:54.010532",
          "exception": false,
          "start_time": "2021-04-18T17:39:50.888073",
          "status": "completed"
        },
        "tags": [],
        "id": "formed-legend"
      },
      "outputs": [],
      "source": [
        "# num_px = dataset_sizesq*28*28\n",
        "\n",
        "\n",
        "# total_sum = 0\n",
        "# for batch in loadersq: total_sum += batch[0].sum()\n",
        "# mean = total_sum / num_px\n",
        "\n",
        "# sum_of_squared_error = 0\n",
        "# for batch in loadersq: sum_of_squared_error += ((batch[0] - mean).pow(2)).sum()\n",
        "# std = torch.sqrt(sum_of_squared_error / num_px)\n",
        "\n",
        "# mean, std"
      ]
    },
    {
      "cell_type": "markdown",
      "id": "varying-gauge",
      "metadata": {
        "papermill": {
          "duration": 0.041214,
          "end_time": "2021-04-18T17:39:54.092801",
          "exception": false,
          "start_time": "2021-04-18T17:39:54.051587",
          "status": "completed"
        },
        "tags": [],
        "id": "varying-gauge"
      },
      "source": [
        "**Predictions**"
      ]
    },
    {
      "cell_type": "code",
      "execution_count": 15,
      "id": "broken-musical",
      "metadata": {
        "execution": {
          "iopub.execute_input": "2021-04-18T17:39:54.182376Z",
          "iopub.status.busy": "2021-04-18T17:39:54.181259Z",
          "iopub.status.idle": "2021-04-18T17:40:32.538789Z",
          "shell.execute_reply": "2021-04-18T17:40:32.539376Z"
        },
        "papermill": {
          "duration": 38.406225,
          "end_time": "2021-04-18T17:40:32.539578",
          "exception": false,
          "start_time": "2021-04-18T17:39:54.133353",
          "status": "completed"
        },
        "tags": [],
        "id": "broken-musical",
        "outputId": "12a470ed-a0b4-4724-de82-c131125a1f84",
        "colab": {
          "base_uri": "https://localhost:8080/"
        }
      },
      "outputs": [
        {
          "output_type": "stream",
          "name": "stdout",
          "text": [
            "Test accuracy: 0.9177999496459961\n"
          ]
        }
      ],
      "source": [
        "corr = 0\n",
        " \n",
        "with torch.no_grad(): \n",
        "    for data in loadersq:\n",
        "        images, labels = data\n",
        "        images, labels = images.to(device), labels.to(device)\n",
        "        y_pred = model(images) \n",
        "        _, predicted = torch.max(y_pred, 1) \n",
        "        corr += torch.sum(predicted == labels.data)\n",
        " \n",
        "print(f\"Test accuracy: {corr/dataset_sizesq}\")"
      ]
    },
    {
      "cell_type": "code",
      "source": [
        "from torch.autograd import Variable\n",
        "\n",
        "def output_label(label):\n",
        "    output_mapping = {\n",
        "                 0: \"T-shirt/Top\",\n",
        "                 1: \"Trouser\",\n",
        "                 2: \"Pullover\",\n",
        "                 3: \"Dress\",\n",
        "                 4: \"Coat\", \n",
        "                 5: \"Sandal\", \n",
        "                 6: \"Shirt\",\n",
        "                 7: \"Sneaker\",\n",
        "                 8: \"Bag\",\n",
        "                 9: \"Ankle Boot\"\n",
        "                 }\n",
        "    input = (label.item() if type(label) == torch.Tensor else label)\n",
        "    return output_mapping[input]\n",
        "\n",
        "class_correct = [0. for _ in range(10)]\n",
        "total_correct = [0. for _ in range(10)]\n",
        "\n",
        "with torch.no_grad():\n",
        "    for images, labels in loadersq:\n",
        "        images, labels = images.to(device), labels.to(device)\n",
        "        test = Variable(images)\n",
        "        outputs = model(test)\n",
        "        predicted = torch.max(outputs, 1)[1]\n",
        "        c = (predicted == labels).squeeze()\n",
        "        \n",
        "        for i in range(100):\n",
        "            label = labels[i]\n",
        "            class_correct[label] += c[i].item()\n",
        "            total_correct[label] += 1\n",
        "        \n",
        "for i in range(10):\n",
        "    print(\"Accuracy of {}: {:.2f}%\".format(output_label(i), class_correct[i] * 100 / total_correct[i]))"
      ],
      "metadata": {
        "colab": {
          "base_uri": "https://localhost:8080/"
        },
        "id": "RSAGZ-6SQp-E",
        "outputId": "6f72795c-6f17-4320-f6ee-3e42f63474b2"
      },
      "id": "RSAGZ-6SQp-E",
      "execution_count": 16,
      "outputs": [
        {
          "output_type": "stream",
          "name": "stdout",
          "text": [
            "Accuracy of T-shirt/Top: 87.50%\n",
            "Accuracy of Trouser: 97.60%\n",
            "Accuracy of Pullover: 89.30%\n",
            "Accuracy of Dress: 91.30%\n",
            "Accuracy of Coat: 89.70%\n",
            "Accuracy of Sandal: 97.90%\n",
            "Accuracy of Shirt: 72.90%\n",
            "Accuracy of Sneaker: 97.00%\n",
            "Accuracy of Bag: 98.60%\n",
            "Accuracy of Ankle Boot: 96.00%\n"
          ]
        }
      ]
    },
    {
      "cell_type": "markdown",
      "id": "polished-religious",
      "metadata": {
        "papermill": {
          "duration": 0.042179,
          "end_time": "2021-04-18T17:40:32.623737",
          "exception": false,
          "start_time": "2021-04-18T17:40:32.581558",
          "status": "completed"
        },
        "tags": [],
        "id": "polished-religious"
      },
      "source": [
        "## Predict with Jury Test"
      ]
    },
    {
      "cell_type": "code",
      "source": [
        "# def resize_image(src_image, size=(128,128), bg_color='white'): \n",
        "#     from PIL import Image, ImageOps \n",
        "    \n",
        "#     # resize the image so the longest dimension matches our target size\n",
        "#     src_image.thumbnail(size, Image.ANTIALIAS)\n",
        "    \n",
        "#     # Create a new square background image\n",
        "#     new_image = Image.new(\"RGB\", size, bg_color)\n",
        "    \n",
        "#     # Paste the resized image into the center of the square background\n",
        "#     new_image.paste(src_image, (int((size[0] - src_image.size[0]) / 2), int((size[1] - src_image.size[1]) / 2)))\n",
        "  \n",
        "#     # return the resized image\n",
        "#     new_image = Image.open(src_image).convert('L')\n",
        "#     return new_image"
      ],
      "metadata": {
        "id": "IbxKfSiEKMJr"
      },
      "id": "IbxKfSiEKMJr",
      "execution_count": 17,
      "outputs": []
    },
    {
      "cell_type": "code",
      "source": [
        "import numpy as np\n",
        "import cv2\n",
        "\n",
        "def resize_to_28x28(img):\n",
        "    img_h, img_w = img.shape\n",
        "    dim_size_max = max(img.shape)\n",
        "\n",
        "    if dim_size_max == img_w:\n",
        "        im_h = (26 * img_h) // img_w\n",
        "        if im_h <= 0 or img_w <= 0:\n",
        "            print(\"Invalid Image Dimention: \", im_h, img_w, img_h)\n",
        "        tmp_img = cv2.resize(img, (26,im_h),0,0,cv2.INTER_NEAREST)\n",
        "    else:\n",
        "        im_w = (26 * img_w) // img_h\n",
        "        if im_w <= 0 or img_h <= 0:\n",
        "            print(\"Invalid Image Dimention: \", im_w, img_w, img_h)\n",
        "        tmp_img = cv2.resize(img, (im_w, 26),0,0,cv2.INTER_NEAREST)\n",
        "\n",
        "    out_img = np.zeros((28, 28), dtype=np.ubyte)\n",
        "\n",
        "    nb_h, nb_w = out_img.shape\n",
        "    na_h, na_w = tmp_img.shape\n",
        "    y_min = (nb_w) // 2 - (na_w // 2)\n",
        "    y_max = y_min + na_w\n",
        "    x_min = (nb_h) // 2 - (na_h // 2)\n",
        "    x_max = x_min + na_h\n",
        "\n",
        "    out_img[x_min:x_max, y_min:y_max] = tmp_img\n",
        "\n",
        "    return out_img\n"
      ],
      "metadata": {
        "id": "Ui48NwuFYsh4"
      },
      "id": "Ui48NwuFYsh4",
      "execution_count": 18,
      "outputs": []
    },
    {
      "cell_type": "code",
      "source": [
        "import torchvision.transforms as transforms\n",
        "import torchvision.datasets as datasets\n",
        "from torch.utils.data import DataLoader,Dataset\n",
        "from PIL import Image\n",
        "import matplotlib.pyplot as plt\n",
        "import numpy as np\n",
        "from google.colab.patches import cv2_imshow\n",
        "import torchvision.transforms as T\n",
        "\n",
        "def pre_image(image_path,model):\n",
        "   img = cv.imread(image_path, cv.IMREAD_GRAYSCALE)\n",
        "   img = resize_to_28x28(img)\n",
        "   #img = cv.bitwise_not(img)\n",
        "   cv2_imshow(img)\n",
        "   #img = Image.open(image_path)\n",
        "\n",
        "   tensor_image = T.ToTensor()(img)\n",
        "   mean = float(tensor_image.mean())\n",
        "   std = float(tensor_image.std())\n",
        "\n",
        "   transform_norm = transforms.Compose([transforms.ToTensor(),\n",
        "                                        transforms.Normalize((mean), (std)),\n",
        "                                        transforms.Resize((28,28))])\n",
        "   # get normalized image\n",
        "   img_normalized = transform_norm(img).float()\n",
        "   img_normalized = img_normalized.unsqueeze_(0)\n",
        "   # input = Variable(image_tensor)\n",
        "   img_normalized = img_normalized.to(device)\n",
        "   # print(img_normalized.shape)\n",
        "   with torch.no_grad():\n",
        "      model.eval()  \n",
        "      output =model(img_normalized)\n",
        "     # print(output)\n",
        "      index = output.data.cpu().numpy().argmax()\n",
        "      classes = ['T-shirt/Top','Trouser','PullOver','Dress','Coat','Sandal','Shirt', 'Sneaker','Bag','Ankle Bot']\n",
        "      class_name = classes[index]\n",
        "      return class_name"
      ],
      "metadata": {
        "id": "LPblennyKCbc"
      },
      "id": "LPblennyKCbc",
      "execution_count": 19,
      "outputs": []
    },
    {
      "cell_type": "code",
      "source": [
        "import numpy as np\n",
        "from google.colab import files\n",
        "import matplotlib.pyplot as plt\n",
        "import matplotlib.image as mpimg\n",
        "import matplotlib.pyplot as plt\n",
        "import matplotlib.image as mpimg\n",
        "import cv2 as cv\n",
        "%matplotlib inline\n",
        "\n",
        "uploaded = files.upload()\n",
        "\n",
        "for fn in uploaded.keys():\n",
        " \n",
        "  # predicting images\n",
        "  path = fn\n",
        "  predict_class = pre_image(fn,model)\n",
        "  print(predict_class)"
      ],
      "metadata": {
        "colab": {
          "base_uri": "https://localhost:8080/",
          "height": 119
        },
        "id": "Ik4Tx29bKET-",
        "outputId": "2bdceef3-27b1-46ca-f447-eb58c280b3ad"
      },
      "id": "Ik4Tx29bKET-",
      "execution_count": 20,
      "outputs": [
        {
          "output_type": "display_data",
          "data": {
            "text/plain": [
              "<IPython.core.display.HTML object>"
            ],
            "text/html": [
              "\n",
              "     <input type=\"file\" id=\"files-6d95dac3-f05b-49a8-ad51-c0e0a3835858\" name=\"files[]\" multiple disabled\n",
              "        style=\"border:none\" />\n",
              "     <output id=\"result-6d95dac3-f05b-49a8-ad51-c0e0a3835858\">\n",
              "      Upload widget is only available when the cell has been executed in the\n",
              "      current browser session. Please rerun this cell to enable.\n",
              "      </output>\n",
              "      <script>// Copyright 2017 Google LLC\n",
              "//\n",
              "// Licensed under the Apache License, Version 2.0 (the \"License\");\n",
              "// you may not use this file except in compliance with the License.\n",
              "// You may obtain a copy of the License at\n",
              "//\n",
              "//      http://www.apache.org/licenses/LICENSE-2.0\n",
              "//\n",
              "// Unless required by applicable law or agreed to in writing, software\n",
              "// distributed under the License is distributed on an \"AS IS\" BASIS,\n",
              "// WITHOUT WARRANTIES OR CONDITIONS OF ANY KIND, either express or implied.\n",
              "// See the License for the specific language governing permissions and\n",
              "// limitations under the License.\n",
              "\n",
              "/**\n",
              " * @fileoverview Helpers for google.colab Python module.\n",
              " */\n",
              "(function(scope) {\n",
              "function span(text, styleAttributes = {}) {\n",
              "  const element = document.createElement('span');\n",
              "  element.textContent = text;\n",
              "  for (const key of Object.keys(styleAttributes)) {\n",
              "    element.style[key] = styleAttributes[key];\n",
              "  }\n",
              "  return element;\n",
              "}\n",
              "\n",
              "// Max number of bytes which will be uploaded at a time.\n",
              "const MAX_PAYLOAD_SIZE = 100 * 1024;\n",
              "\n",
              "function _uploadFiles(inputId, outputId) {\n",
              "  const steps = uploadFilesStep(inputId, outputId);\n",
              "  const outputElement = document.getElementById(outputId);\n",
              "  // Cache steps on the outputElement to make it available for the next call\n",
              "  // to uploadFilesContinue from Python.\n",
              "  outputElement.steps = steps;\n",
              "\n",
              "  return _uploadFilesContinue(outputId);\n",
              "}\n",
              "\n",
              "// This is roughly an async generator (not supported in the browser yet),\n",
              "// where there are multiple asynchronous steps and the Python side is going\n",
              "// to poll for completion of each step.\n",
              "// This uses a Promise to block the python side on completion of each step,\n",
              "// then passes the result of the previous step as the input to the next step.\n",
              "function _uploadFilesContinue(outputId) {\n",
              "  const outputElement = document.getElementById(outputId);\n",
              "  const steps = outputElement.steps;\n",
              "\n",
              "  const next = steps.next(outputElement.lastPromiseValue);\n",
              "  return Promise.resolve(next.value.promise).then((value) => {\n",
              "    // Cache the last promise value to make it available to the next\n",
              "    // step of the generator.\n",
              "    outputElement.lastPromiseValue = value;\n",
              "    return next.value.response;\n",
              "  });\n",
              "}\n",
              "\n",
              "/**\n",
              " * Generator function which is called between each async step of the upload\n",
              " * process.\n",
              " * @param {string} inputId Element ID of the input file picker element.\n",
              " * @param {string} outputId Element ID of the output display.\n",
              " * @return {!Iterable<!Object>} Iterable of next steps.\n",
              " */\n",
              "function* uploadFilesStep(inputId, outputId) {\n",
              "  const inputElement = document.getElementById(inputId);\n",
              "  inputElement.disabled = false;\n",
              "\n",
              "  const outputElement = document.getElementById(outputId);\n",
              "  outputElement.innerHTML = '';\n",
              "\n",
              "  const pickedPromise = new Promise((resolve) => {\n",
              "    inputElement.addEventListener('change', (e) => {\n",
              "      resolve(e.target.files);\n",
              "    });\n",
              "  });\n",
              "\n",
              "  const cancel = document.createElement('button');\n",
              "  inputElement.parentElement.appendChild(cancel);\n",
              "  cancel.textContent = 'Cancel upload';\n",
              "  const cancelPromise = new Promise((resolve) => {\n",
              "    cancel.onclick = () => {\n",
              "      resolve(null);\n",
              "    };\n",
              "  });\n",
              "\n",
              "  // Wait for the user to pick the files.\n",
              "  const files = yield {\n",
              "    promise: Promise.race([pickedPromise, cancelPromise]),\n",
              "    response: {\n",
              "      action: 'starting',\n",
              "    }\n",
              "  };\n",
              "\n",
              "  cancel.remove();\n",
              "\n",
              "  // Disable the input element since further picks are not allowed.\n",
              "  inputElement.disabled = true;\n",
              "\n",
              "  if (!files) {\n",
              "    return {\n",
              "      response: {\n",
              "        action: 'complete',\n",
              "      }\n",
              "    };\n",
              "  }\n",
              "\n",
              "  for (const file of files) {\n",
              "    const li = document.createElement('li');\n",
              "    li.append(span(file.name, {fontWeight: 'bold'}));\n",
              "    li.append(span(\n",
              "        `(${file.type || 'n/a'}) - ${file.size} bytes, ` +\n",
              "        `last modified: ${\n",
              "            file.lastModifiedDate ? file.lastModifiedDate.toLocaleDateString() :\n",
              "                                    'n/a'} - `));\n",
              "    const percent = span('0% done');\n",
              "    li.appendChild(percent);\n",
              "\n",
              "    outputElement.appendChild(li);\n",
              "\n",
              "    const fileDataPromise = new Promise((resolve) => {\n",
              "      const reader = new FileReader();\n",
              "      reader.onload = (e) => {\n",
              "        resolve(e.target.result);\n",
              "      };\n",
              "      reader.readAsArrayBuffer(file);\n",
              "    });\n",
              "    // Wait for the data to be ready.\n",
              "    let fileData = yield {\n",
              "      promise: fileDataPromise,\n",
              "      response: {\n",
              "        action: 'continue',\n",
              "      }\n",
              "    };\n",
              "\n",
              "    // Use a chunked sending to avoid message size limits. See b/62115660.\n",
              "    let position = 0;\n",
              "    do {\n",
              "      const length = Math.min(fileData.byteLength - position, MAX_PAYLOAD_SIZE);\n",
              "      const chunk = new Uint8Array(fileData, position, length);\n",
              "      position += length;\n",
              "\n",
              "      const base64 = btoa(String.fromCharCode.apply(null, chunk));\n",
              "      yield {\n",
              "        response: {\n",
              "          action: 'append',\n",
              "          file: file.name,\n",
              "          data: base64,\n",
              "        },\n",
              "      };\n",
              "\n",
              "      let percentDone = fileData.byteLength === 0 ?\n",
              "          100 :\n",
              "          Math.round((position / fileData.byteLength) * 100);\n",
              "      percent.textContent = `${percentDone}% done`;\n",
              "\n",
              "    } while (position < fileData.byteLength);\n",
              "  }\n",
              "\n",
              "  // All done.\n",
              "  yield {\n",
              "    response: {\n",
              "      action: 'complete',\n",
              "    }\n",
              "  };\n",
              "}\n",
              "\n",
              "scope.google = scope.google || {};\n",
              "scope.google.colab = scope.google.colab || {};\n",
              "scope.google.colab._files = {\n",
              "  _uploadFiles,\n",
              "  _uploadFilesContinue,\n",
              "};\n",
              "})(self);\n",
              "</script> "
            ]
          },
          "metadata": {}
        },
        {
          "output_type": "stream",
          "name": "stdout",
          "text": [
            "Saving ori_mnist_11_shoes.png to ori_mnist_11_shoes.png\n"
          ]
        },
        {
          "output_type": "display_data",
          "data": {
            "text/plain": [
              "<PIL.Image.Image image mode=L size=28x28 at 0x7F407404C710>"
            ],
            "image/png": "[encoded data removed]"
          },
          "metadata": {}
        },
        {
          "output_type": "stream",
          "name": "stdout",
          "text": [
            "Ankle Bot\n"
          ]
        }
      ]
    },
    {
      "cell_type": "markdown",
      "source": [
        "## Save Model"
      ],
      "metadata": {
        "id": "Gdni9-SWcgGm"
      },
      "id": "Gdni9-SWcgGm"
    },
    {
      "cell_type": "code",
      "source": [
        "# model.cpu()\n",
        "torch.save({'arch': 'vgg',\n",
        "            'state_dict': model.state_dict()},\n",
        "            'classifier.pth')"
      ],
      "metadata": {
        "id": "F05Jhm-Zcfpk"
      },
      "id": "F05Jhm-Zcfpk",
      "execution_count": 21,
      "outputs": []
    }
  ],
  "metadata": {
    "kernelspec": {
      "display_name": "Python 3",
      "language": "python",
      "name": "python3"
    },
    "language_info": {
      "codemirror_mode": {
        "name": "ipython",
        "version": 3
      },
      "file_extension": ".py",
      "mimetype": "text/x-python",
      "name": "python",
      "nbconvert_exporter": "python",
      "pygments_lexer": "ipython3",
      "version": "3.7.9"
    },
    "papermill": {
      "default_parameters": {},
      "duration": 13498.927965,
      "end_time": "2021-04-18T17:40:33.580092",
      "environment_variables": {},
      "exception": null,
      "input_path": "__notebook__.ipynb",
      "output_path": "__notebook__.ipynb",
      "parameters": {},
      "start_time": "2021-04-18T13:55:34.652127",
      "version": "2.3.2"
    },
    "colab": {
      "provenance": [],
      "collapsed_sections": []
    },
    "accelerator": "GPU",
    "widgets": {
      "application/vnd.jupyter.widget-state+json": {
        "a5b684a021454be28944d4de02ff5871": {
          "model_module": "@jupyter-widgets/controls",
          "model_name": "HBoxModel",
          "model_module_version": "1.5.0",
          "state": {
            "_dom_classes": [],
            "_model_module": "@jupyter-widgets/controls",
            "_model_module_version": "1.5.0",
            "_model_name": "HBoxModel",
            "_view_count": null,
            "_view_module": "@jupyter-widgets/controls",
            "_view_module_version": "1.5.0",
            "_view_name": "HBoxView",
            "box_style": "",
            "children": [
              "IPY_MODEL_f994b746bf6a40f08ceea234981fd7e0",
              "IPY_MODEL_ac4673902f32420095c2de7bc37ad215",
              "IPY_MODEL_8d9f2b38cfb448dd9d5f95724a6a3a14"
            ],
            "layout": "IPY_MODEL_04b046abb9d1423bb95f15890b291c67"
          }
        },
        "f994b746bf6a40f08ceea234981fd7e0": {
          "model_module": "@jupyter-widgets/controls",
          "model_name": "HTMLModel",
          "model_module_version": "1.5.0",
          "state": {
            "_dom_classes": [],
            "_model_module": "@jupyter-widgets/controls",
            "_model_module_version": "1.5.0",
            "_model_name": "HTMLModel",
            "_view_count": null,
            "_view_module": "@jupyter-widgets/controls",
            "_view_module_version": "1.5.0",
            "_view_name": "HTMLView",
            "description": "",
            "description_tooltip": null,
            "layout": "IPY_MODEL_7927fe798a004226ba9ff11e3f3fa7c7",
            "placeholder": "​",
            "style": "IPY_MODEL_604a2c90a7c243e699e09494b4a309ae",
            "value": "100%"
          }
        },
        "ac4673902f32420095c2de7bc37ad215": {
          "model_module": "@jupyter-widgets/controls",
          "model_name": "FloatProgressModel",
          "model_module_version": "1.5.0",
          "state": {
            "_dom_classes": [],
            "_model_module": "@jupyter-widgets/controls",
            "_model_module_version": "1.5.0",
            "_model_name": "FloatProgressModel",
            "_view_count": null,
            "_view_module": "@jupyter-widgets/controls",
            "_view_module_version": "1.5.0",
            "_view_name": "ProgressView",
            "bar_style": "success",
            "description": "",
            "description_tooltip": null,
            "layout": "IPY_MODEL_c0388c9837874a1e872c740be89ce021",
            "max": 26421880,
            "min": 0,
            "orientation": "horizontal",
            "style": "IPY_MODEL_54c8c2678a8645a4b86efd0b0367642e",
            "value": 26421880
          }
        },
        "8d9f2b38cfb448dd9d5f95724a6a3a14": {
          "model_module": "@jupyter-widgets/controls",
          "model_name": "HTMLModel",
          "model_module_version": "1.5.0",
          "state": {
            "_dom_classes": [],
            "_model_module": "@jupyter-widgets/controls",
            "_model_module_version": "1.5.0",
            "_model_name": "HTMLModel",
            "_view_count": null,
            "_view_module": "@jupyter-widgets/controls",
            "_view_module_version": "1.5.0",
            "_view_name": "HTMLView",
            "description": "",
            "description_tooltip": null,
            "layout": "IPY_MODEL_34264440b0424dc7be428edae35d1c17",
            "placeholder": "​",
            "style": "IPY_MODEL_456914fca30543329a7855b12bb770ed",
            "value": " 26421880/26421880 [00:03&lt;00:00, 13385899.45it/s]"
          }
        },
        "04b046abb9d1423bb95f15890b291c67": {
          "model_module": "@jupyter-widgets/base",
          "model_name": "LayoutModel",
          "model_module_version": "1.2.0",
          "state": {
            "_model_module": "@jupyter-widgets/base",
            "_model_module_version": "1.2.0",
            "_model_name": "LayoutModel",
            "_view_count": null,
            "_view_module": "@jupyter-widgets/base",
            "_view_module_version": "1.2.0",
            "_view_name": "LayoutView",
            "align_content": null,
            "align_items": null,
            "align_self": null,
            "border": null,
            "bottom": null,
            "display": null,
            "flex": null,
            "flex_flow": null,
            "grid_area": null,
            "grid_auto_columns": null,
            "grid_auto_flow": null,
            "grid_auto_rows": null,
            "grid_column": null,
            "grid_gap": null,
            "grid_row": null,
            "grid_template_areas": null,
            "grid_template_columns": null,
            "grid_template_rows": null,
            "height": null,
            "justify_content": null,
            "justify_items": null,
            "left": null,
            "margin": null,
            "max_height": null,
            "max_width": null,
            "min_height": null,
            "min_width": null,
            "object_fit": null,
            "object_position": null,
            "order": null,
            "overflow": null,
            "overflow_x": null,
            "overflow_y": null,
            "padding": null,
            "right": null,
            "top": null,
            "visibility": null,
            "width": null
          }
        },
        "7927fe798a004226ba9ff11e3f3fa7c7": {
          "model_module": "@jupyter-widgets/base",
          "model_name": "LayoutModel",
          "model_module_version": "1.2.0",
          "state": {
            "_model_module": "@jupyter-widgets/base",
            "_model_module_version": "1.2.0",
            "_model_name": "LayoutModel",
            "_view_count": null,
            "_view_module": "@jupyter-widgets/base",
            "_view_module_version": "1.2.0",
            "_view_name": "LayoutView",
            "align_content": null,
            "align_items": null,
            "align_self": null,
            "border": null,
            "bottom": null,
            "display": null,
            "flex": null,
            "flex_flow": null,
            "grid_area": null,
            "grid_auto_columns": null,
            "grid_auto_flow": null,
            "grid_auto_rows": null,
            "grid_column": null,
            "grid_gap": null,
            "grid_row": null,
            "grid_template_areas": null,
            "grid_template_columns": null,
            "grid_template_rows": null,
            "height": null,
            "justify_content": null,
            "justify_items": null,
            "left": null,
            "margin": null,
            "max_height": null,
            "max_width": null,
            "min_height": null,
            "min_width": null,
            "object_fit": null,
            "object_position": null,
            "order": null,
            "overflow": null,
            "overflow_x": null,
            "overflow_y": null,
            "padding": null,
            "right": null,
            "top": null,
            "visibility": null,
            "width": null
          }
        },
        "604a2c90a7c243e699e09494b4a309ae": {
          "model_module": "@jupyter-widgets/controls",
          "model_name": "DescriptionStyleModel",
          "model_module_version": "1.5.0",
          "state": {
            "_model_module": "@jupyter-widgets/controls",
            "_model_module_version": "1.5.0",
            "_model_name": "DescriptionStyleModel",
            "_view_count": null,
            "_view_module": "@jupyter-widgets/base",
            "_view_module_version": "1.2.0",
            "_view_name": "StyleView",
            "description_width": ""
          }
        },
        "c0388c9837874a1e872c740be89ce021": {
          "model_module": "@jupyter-widgets/base",
          "model_name": "LayoutModel",
          "model_module_version": "1.2.0",
          "state": {
            "_model_module": "@jupyter-widgets/base",
            "_model_module_version": "1.2.0",
            "_model_name": "LayoutModel",
            "_view_count": null,
            "_view_module": "@jupyter-widgets/base",
            "_view_module_version": "1.2.0",
            "_view_name": "LayoutView",
            "align_content": null,
            "align_items": null,
            "align_self": null,
            "border": null,
            "bottom": null,
            "display": null,
            "flex": null,
            "flex_flow": null,
            "grid_area": null,
            "grid_auto_columns": null,
            "grid_auto_flow": null,
            "grid_auto_rows": null,
            "grid_column": null,
            "grid_gap": null,
            "grid_row": null,
            "grid_template_areas": null,
            "grid_template_columns": null,
            "grid_template_rows": null,
            "height": null,
            "justify_content": null,
            "justify_items": null,
            "left": null,
            "margin": null,
            "max_height": null,
            "max_width": null,
            "min_height": null,
            "min_width": null,
            "object_fit": null,
            "object_position": null,
            "order": null,
            "overflow": null,
            "overflow_x": null,
            "overflow_y": null,
            "padding": null,
            "right": null,
            "top": null,
            "visibility": null,
            "width": null
          }
        },
        "54c8c2678a8645a4b86efd0b0367642e": {
          "model_module": "@jupyter-widgets/controls",
          "model_name": "ProgressStyleModel",
          "model_module_version": "1.5.0",
          "state": {
            "_model_module": "@jupyter-widgets/controls",
            "_model_module_version": "1.5.0",
            "_model_name": "ProgressStyleModel",
            "_view_count": null,
            "_view_module": "@jupyter-widgets/base",
            "_view_module_version": "1.2.0",
            "_view_name": "StyleView",
            "bar_color": null,
            "description_width": ""
          }
        },
        "34264440b0424dc7be428edae35d1c17": {
          "model_module": "@jupyter-widgets/base",
          "model_name": "LayoutModel",
          "model_module_version": "1.2.0",
          "state": {
            "_model_module": "@jupyter-widgets/base",
            "_model_module_version": "1.2.0",
            "_model_name": "LayoutModel",
            "_view_count": null,
            "_view_module": "@jupyter-widgets/base",
            "_view_module_version": "1.2.0",
            "_view_name": "LayoutView",
            "align_content": null,
            "align_items": null,
            "align_self": null,
            "border": null,
            "bottom": null,
            "display": null,
            "flex": null,
            "flex_flow": null,
            "grid_area": null,
            "grid_auto_columns": null,
            "grid_auto_flow": null,
            "grid_auto_rows": null,
            "grid_column": null,
            "grid_gap": null,
            "grid_row": null,
            "grid_template_areas": null,
            "grid_template_columns": null,
            "grid_template_rows": null,
            "height": null,
            "justify_content": null,
            "justify_items": null,
            "left": null,
            "margin": null,
            "max_height": null,
            "max_width": null,
            "min_height": null,
            "min_width": null,
            "object_fit": null,
            "object_position": null,
            "order": null,
            "overflow": null,
            "overflow_x": null,
            "overflow_y": null,
            "padding": null,
            "right": null,
            "top": null,
            "visibility": null,
            "width": null
          }
        },
        "456914fca30543329a7855b12bb770ed": {
          "model_module": "@jupyter-widgets/controls",
          "model_name": "DescriptionStyleModel",
          "model_module_version": "1.5.0",
          "state": {
            "_model_module": "@jupyter-widgets/controls",
            "_model_module_version": "1.5.0",
            "_model_name": "DescriptionStyleModel",
            "_view_count": null,
            "_view_module": "@jupyter-widgets/base",
            "_view_module_version": "1.2.0",
            "_view_name": "StyleView",
            "description_width": ""
          }
        },
        "4b17a835e24e4fb783c798c133721eca": {
          "model_module": "@jupyter-widgets/controls",
          "model_name": "HBoxModel",
          "model_module_version": "1.5.0",
          "state": {
            "_dom_classes": [],
            "_model_module": "@jupyter-widgets/controls",
            "_model_module_version": "1.5.0",
            "_model_name": "HBoxModel",
            "_view_count": null,
            "_view_module": "@jupyter-widgets/controls",
            "_view_module_version": "1.5.0",
            "_view_name": "HBoxView",
            "box_style": "",
            "children": [
              "IPY_MODEL_2ec2e24c3a5242309b71be982017377b",
              "IPY_MODEL_93285927376e404abba71e0f2e4471a3",
              "IPY_MODEL_d7e488defce4419cba713b6e3713a898"
            ],
            "layout": "IPY_MODEL_7ac27981da5d479c9264efd4a7a529ff"
          }
        },
        "2ec2e24c3a5242309b71be982017377b": {
          "model_module": "@jupyter-widgets/controls",
          "model_name": "HTMLModel",
          "model_module_version": "1.5.0",
          "state": {
            "_dom_classes": [],
            "_model_module": "@jupyter-widgets/controls",
            "_model_module_version": "1.5.0",
            "_model_name": "HTMLModel",
            "_view_count": null,
            "_view_module": "@jupyter-widgets/controls",
            "_view_module_version": "1.5.0",
            "_view_name": "HTMLView",
            "description": "",
            "description_tooltip": null,
            "layout": "IPY_MODEL_4a2f90f3913f44fd830358d713a9a1ea",
            "placeholder": "​",
            "style": "IPY_MODEL_0cd6c92f69524cab99776d8548917bda",
            "value": "100%"
          }
        },
        "93285927376e404abba71e0f2e4471a3": {
          "model_module": "@jupyter-widgets/controls",
          "model_name": "FloatProgressModel",
          "model_module_version": "1.5.0",
          "state": {
            "_dom_classes": [],
            "_model_module": "@jupyter-widgets/controls",
            "_model_module_version": "1.5.0",
            "_model_name": "FloatProgressModel",
            "_view_count": null,
            "_view_module": "@jupyter-widgets/controls",
            "_view_module_version": "1.5.0",
            "_view_name": "ProgressView",
            "bar_style": "success",
            "description": "",
            "description_tooltip": null,
            "layout": "IPY_MODEL_29c7fcff7aeb451a9539e8e4f0e60758",
            "max": 29515,
            "min": 0,
            "orientation": "horizontal",
            "style": "IPY_MODEL_34499fff4e824a6fa14e8fccc18ec3b2",
            "value": 29515
          }
        },
        "d7e488defce4419cba713b6e3713a898": {
          "model_module": "@jupyter-widgets/controls",
          "model_name": "HTMLModel",
          "model_module_version": "1.5.0",
          "state": {
            "_dom_classes": [],
            "_model_module": "@jupyter-widgets/controls",
            "_model_module_version": "1.5.0",
            "_model_name": "HTMLModel",
            "_view_count": null,
            "_view_module": "@jupyter-widgets/controls",
            "_view_module_version": "1.5.0",
            "_view_name": "HTMLView",
            "description": "",
            "description_tooltip": null,
            "layout": "IPY_MODEL_f17135af3866407c8e1bf1cbb54d94be",
            "placeholder": "​",
            "style": "IPY_MODEL_066f185981c04009a1af86170cdef7f4",
            "value": " 29515/29515 [00:00&lt;00:00, 144148.34it/s]"
          }
        },
        "7ac27981da5d479c9264efd4a7a529ff": {
          "model_module": "@jupyter-widgets/base",
          "model_name": "LayoutModel",
          "model_module_version": "1.2.0",
          "state": {
            "_model_module": "@jupyter-widgets/base",
            "_model_module_version": "1.2.0",
            "_model_name": "LayoutModel",
            "_view_count": null,
            "_view_module": "@jupyter-widgets/base",
            "_view_module_version": "1.2.0",
            "_view_name": "LayoutView",
            "align_content": null,
            "align_items": null,
            "align_self": null,
            "border": null,
            "bottom": null,
            "display": null,
            "flex": null,
            "flex_flow": null,
            "grid_area": null,
            "grid_auto_columns": null,
            "grid_auto_flow": null,
            "grid_auto_rows": null,
            "grid_column": null,
            "grid_gap": null,
            "grid_row": null,
            "grid_template_areas": null,
            "grid_template_columns": null,
            "grid_template_rows": null,
            "height": null,
            "justify_content": null,
            "justify_items": null,
            "left": null,
            "margin": null,
            "max_height": null,
            "max_width": null,
            "min_height": null,
            "min_width": null,
            "object_fit": null,
            "object_position": null,
            "order": null,
            "overflow": null,
            "overflow_x": null,
            "overflow_y": null,
            "padding": null,
            "right": null,
            "top": null,
            "visibility": null,
            "width": null
          }
        },
        "4a2f90f3913f44fd830358d713a9a1ea": {
          "model_module": "@jupyter-widgets/base",
          "model_name": "LayoutModel",
          "model_module_version": "1.2.0",
          "state": {
            "_model_module": "@jupyter-widgets/base",
            "_model_module_version": "1.2.0",
            "_model_name": "LayoutModel",
            "_view_count": null,
            "_view_module": "@jupyter-widgets/base",
            "_view_module_version": "1.2.0",
            "_view_name": "LayoutView",
            "align_content": null,
            "align_items": null,
            "align_self": null,
            "border": null,
            "bottom": null,
            "display": null,
            "flex": null,
            "flex_flow": null,
            "grid_area": null,
            "grid_auto_columns": null,
            "grid_auto_flow": null,
            "grid_auto_rows": null,
            "grid_column": null,
            "grid_gap": null,
            "grid_row": null,
            "grid_template_areas": null,
            "grid_template_columns": null,
            "grid_template_rows": null,
            "height": null,
            "justify_content": null,
            "justify_items": null,
            "left": null,
            "margin": null,
            "max_height": null,
            "max_width": null,
            "min_height": null,
            "min_width": null,
            "object_fit": null,
            "object_position": null,
            "order": null,
            "overflow": null,
            "overflow_x": null,
            "overflow_y": null,
            "padding": null,
            "right": null,
            "top": null,
            "visibility": null,
            "width": null
          }
        },
        "0cd6c92f69524cab99776d8548917bda": {
          "model_module": "@jupyter-widgets/controls",
          "model_name": "DescriptionStyleModel",
          "model_module_version": "1.5.0",
          "state": {
            "_model_module": "@jupyter-widgets/controls",
            "_model_module_version": "1.5.0",
            "_model_name": "DescriptionStyleModel",
            "_view_count": null,
            "_view_module": "@jupyter-widgets/base",
            "_view_module_version": "1.2.0",
            "_view_name": "StyleView",
            "description_width": ""
          }
        },
        "29c7fcff7aeb451a9539e8e4f0e60758": {
          "model_module": "@jupyter-widgets/base",
          "model_name": "LayoutModel",
          "model_module_version": "1.2.0",
          "state": {
            "_model_module": "@jupyter-widgets/base",
            "_model_module_version": "1.2.0",
            "_model_name": "LayoutModel",
            "_view_count": null,
            "_view_module": "@jupyter-widgets/base",
            "_view_module_version": "1.2.0",
            "_view_name": "LayoutView",
            "align_content": null,
            "align_items": null,
            "align_self": null,
            "border": null,
            "bottom": null,
            "display": null,
            "flex": null,
            "flex_flow": null,
            "grid_area": null,
            "grid_auto_columns": null,
            "grid_auto_flow": null,
            "grid_auto_rows": null,
            "grid_column": null,
            "grid_gap": null,
            "grid_row": null,
            "grid_template_areas": null,
            "grid_template_columns": null,
            "grid_template_rows": null,
            "height": null,
            "justify_content": null,
            "justify_items": null,
            "left": null,
            "margin": null,
            "max_height": null,
            "max_width": null,
            "min_height": null,
            "min_width": null,
            "object_fit": null,
            "object_position": null,
            "order": null,
            "overflow": null,
            "overflow_x": null,
            "overflow_y": null,
            "padding": null,
            "right": null,
            "top": null,
            "visibility": null,
            "width": null
          }
        },
        "34499fff4e824a6fa14e8fccc18ec3b2": {
          "model_module": "@jupyter-widgets/controls",
          "model_name": "ProgressStyleModel",
          "model_module_version": "1.5.0",
          "state": {
            "_model_module": "@jupyter-widgets/controls",
            "_model_module_version": "1.5.0",
            "_model_name": "ProgressStyleModel",
            "_view_count": null,
            "_view_module": "@jupyter-widgets/base",
            "_view_module_version": "1.2.0",
            "_view_name": "StyleView",
            "bar_color": null,
            "description_width": ""
          }
        },
        "f17135af3866407c8e1bf1cbb54d94be": {
          "model_module": "@jupyter-widgets/base",
          "model_name": "LayoutModel",
          "model_module_version": "1.2.0",
          "state": {
            "_model_module": "@jupyter-widgets/base",
            "_model_module_version": "1.2.0",
            "_model_name": "LayoutModel",
            "_view_count": null,
            "_view_module": "@jupyter-widgets/base",
            "_view_module_version": "1.2.0",
            "_view_name": "LayoutView",
            "align_content": null,
            "align_items": null,
            "align_self": null,
            "border": null,
            "bottom": null,
            "display": null,
            "flex": null,
            "flex_flow": null,
            "grid_area": null,
            "grid_auto_columns": null,
            "grid_auto_flow": null,
            "grid_auto_rows": null,
            "grid_column": null,
            "grid_gap": null,
            "grid_row": null,
            "grid_template_areas": null,
            "grid_template_columns": null,
            "grid_template_rows": null,
            "height": null,
            "justify_content": null,
            "justify_items": null,
            "left": null,
            "margin": null,
            "max_height": null,
            "max_width": null,
            "min_height": null,
            "min_width": null,
            "object_fit": null,
            "object_position": null,
            "order": null,
            "overflow": null,
            "overflow_x": null,
            "overflow_y": null,
            "padding": null,
            "right": null,
            "top": null,
            "visibility": null,
            "width": null
          }
        },
        "066f185981c04009a1af86170cdef7f4": {
          "model_module": "@jupyter-widgets/controls",
          "model_name": "DescriptionStyleModel",
          "model_module_version": "1.5.0",
          "state": {
            "_model_module": "@jupyter-widgets/controls",
            "_model_module_version": "1.5.0",
            "_model_name": "DescriptionStyleModel",
            "_view_count": null,
            "_view_module": "@jupyter-widgets/base",
            "_view_module_version": "1.2.0",
            "_view_name": "StyleView",
            "description_width": ""
          }
        },
        "bddb7f710af644bb9cf27ecb64e78b72": {
          "model_module": "@jupyter-widgets/controls",
          "model_name": "HBoxModel",
          "model_module_version": "1.5.0",
          "state": {
            "_dom_classes": [],
            "_model_module": "@jupyter-widgets/controls",
            "_model_module_version": "1.5.0",
            "_model_name": "HBoxModel",
            "_view_count": null,
            "_view_module": "@jupyter-widgets/controls",
            "_view_module_version": "1.5.0",
            "_view_name": "HBoxView",
            "box_style": "",
            "children": [
              "IPY_MODEL_1278c2889d5548d794aedf029c6d3f14",
              "IPY_MODEL_cc0f97ccfd924d258e534404c1e8e2c9",
              "IPY_MODEL_651b9d73e43d47819902edbfab9c8092"
            ],
            "layout": "IPY_MODEL_2351cb9ed9514e389efbf699494ac814"
          }
        },
        "1278c2889d5548d794aedf029c6d3f14": {
          "model_module": "@jupyter-widgets/controls",
          "model_name": "HTMLModel",
          "model_module_version": "1.5.0",
          "state": {
            "_dom_classes": [],
            "_model_module": "@jupyter-widgets/controls",
            "_model_module_version": "1.5.0",
            "_model_name": "HTMLModel",
            "_view_count": null,
            "_view_module": "@jupyter-widgets/controls",
            "_view_module_version": "1.5.0",
            "_view_name": "HTMLView",
            "description": "",
            "description_tooltip": null,
            "layout": "IPY_MODEL_bc511f6ef142452699ec5f2f32a7ab52",
            "placeholder": "​",
            "style": "IPY_MODEL_e917b6f84a9548fc9faa3f64fbfc058c",
            "value": "100%"
          }
        },
        "cc0f97ccfd924d258e534404c1e8e2c9": {
          "model_module": "@jupyter-widgets/controls",
          "model_name": "FloatProgressModel",
          "model_module_version": "1.5.0",
          "state": {
            "_dom_classes": [],
            "_model_module": "@jupyter-widgets/controls",
            "_model_module_version": "1.5.0",
            "_model_name": "FloatProgressModel",
            "_view_count": null,
            "_view_module": "@jupyter-widgets/controls",
            "_view_module_version": "1.5.0",
            "_view_name": "ProgressView",
            "bar_style": "success",
            "description": "",
            "description_tooltip": null,
            "layout": "IPY_MODEL_a3a486602fd54590b43fa3df488beec4",
            "max": 4422102,
            "min": 0,
            "orientation": "horizontal",
            "style": "IPY_MODEL_0a7b21142d354a289a804c1a64268596",
            "value": 4422102
          }
        },
        "651b9d73e43d47819902edbfab9c8092": {
          "model_module": "@jupyter-widgets/controls",
          "model_name": "HTMLModel",
          "model_module_version": "1.5.0",
          "state": {
            "_dom_classes": [],
            "_model_module": "@jupyter-widgets/controls",
            "_model_module_version": "1.5.0",
            "_model_name": "HTMLModel",
            "_view_count": null,
            "_view_module": "@jupyter-widgets/controls",
            "_view_module_version": "1.5.0",
            "_view_name": "HTMLView",
            "description": "",
            "description_tooltip": null,
            "layout": "IPY_MODEL_e113e584721345cca6d16d5a46a024d8",
            "placeholder": "​",
            "style": "IPY_MODEL_4b45e756fd674cdb9c6a49861c802cbe",
            "value": " 4422102/4422102 [00:01&lt;00:00, 4618382.97it/s]"
          }
        },
        "2351cb9ed9514e389efbf699494ac814": {
          "model_module": "@jupyter-widgets/base",
          "model_name": "LayoutModel",
          "model_module_version": "1.2.0",
          "state": {
            "_model_module": "@jupyter-widgets/base",
            "_model_module_version": "1.2.0",
            "_model_name": "LayoutModel",
            "_view_count": null,
            "_view_module": "@jupyter-widgets/base",
            "_view_module_version": "1.2.0",
            "_view_name": "LayoutView",
            "align_content": null,
            "align_items": null,
            "align_self": null,
            "border": null,
            "bottom": null,
            "display": null,
            "flex": null,
            "flex_flow": null,
            "grid_area": null,
            "grid_auto_columns": null,
            "grid_auto_flow": null,
            "grid_auto_rows": null,
            "grid_column": null,
            "grid_gap": null,
            "grid_row": null,
            "grid_template_areas": null,
            "grid_template_columns": null,
            "grid_template_rows": null,
            "height": null,
            "justify_content": null,
            "justify_items": null,
            "left": null,
            "margin": null,
            "max_height": null,
            "max_width": null,
            "min_height": null,
            "min_width": null,
            "object_fit": null,
            "object_position": null,
            "order": null,
            "overflow": null,
            "overflow_x": null,
            "overflow_y": null,
            "padding": null,
            "right": null,
            "top": null,
            "visibility": null,
            "width": null
          }
        },
        "bc511f6ef142452699ec5f2f32a7ab52": {
          "model_module": "@jupyter-widgets/base",
          "model_name": "LayoutModel",
          "model_module_version": "1.2.0",
          "state": {
            "_model_module": "@jupyter-widgets/base",
            "_model_module_version": "1.2.0",
            "_model_name": "LayoutModel",
            "_view_count": null,
            "_view_module": "@jupyter-widgets/base",
            "_view_module_version": "1.2.0",
            "_view_name": "LayoutView",
            "align_content": null,
            "align_items": null,
            "align_self": null,
            "border": null,
            "bottom": null,
            "display": null,
            "flex": null,
            "flex_flow": null,
            "grid_area": null,
            "grid_auto_columns": null,
            "grid_auto_flow": null,
            "grid_auto_rows": null,
            "grid_column": null,
            "grid_gap": null,
            "grid_row": null,
            "grid_template_areas": null,
            "grid_template_columns": null,
            "grid_template_rows": null,
            "height": null,
            "justify_content": null,
            "justify_items": null,
            "left": null,
            "margin": null,
            "max_height": null,
            "max_width": null,
            "min_height": null,
            "min_width": null,
            "object_fit": null,
            "object_position": null,
            "order": null,
            "overflow": null,
            "overflow_x": null,
            "overflow_y": null,
            "padding": null,
            "right": null,
            "top": null,
            "visibility": null,
            "width": null
          }
        },
        "e917b6f84a9548fc9faa3f64fbfc058c": {
          "model_module": "@jupyter-widgets/controls",
          "model_name": "DescriptionStyleModel",
          "model_module_version": "1.5.0",
          "state": {
            "_model_module": "@jupyter-widgets/controls",
            "_model_module_version": "1.5.0",
            "_model_name": "DescriptionStyleModel",
            "_view_count": null,
            "_view_module": "@jupyter-widgets/base",
            "_view_module_version": "1.2.0",
            "_view_name": "StyleView",
            "description_width": ""
          }
        },
        "a3a486602fd54590b43fa3df488beec4": {
          "model_module": "@jupyter-widgets/base",
          "model_name": "LayoutModel",
          "model_module_version": "1.2.0",
          "state": {
            "_model_module": "@jupyter-widgets/base",
            "_model_module_version": "1.2.0",
            "_model_name": "LayoutModel",
            "_view_count": null,
            "_view_module": "@jupyter-widgets/base",
            "_view_module_version": "1.2.0",
            "_view_name": "LayoutView",
            "align_content": null,
            "align_items": null,
            "align_self": null,
            "border": null,
            "bottom": null,
            "display": null,
            "flex": null,
            "flex_flow": null,
            "grid_area": null,
            "grid_auto_columns": null,
            "grid_auto_flow": null,
            "grid_auto_rows": null,
            "grid_column": null,
            "grid_gap": null,
            "grid_row": null,
            "grid_template_areas": null,
            "grid_template_columns": null,
            "grid_template_rows": null,
            "height": null,
            "justify_content": null,
            "justify_items": null,
            "left": null,
            "margin": null,
            "max_height": null,
            "max_width": null,
            "min_height": null,
            "min_width": null,
            "object_fit": null,
            "object_position": null,
            "order": null,
            "overflow": null,
            "overflow_x": null,
            "overflow_y": null,
            "padding": null,
            "right": null,
            "top": null,
            "visibility": null,
            "width": null
          }
        },
        "0a7b21142d354a289a804c1a64268596": {
          "model_module": "@jupyter-widgets/controls",
          "model_name": "ProgressStyleModel",
          "model_module_version": "1.5.0",
          "state": {
            "_model_module": "@jupyter-widgets/controls",
            "_model_module_version": "1.5.0",
            "_model_name": "ProgressStyleModel",
            "_view_count": null,
            "_view_module": "@jupyter-widgets/base",
            "_view_module_version": "1.2.0",
            "_view_name": "StyleView",
            "bar_color": null,
            "description_width": ""
          }
        },
        "e113e584721345cca6d16d5a46a024d8": {
          "model_module": "@jupyter-widgets/base",
          "model_name": "LayoutModel",
          "model_module_version": "1.2.0",
          "state": {
            "_model_module": "@jupyter-widgets/base",
            "_model_module_version": "1.2.0",
            "_model_name": "LayoutModel",
            "_view_count": null,
            "_view_module": "@jupyter-widgets/base",
            "_view_module_version": "1.2.0",
            "_view_name": "LayoutView",
            "align_content": null,
            "align_items": null,
            "align_self": null,
            "border": null,
            "bottom": null,
            "display": null,
            "flex": null,
            "flex_flow": null,
            "grid_area": null,
            "grid_auto_columns": null,
            "grid_auto_flow": null,
            "grid_auto_rows": null,
            "grid_column": null,
            "grid_gap": null,
            "grid_row": null,
            "grid_template_areas": null,
            "grid_template_columns": null,
            "grid_template_rows": null,
            "height": null,
            "justify_content": null,
            "justify_items": null,
            "left": null,
            "margin": null,
            "max_height": null,
            "max_width": null,
            "min_height": null,
            "min_width": null,
            "object_fit": null,
            "object_position": null,
            "order": null,
            "overflow": null,
            "overflow_x": null,
            "overflow_y": null,
            "padding": null,
            "right": null,
            "top": null,
            "visibility": null,
            "width": null
          }
        },
        "4b45e756fd674cdb9c6a49861c802cbe": {
          "model_module": "@jupyter-widgets/controls",
          "model_name": "DescriptionStyleModel",
          "model_module_version": "1.5.0",
          "state": {
            "_model_module": "@jupyter-widgets/controls",
            "_model_module_version": "1.5.0",
            "_model_name": "DescriptionStyleModel",
            "_view_count": null,
            "_view_module": "@jupyter-widgets/base",
            "_view_module_version": "1.2.0",
            "_view_name": "StyleView",
            "description_width": ""
          }
        },
        "7de8d711e8eb4c2fa4ce39c4df55f516": {
          "model_module": "@jupyter-widgets/controls",
          "model_name": "HBoxModel",
          "model_module_version": "1.5.0",
          "state": {
            "_dom_classes": [],
            "_model_module": "@jupyter-widgets/controls",
            "_model_module_version": "1.5.0",
            "_model_name": "HBoxModel",
            "_view_count": null,
            "_view_module": "@jupyter-widgets/controls",
            "_view_module_version": "1.5.0",
            "_view_name": "HBoxView",
            "box_style": "",
            "children": [
              "IPY_MODEL_4946e60792c54e6ea2e3bb3d67b20d0c",
              "IPY_MODEL_53c6747903a8481fb3366489a86699fc",
              "IPY_MODEL_31102f7fca5d457a88dd740a25bcfd5f"
            ],
            "layout": "IPY_MODEL_54676cae24544820990c0294f01c51a2"
          }
        },
        "4946e60792c54e6ea2e3bb3d67b20d0c": {
          "model_module": "@jupyter-widgets/controls",
          "model_name": "HTMLModel",
          "model_module_version": "1.5.0",
          "state": {
            "_dom_classes": [],
            "_model_module": "@jupyter-widgets/controls",
            "_model_module_version": "1.5.0",
            "_model_name": "HTMLModel",
            "_view_count": null,
            "_view_module": "@jupyter-widgets/controls",
            "_view_module_version": "1.5.0",
            "_view_name": "HTMLView",
            "description": "",
            "description_tooltip": null,
            "layout": "IPY_MODEL_2b0447ecda0d424795f2dbccf3ddea68",
            "placeholder": "​",
            "style": "IPY_MODEL_bf7bd3927bc94a3fa8128e94fd0afc51",
            "value": "100%"
          }
        },
        "53c6747903a8481fb3366489a86699fc": {
          "model_module": "@jupyter-widgets/controls",
          "model_name": "FloatProgressModel",
          "model_module_version": "1.5.0",
          "state": {
            "_dom_classes": [],
            "_model_module": "@jupyter-widgets/controls",
            "_model_module_version": "1.5.0",
            "_model_name": "FloatProgressModel",
            "_view_count": null,
            "_view_module": "@jupyter-widgets/controls",
            "_view_module_version": "1.5.0",
            "_view_name": "ProgressView",
            "bar_style": "success",
            "description": "",
            "description_tooltip": null,
            "layout": "IPY_MODEL_0a9e5e4704594501b834935ea009b54c",
            "max": 5148,
            "min": 0,
            "orientation": "horizontal",
            "style": "IPY_MODEL_57b774b760604b908724ebc933f6e966",
            "value": 5148
          }
        },
        "31102f7fca5d457a88dd740a25bcfd5f": {
          "model_module": "@jupyter-widgets/controls",
          "model_name": "HTMLModel",
          "model_module_version": "1.5.0",
          "state": {
            "_dom_classes": [],
            "_model_module": "@jupyter-widgets/controls",
            "_model_module_version": "1.5.0",
            "_model_name": "HTMLModel",
            "_view_count": null,
            "_view_module": "@jupyter-widgets/controls",
            "_view_module_version": "1.5.0",
            "_view_name": "HTMLView",
            "description": "",
            "description_tooltip": null,
            "layout": "IPY_MODEL_8efd3930e42f437b9d35154943b6326a",
            "placeholder": "​",
            "style": "IPY_MODEL_4a8bc9bf40a24b67993bd0a9e0730d75",
            "value": " 5148/5148 [00:00&lt;00:00, 171493.86it/s]"
          }
        },
        "54676cae24544820990c0294f01c51a2": {
          "model_module": "@jupyter-widgets/base",
          "model_name": "LayoutModel",
          "model_module_version": "1.2.0",
          "state": {
            "_model_module": "@jupyter-widgets/base",
            "_model_module_version": "1.2.0",
            "_model_name": "LayoutModel",
            "_view_count": null,
            "_view_module": "@jupyter-widgets/base",
            "_view_module_version": "1.2.0",
            "_view_name": "LayoutView",
            "align_content": null,
            "align_items": null,
            "align_self": null,
            "border": null,
            "bottom": null,
            "display": null,
            "flex": null,
            "flex_flow": null,
            "grid_area": null,
            "grid_auto_columns": null,
            "grid_auto_flow": null,
            "grid_auto_rows": null,
            "grid_column": null,
            "grid_gap": null,
            "grid_row": null,
            "grid_template_areas": null,
            "grid_template_columns": null,
            "grid_template_rows": null,
            "height": null,
            "justify_content": null,
            "justify_items": null,
            "left": null,
            "margin": null,
            "max_height": null,
            "max_width": null,
            "min_height": null,
            "min_width": null,
            "object_fit": null,
            "object_position": null,
            "order": null,
            "overflow": null,
            "overflow_x": null,
            "overflow_y": null,
            "padding": null,
            "right": null,
            "top": null,
            "visibility": null,
            "width": null
          }
        },
        "2b0447ecda0d424795f2dbccf3ddea68": {
          "model_module": "@jupyter-widgets/base",
          "model_name": "LayoutModel",
          "model_module_version": "1.2.0",
          "state": {
            "_model_module": "@jupyter-widgets/base",
            "_model_module_version": "1.2.0",
            "_model_name": "LayoutModel",
            "_view_count": null,
            "_view_module": "@jupyter-widgets/base",
            "_view_module_version": "1.2.0",
            "_view_name": "LayoutView",
            "align_content": null,
            "align_items": null,
            "align_self": null,
            "border": null,
            "bottom": null,
            "display": null,
            "flex": null,
            "flex_flow": null,
            "grid_area": null,
            "grid_auto_columns": null,
            "grid_auto_flow": null,
            "grid_auto_rows": null,
            "grid_column": null,
            "grid_gap": null,
            "grid_row": null,
            "grid_template_areas": null,
            "grid_template_columns": null,
            "grid_template_rows": null,
            "height": null,
            "justify_content": null,
            "justify_items": null,
            "left": null,
            "margin": null,
            "max_height": null,
            "max_width": null,
            "min_height": null,
            "min_width": null,
            "object_fit": null,
            "object_position": null,
            "order": null,
            "overflow": null,
            "overflow_x": null,
            "overflow_y": null,
            "padding": null,
            "right": null,
            "top": null,
            "visibility": null,
            "width": null
          }
        },
        "bf7bd3927bc94a3fa8128e94fd0afc51": {
          "model_module": "@jupyter-widgets/controls",
          "model_name": "DescriptionStyleModel",
          "model_module_version": "1.5.0",
          "state": {
            "_model_module": "@jupyter-widgets/controls",
            "_model_module_version": "1.5.0",
            "_model_name": "DescriptionStyleModel",
            "_view_count": null,
            "_view_module": "@jupyter-widgets/base",
            "_view_module_version": "1.2.0",
            "_view_name": "StyleView",
            "description_width": ""
          }
        },
        "0a9e5e4704594501b834935ea009b54c": {
          "model_module": "@jupyter-widgets/base",
          "model_name": "LayoutModel",
          "model_module_version": "1.2.0",
          "state": {
            "_model_module": "@jupyter-widgets/base",
            "_model_module_version": "1.2.0",
            "_model_name": "LayoutModel",
            "_view_count": null,
            "_view_module": "@jupyter-widgets/base",
            "_view_module_version": "1.2.0",
            "_view_name": "LayoutView",
            "align_content": null,
            "align_items": null,
            "align_self": null,
            "border": null,
            "bottom": null,
            "display": null,
            "flex": null,
            "flex_flow": null,
            "grid_area": null,
            "grid_auto_columns": null,
            "grid_auto_flow": null,
            "grid_auto_rows": null,
            "grid_column": null,
            "grid_gap": null,
            "grid_row": null,
            "grid_template_areas": null,
            "grid_template_columns": null,
            "grid_template_rows": null,
            "height": null,
            "justify_content": null,
            "justify_items": null,
            "left": null,
            "margin": null,
            "max_height": null,
            "max_width": null,
            "min_height": null,
            "min_width": null,
            "object_fit": null,
            "object_position": null,
            "order": null,
            "overflow": null,
            "overflow_x": null,
            "overflow_y": null,
            "padding": null,
            "right": null,
            "top": null,
            "visibility": null,
            "width": null
          }
        },
        "57b774b760604b908724ebc933f6e966": {
          "model_module": "@jupyter-widgets/controls",
          "model_name": "ProgressStyleModel",
          "model_module_version": "1.5.0",
          "state": {
            "_model_module": "@jupyter-widgets/controls",
            "_model_module_version": "1.5.0",
            "_model_name": "ProgressStyleModel",
            "_view_count": null,
            "_view_module": "@jupyter-widgets/base",
            "_view_module_version": "1.2.0",
            "_view_name": "StyleView",
            "bar_color": null,
            "description_width": ""
          }
        },
        "8efd3930e42f437b9d35154943b6326a": {
          "model_module": "@jupyter-widgets/base",
          "model_name": "LayoutModel",
          "model_module_version": "1.2.0",
          "state": {
            "_model_module": "@jupyter-widgets/base",
            "_model_module_version": "1.2.0",
            "_model_name": "LayoutModel",
            "_view_count": null,
            "_view_module": "@jupyter-widgets/base",
            "_view_module_version": "1.2.0",
            "_view_name": "LayoutView",
            "align_content": null,
            "align_items": null,
            "align_self": null,
            "border": null,
            "bottom": null,
            "display": null,
            "flex": null,
            "flex_flow": null,
            "grid_area": null,
            "grid_auto_columns": null,
            "grid_auto_flow": null,
            "grid_auto_rows": null,
            "grid_column": null,
            "grid_gap": null,
            "grid_row": null,
            "grid_template_areas": null,
            "grid_template_columns": null,
            "grid_template_rows": null,
            "height": null,
            "justify_content": null,
            "justify_items": null,
            "left": null,
            "margin": null,
            "max_height": null,
            "max_width": null,
            "min_height": null,
            "min_width": null,
            "object_fit": null,
            "object_position": null,
            "order": null,
            "overflow": null,
            "overflow_x": null,
            "overflow_y": null,
            "padding": null,
            "right": null,
            "top": null,
            "visibility": null,
            "width": null
          }
        },
        "4a8bc9bf40a24b67993bd0a9e0730d75": {
          "model_module": "@jupyter-widgets/controls",
          "model_name": "DescriptionStyleModel",
          "model_module_version": "1.5.0",
          "state": {
            "_model_module": "@jupyter-widgets/controls",
            "_model_module_version": "1.5.0",
            "_model_name": "DescriptionStyleModel",
            "_view_count": null,
            "_view_module": "@jupyter-widgets/base",
            "_view_module_version": "1.2.0",
            "_view_name": "StyleView",
            "description_width": ""
          }
        }
      }
    },
    "gpuClass": "standard"
  },
  "nbformat": 4,
  "nbformat_minor": 5
}